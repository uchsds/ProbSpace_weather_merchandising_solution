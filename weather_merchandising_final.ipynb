{
 "cells": [
  {
   "cell_type": "code",
   "execution_count": null,
   "id": "aec2d417",
   "metadata": {},
   "outputs": [],
   "source": [
    "import warnings\n",
    "warnings.filterwarnings('ignore')\n",
    "import pandas as pd\n",
    "import numpy as np\n",
    "import scipy as sp\n",
    "import datetime\n",
    "import matplotlib.pyplot as plt\n",
    "import statsmodels.api as sm\n",
    "from statsmodels.regression.quantile_regression import QuantReg\n",
    "from sklearn.metrics import mean_absolute_error\n",
    "from sklearn.model_selection import ShuffleSplit\n",
    "import lightgbm as lgb\n",
    "from sklearn.preprocessing import StandardScaler\n",
    "import seaborn as sns\n",
    "from scipy import linalg\n",
    "from sklearn.linear_model import LinearRegression\n",
    "import calendar\n",
    "from sklearn.model_selection import train_test_split\n",
    "\n",
    "from xgboost import XGBRegressor as XGBR\n",
    "from sklearn.model_selection import GridSearchCV\n",
    "\n",
    "from sklearn.ensemble import RandomForestRegressor as RFR"
   ]
  },
  {
   "cell_type": "code",
   "execution_count": null,
   "id": "44d2d79c",
   "metadata": {},
   "outputs": [],
   "source": [
    "#データの確認\n",
    "df_train = pd.read_csv(\"train_data.csv\")\n",
    "df_test = pd.read_csv(\"test_data.csv\")\n",
    "display(df_train.head(3))\n",
    "#print(df_train.dtypes)\n",
    "display(df_test.head(3))\n",
    "#print(df_test.dtypes)"
   ]
  },
  {
   "cell_type": "code",
   "execution_count": null,
   "id": "2fe8e18b",
   "metadata": {},
   "outputs": [],
   "source": [
    "#特徴量作成\n",
    "\n",
    "#train\n",
    "#年月日を含む日付に変更\n",
    "D=pd.date_range(\"20180411\", \"20190326\")\n",
    "df_date = pd.DataFrame(D)\n",
    "df_train[\"date\"]=df_date\n",
    "df_train[\"year\"] = df_train[\"date\"].dt.year\n",
    "df_train[\"month\"] = df_train[\"date\"].dt.month\n",
    "df_train[\"day\"] = df_train[\"date\"].dt.day\n",
    "#曜日\n",
    "week = []\n",
    "for i in range(len(df_train)):\n",
    "    week.append(D[i].weekday())\n",
    "df_week = pd.DataFrame(week)\n",
    "df_train[\"week\"]=df_week\n",
    "\n",
    "#test\n",
    "#年月日を含む日付に変更\n",
    "D=pd.date_range(\"20190327\", \"20190416\")\n",
    "df_date = pd.DataFrame(D)\n",
    "df_test[\"date\"]=df_date\n",
    "df_test[\"year\"] = df_test[\"date\"].dt.year\n",
    "df_test[\"month\"] = df_test[\"date\"].dt.month\n",
    "df_test[\"day\"] = df_test[\"date\"].dt.day\n",
    "#曜日を反映\n",
    "week = []\n",
    "for i in range(len(df_test)):\n",
    "    week.append(D[i].weekday())\n",
    "df_week = pd.DataFrame(week)\n",
    "df_test[\"week\"]=df_week"
   ]
  },
  {
   "cell_type": "markdown",
   "id": "46f368a3",
   "metadata": {},
   "source": [
    "# ice"
   ]
  },
  {
   "cell_type": "code",
   "execution_count": null,
   "id": "5546cf4d",
   "metadata": {},
   "outputs": [],
   "source": [
    "# 最高気温に対してプロット\n",
    "plt.figure(figsize=(15, 4))\n",
    "for i in range(3):\n",
    "    plt.subplot(1,3,i+1)    \n",
    "    plt.scatter(df_train[\"highest\"],df_train[\"ice\"+str(i+1)],label=\"ice\"+str(i+1))\n",
    "    plt.plot([min(df_test[\"highest\"]),min(df_test[\"highest\"])],[0,max(df_train[\"ice\"+str(i+1)])],color = \"red\", label = \"test_range\")\n",
    "    plt.plot([max(df_test[\"highest\"]),max(df_test[\"highest\"])],[0,max(df_train[\"ice\"+str(i+1)])],color = \"red\")\n",
    "    plt.xlabel(\"highest\")\n",
    "    plt.ylabel(\"ice\"+str(i+1))\n",
    "    plt.legend()"
   ]
  },
  {
   "cell_type": "code",
   "execution_count": null,
   "id": "13f05a76",
   "metadata": {
    "scrolled": false
   },
   "outputs": [],
   "source": [
    "# テストデータの範囲にフォーカス\n",
    "plt.figure(figsize=(15, 4))\n",
    "for i in range(3):\n",
    "    plt.subplot(1,3,i+1)    \n",
    "    plt.scatter(df_train[\"highest\"][(df_train[\"highest\"] >= min(df_test[\"highest\"])) & (df_train[\"highest\"] <= max(df_test[\"highest\"]))],\n",
    "                 df_train[\"ice\"+str(i+1)][(df_train[\"highest\"] >= min(df_test[\"highest\"])) & (df_train[\"highest\"] <= max(df_test[\"highest\"]))],label=\"ice\"+str(i+1))\n",
    "    plt.xlabel(\"highest\")\n",
    "    plt.ylabel(\"ice\"+str(i+1))\n",
    "    plt.legend()"
   ]
  },
  {
   "cell_type": "markdown",
   "id": "7477493d",
   "metadata": {},
   "source": [
    "### テスト範囲にフォーカスすれば線形回帰でいけそう"
   ]
  },
  {
   "cell_type": "code",
   "execution_count": null,
   "id": "b30ab493",
   "metadata": {},
   "outputs": [],
   "source": [
    "# 線形単回帰\n",
    "def simple_regression(predictor_variable, x, y, test_x):\n",
    "#    x = x.reshape(-1,1)\n",
    "#    y = y.reshape(-1,1)\n",
    "#    test_x = test_x.reshape(-1,1)\n",
    "    \n",
    "    model_lr = LinearRegression()\n",
    "    model_lr.fit(x, y)\n",
    "    pred_train = model_lr.predict(x)\n",
    "    \n",
    "    plt.figure(figsize=(15, 4))\n",
    "    plt.subplot(1,3,1)\n",
    "    plt.scatter(x, y)\n",
    "    plt.plot(x, model_lr.predict(x), linestyle=\"solid\")\n",
    "    \n",
    "    #分位点検量線\n",
    "    cmap = plt.cm.viridis(np.linspace(0., 1., 5))\n",
    " \n",
    "    X = sm.add_constant(pred_train)\n",
    "    model = QuantReg(y, X)\n",
    "    \n",
    "    taus = np.array([0.01, 0.1, 0.5, 0.9, 0.99])\n",
    "    m = len(taus) \n",
    "    N = len(y)\n",
    "    Y = np.zeros((m, N))\n",
    " \n",
    "    for i in range(m):    \n",
    "        results = model.fit(q=taus[i])\n",
    "        y_hat = X @ results.params\n",
    "        Y[i] = y_hat\n",
    " \n",
    "    plt.subplot(1,3,2)    \n",
    "    plt.scatter(pred_train, y, color = \"gray\")\n",
    "    for i in range(m):\n",
    "        plt.plot([min(pred_train), max(pred_train)], [min(Y[i]), max(Y[i])], linewidth=2,\n",
    "                  color=cmap[i], label=r\"$\\tau=$\"+str(taus[i]))\n",
    "    plt.xlabel(\"pred_train\")\n",
    "    plt.ylabel(\"y\")\n",
    "    plt.legend()\n",
    "    \n",
    "    #テストデータ予測\n",
    "    pred_test = model_lr.predict(test_x)\n",
    "    X = sm.add_constant(pred_test)\n",
    "\n",
    "    Y2 = np.zeros((m, len(X)))\n",
    "\n",
    "    for i in range(m):    \n",
    "        results = model.fit(q=taus[i])\n",
    "        y_hat = X @ results.params\n",
    "        Y2[i] = y_hat\n",
    "\n",
    "    plt.subplot(1,3,3)    \n",
    "    plt.scatter(x, y, color = \"gray\")\n",
    "\n",
    "    for i in range(m):\n",
    "        plt.scatter(test_x, Y2[i], color=cmap[i], label=r\"$\\tau=$\"+str(taus[i]))\n",
    "\n",
    "    plt.legend()\n",
    "    \n",
    "    #結果をテストデータに追加\n",
    "    for i in range(m):\n",
    "        df_test[predictor_variable+\"_\"+str(taus[i])]=Y2[i]\n",
    "        \n",
    "    return Y2,model_lr"
   ]
  },
  {
   "cell_type": "code",
   "execution_count": null,
   "id": "87363193",
   "metadata": {},
   "outputs": [],
   "source": [
    "# ice1(外れ値除去)\n",
    "x = df_train[[\"highest\"]][(df_train[\"highest\"] >= min(df_test[\"highest\"])) & (df_train[\"highest\"] <= max(df_test[\"highest\"])) & (df_train[\"ice1\"] < 27)]\n",
    "y = df_train[[\"ice1\"]][(df_train[\"highest\"] >= min(df_test[\"highest\"])) & (df_train[\"highest\"] <= max(df_test[\"highest\"])) & (df_train[\"ice1\"] < 27)]\n",
    "test_x = df_test[[\"highest\"]]\n",
    "\n",
    "ice1 = simple_regression(\"ice1\", x, y, test_x)"
   ]
  },
  {
   "cell_type": "code",
   "execution_count": null,
   "id": "f198b7e1",
   "metadata": {},
   "outputs": [],
   "source": [
    "# ice2\n",
    "x = df_train[[\"highest\"]][(df_train[\"highest\"] >= min(df_test[\"highest\"])) & (df_train[\"highest\"] <= max(df_test[\"highest\"]))]\n",
    "y = df_train[[\"ice2\"]][(df_train[\"highest\"] >= min(df_test[\"highest\"])) & (df_train[\"highest\"] <= max(df_test[\"highest\"]))]\n",
    "test_x = df_test[[\"highest\"]]\n",
    "\n",
    "ice2 = simple_regression(\"ice2\", x, y, test_x)"
   ]
  },
  {
   "cell_type": "code",
   "execution_count": null,
   "id": "9c672d70",
   "metadata": {},
   "outputs": [],
   "source": [
    "# ice3\n",
    "x = df_train[[\"highest\"]][(df_train[\"highest\"] >= min(df_test[\"highest\"])) & (df_train[\"highest\"] <= max(df_test[\"highest\"]))]\n",
    "y = df_train[[\"ice3\"]][(df_train[\"highest\"] >= min(df_test[\"highest\"])) & (df_train[\"highest\"] <= max(df_test[\"highest\"]))]\n",
    "test_x = df_test[[\"highest\"]]\n",
    "\n",
    "ice3 = simple_regression(\"ice3\", x, y, test_x)"
   ]
  },
  {
   "cell_type": "markdown",
   "id": "4f09517a",
   "metadata": {},
   "source": [
    "# oden"
   ]
  },
  {
   "cell_type": "code",
   "execution_count": null,
   "id": "fd4c8a0c",
   "metadata": {},
   "outputs": [],
   "source": [
    "#dateに対してプロット\n",
    "plt.figure(figsize=(20, 8))\n",
    "for i in range(4):\n",
    "    plt.subplot(2,2,i+1)    \n",
    "    plt.scatter(df_train[\"date\"],df_train[\"oden\"+str(i+1)],label=\"oden\"+str(i+1))\n",
    "    plt.xlabel(\"date\")\n",
    "    plt.ylabel(\"oden\"+str(i+1))\n",
    "#7,8,9月は販売していない"
   ]
  },
  {
   "cell_type": "code",
   "execution_count": null,
   "id": "c6b2a0d4",
   "metadata": {},
   "outputs": [],
   "source": [
    "#最低気温に対してプロット(販売していない時期は除外)\n",
    "plt.figure(figsize=(20, 4))\n",
    "for i in range(4):\n",
    "    plt.subplot(1,4,i+1)    \n",
    "    plt.scatter(df_train[\"lowest\"][(df_train[\"month\"] != 7)&(df_train[\"month\"] != 8)&(df_train[\"month\"] != 9)],df_train[\"oden\"+str(i+1)][(df_train[\"month\"] != 7)&(df_train[\"month\"] != 8)&(df_train[\"month\"] != 9)],label=\"oden\"+str(i+1))\n",
    "    plt.scatter(df_train[\"lowest\"][(df_train[\"month\"] != 7)&(df_train[\"month\"] != 8)&(df_train[\"month\"] != 9)],2*df_train[\"oden\"+str(i+1)][(df_train[\"month\"] != 7)&(df_train[\"month\"] != 8)&(df_train[\"month\"] != 9)],label=\"oden\"+str(i+1)+\"x2\", alpha=0.1)\n",
    "    plt.plot([min(df_test[\"lowest\"]),min(df_test[\"lowest\"])],[0,max(df_train[\"oden\"+str(i+1)])],color = \"red\")\n",
    "    plt.plot([max(df_test[\"lowest\"]),max(df_test[\"lowest\"])],[0,max(df_train[\"oden\"+str(i+1)])],color = \"red\")\n",
    "    plt.xlabel(\"lowest\")\n",
    "    plt.ylabel(\"oden\"+str(i+1))\n",
    "    plt.ylim(0,max(df_train[\"oden\"+str(i+1)])+10)\n",
    "    plt.legend()"
   ]
  },
  {
   "cell_type": "code",
   "execution_count": null,
   "id": "6dd6d5e9",
   "metadata": {
    "scrolled": true
   },
   "outputs": [],
   "source": [
    "# テストデータの範囲にフォーカス\n",
    "plt.figure(figsize=(20, 4))\n",
    "for i in range(4):\n",
    "    plt.subplot(1,4,i+1)    \n",
    "    plt.scatter(df_train[\"lowest\"][(df_train[\"lowest\"] >= min(df_test[\"lowest\"])) & (df_train[\"lowest\"] <= max(df_test[\"lowest\"]))],\n",
    "                 df_train[\"oden\"+str(i+1)][(df_train[\"lowest\"] >= min(df_test[\"lowest\"])) & (df_train[\"lowest\"] <= max(df_test[\"lowest\"]))],label=\"ice\"+str(i+1))\n",
    "    plt.scatter(df_train[\"lowest\"][(df_train[\"lowest\"] >= min(df_test[\"lowest\"])) & (df_train[\"lowest\"] <= max(df_test[\"lowest\"]))],\n",
    "                 2*df_train[\"oden\"+str(i+1)][(df_train[\"lowest\"] >= min(df_test[\"lowest\"])) & (df_train[\"lowest\"] <= max(df_test[\"lowest\"]))],label=\"ice\"+str(i+1)+\"x2\", alpha=0.1)\n",
    "    plt.xlabel(\"lowest\")\n",
    "    plt.ylabel(\"oden\"+str(i+1))\n",
    "    plt.legend()"
   ]
  },
  {
   "cell_type": "markdown",
   "id": "53b57d5b",
   "metadata": {},
   "source": [
    "### ～10℃、10～20℃、20℃～で傾きが違うが、線形回帰で行けそう\n",
    "### 上側にばらつくときがある、その大きさは上限の2倍"
   ]
  },
  {
   "cell_type": "code",
   "execution_count": null,
   "id": "770731fe",
   "metadata": {},
   "outputs": [],
   "source": [
    "# oden1\n",
    "x_10 = df_train[[\"lowest\"]][df_train[\"lowest\"] <= 9.5]\n",
    "y_10 = df_train[[\"oden1\"]][df_train[\"lowest\"] <= 9.5]\n",
    "#plt.scatter(x_10, y_10)\n",
    "x_20 = df_train[[\"lowest\"]][(df_train[\"lowest\"] >= 10) & (df_train[\"lowest\"] <= 14.5) & (df_train[\"month\"] != 7)&(df_train[\"month\"] != 8)&(df_train[\"month\"] != 9)]\n",
    "y_20 = df_train[[\"oden1\"]][(df_train[\"lowest\"] >= 10) & (df_train[\"lowest\"] <= 14.5) & (df_train[\"month\"] != 7)&(df_train[\"month\"] != 8)&(df_train[\"month\"] != 9)]\n",
    "#plt.scatter(x_20, y_20)"
   ]
  },
  {
   "cell_type": "code",
   "execution_count": null,
   "id": "f040c7cf",
   "metadata": {},
   "outputs": [],
   "source": [
    "test_x = df_test[[\"lowest\"]]\n",
    "\n",
    "oden1_10 = simple_regression(\"oden1\", x_10, y_10, test_x) #10℃以下のモデル\n",
    "oden1_20 = simple_regression(\"oden1\", x_20, y_20, test_x) #10～20℃のモデル"
   ]
  },
  {
   "cell_type": "code",
   "execution_count": null,
   "id": "cd0d2d66",
   "metadata": {},
   "outputs": [],
   "source": [
    "#testデータ予測\n",
    "list = [\"0.01\", \"0.1\", \"0.5\", \"0.9\", \"0.99\"]\n",
    "\n",
    "for i in range(len(df_test)):\n",
    "    for j in range(5):\n",
    "        if df_test[\"lowest\"][i] < 10:\n",
    "            df_test[\"oden1_\" + list[j]][i] = oden1_10[0][j][i]\n",
    "        elif df_test[\"lowest\"][i] >= 10:\n",
    "            df_test[\"oden1_\" + list[j]][i] = oden1_20[0][j][i]\n",
    "\n",
    "df_test[\"oden1_0.99\"] = 2*df_test[\"oden1_0.99\"]\n",
    "\n",
    "plt.scatter(df_test[\"lowest\"],df_test[\"oden1_0.01\"])\n",
    "plt.scatter(df_test[\"lowest\"],df_test[\"oden1_0.1\"])\n",
    "plt.scatter(df_test[\"lowest\"],df_test[\"oden1_0.5\"])\n",
    "plt.scatter(df_test[\"lowest\"],df_test[\"oden1_0.9\"])\n",
    "plt.scatter(df_test[\"lowest\"],df_test[\"oden1_0.99\"])"
   ]
  },
  {
   "cell_type": "code",
   "execution_count": null,
   "id": "9589db57",
   "metadata": {},
   "outputs": [],
   "source": [
    "# oden2\n",
    "x_10 = df_train[[\"lowest\"]][(df_train[\"lowest\"] <= 10) & (df_train[\"oden2\"] <= 150)]\n",
    "y_10 = df_train[[\"oden2\"]][(df_train[\"lowest\"] <= 10) & (df_train[\"oden2\"] <= 150)]\n",
    "#plt.scatter(x_10, y_10)\n",
    "x_20 = df_train[[\"lowest\"]][(df_train[\"lowest\"] >= 10) & (df_train[\"lowest\"] <= 15) & (df_train[\"month\"] != 7)&(df_train[\"month\"] != 8)&(df_train[\"month\"] != 9)]\n",
    "y_20 = df_train[[\"oden2\"]][(df_train[\"lowest\"] >= 10) & (df_train[\"lowest\"] <= 15) & (df_train[\"month\"] != 7)&(df_train[\"month\"] != 8)&(df_train[\"month\"] != 9)]\n",
    "#plt.scatter(x_20, y_20)"
   ]
  },
  {
   "cell_type": "code",
   "execution_count": null,
   "id": "2dc8d58a",
   "metadata": {},
   "outputs": [],
   "source": [
    "test_x = df_test[[\"lowest\"]]\n",
    "\n",
    "oden2_10 = simple_regression(\"oden2\", x_10, y_10, test_x)\n",
    "oden2_20 = simple_regression(\"oden2\", x_20, y_20, test_x)"
   ]
  },
  {
   "cell_type": "code",
   "execution_count": null,
   "id": "0958c895",
   "metadata": {},
   "outputs": [],
   "source": [
    "list = [\"0.01\", \"0.1\", \"0.5\", \"0.9\", \"0.99\"]\n",
    "\n",
    "for i in range(len(df_test)):\n",
    "    for j in range(5):\n",
    "        if df_test[\"lowest\"][i] < 10:\n",
    "            df_test[\"oden2_\" + list[j]][i] = oden2_10[0][j][i]\n",
    "        elif df_test[\"lowest\"][i] >= 10:\n",
    "            df_test[\"oden2_\" + list[j]][i] = oden2_20[0][j][i]\n",
    "\n",
    "df_test[\"oden2_0.99\"] = 2*df_test[\"oden2_0.99\"]\n",
    "            \n",
    "plt.scatter(df_test[\"lowest\"],df_test[\"oden2_0.01\"])\n",
    "plt.scatter(df_test[\"lowest\"],df_test[\"oden2_0.1\"])\n",
    "plt.scatter(df_test[\"lowest\"],df_test[\"oden2_0.5\"])\n",
    "plt.scatter(df_test[\"lowest\"],df_test[\"oden2_0.9\"])\n",
    "plt.scatter(df_test[\"lowest\"],df_test[\"oden2_0.99\"])"
   ]
  },
  {
   "cell_type": "code",
   "execution_count": null,
   "id": "f0ee59dd",
   "metadata": {},
   "outputs": [],
   "source": [
    "# oden3\n",
    "x_10 = df_train[[\"lowest\"]][(df_train[\"lowest\"] <= 8) & (df_train[\"oden3\"] <= 250)]\n",
    "y_10 = df_train[[\"oden3\"]][(df_train[\"lowest\"] <= 8) & (df_train[\"oden3\"] <= 250)]\n",
    "#plt.scatter(x_10, y_10)\n",
    "x_20 = df_train[[\"lowest\"]][(df_train[\"lowest\"] >= 10) & (df_train[\"lowest\"] <= 15) & (df_train[\"oden3\"] <= 90)& (df_train[\"month\"] != 7)&(df_train[\"month\"] != 8)&(df_train[\"month\"] != 9)]\n",
    "y_20 = df_train[[\"oden3\"]][(df_train[\"lowest\"] >= 10) & (df_train[\"lowest\"] <= 15) & (df_train[\"oden3\"] <= 90)& (df_train[\"month\"] != 7)&(df_train[\"month\"] != 8)&(df_train[\"month\"] != 9)]\n",
    "#plt.scatter(x_20, y_20)"
   ]
  },
  {
   "cell_type": "code",
   "execution_count": null,
   "id": "a121496c",
   "metadata": {},
   "outputs": [],
   "source": [
    "test_x = df_test[[\"lowest\"]]\n",
    "\n",
    "oden3_10 = simple_regression(\"oden3\", x_10, y_10, test_x)\n",
    "oden3_20 = simple_regression(\"oden3\", x_20, y_20, test_x)"
   ]
  },
  {
   "cell_type": "code",
   "execution_count": null,
   "id": "a852c067",
   "metadata": {},
   "outputs": [],
   "source": [
    "list = [\"0.01\", \"0.1\", \"0.5\", \"0.9\", \"0.99\"]\n",
    "\n",
    "for i in range(len(df_test)):\n",
    "    for j in range(5):\n",
    "        if df_test[\"lowest\"][i] < 10:\n",
    "            df_test[\"oden3_\" + list[j]][i] = oden3_10[0][j][i]\n",
    "        elif df_test[\"lowest\"][i] >= 10:\n",
    "            df_test[\"oden3_\" + list[j]][i] = oden3_20[0][j][i]\n",
    "\n",
    "df_test[\"oden3_0.99\"] = 2*df_test[\"oden3_0.99\"]\n",
    "\n",
    "plt.scatter(df_test[\"lowest\"],df_test[\"oden3_0.01\"])\n",
    "plt.scatter(df_test[\"lowest\"],df_test[\"oden3_0.1\"])\n",
    "plt.scatter(df_test[\"lowest\"],df_test[\"oden3_0.5\"])\n",
    "plt.scatter(df_test[\"lowest\"],df_test[\"oden3_0.9\"])\n",
    "plt.scatter(df_test[\"lowest\"],df_test[\"oden3_0.99\"])"
   ]
  },
  {
   "cell_type": "code",
   "execution_count": null,
   "id": "fd7aba86",
   "metadata": {},
   "outputs": [],
   "source": [
    "# oden4\n",
    "x_10 = df_train[[\"lowest\"]][(df_train[\"lowest\"] <= 10) & (df_train[\"oden4\"] <= 150)]\n",
    "y_10 = df_train[[\"oden4\"]][(df_train[\"lowest\"] <= 10) & (df_train[\"oden4\"] <= 150)]\n",
    "#plt.scatter(x_10, y_10)\n",
    "x_20 = df_train[[\"lowest\"]][(df_train[\"lowest\"] >= 10) & (df_train[\"lowest\"] <= 20) & (df_train[\"month\"] != 7)&(df_train[\"month\"] != 8)&(df_train[\"month\"] != 9)]\n",
    "y_20 = df_train[[\"oden4\"]][(df_train[\"lowest\"] >= 10) & (df_train[\"lowest\"] <= 20) & (df_train[\"month\"] != 7)&(df_train[\"month\"] != 8)&(df_train[\"month\"] != 9)]\n",
    "#plt.scatter(x_20, y_20)"
   ]
  },
  {
   "cell_type": "code",
   "execution_count": null,
   "id": "2955ac90",
   "metadata": {},
   "outputs": [],
   "source": [
    "test_x = df_test[[\"lowest\"]]\n",
    "\n",
    "oden4_10 = simple_regression(\"oden4\", x_10, y_10, test_x)\n",
    "oden4_20 = simple_regression(\"oden4\", x_20, y_20, test_x)"
   ]
  },
  {
   "cell_type": "code",
   "execution_count": null,
   "id": "0e68fa37",
   "metadata": {},
   "outputs": [],
   "source": [
    "list = [\"0.01\", \"0.1\", \"0.5\", \"0.9\", \"0.99\"]\n",
    "\n",
    "for i in range(len(df_test)):\n",
    "    for j in range(5):\n",
    "        if df_test[\"lowest\"][i] < 10:\n",
    "            df_test[\"oden4_\" + list[j]][i] = oden4_10[0][j][i]\n",
    "        elif df_test[\"lowest\"][i] >= 10:\n",
    "            df_test[\"oden4_\" + list[j]][i] = oden4_20[0][j][i]\n",
    "\n",
    "df_test[\"oden4_0.99\"] = 2*df_test[\"oden4_0.99\"]\n",
    "\n",
    "plt.scatter(df_test[\"lowest\"],df_test[\"oden4_0.01\"])\n",
    "plt.scatter(df_test[\"lowest\"],df_test[\"oden4_0.1\"])\n",
    "plt.scatter(df_test[\"lowest\"],df_test[\"oden4_0.5\"])\n",
    "plt.scatter(df_test[\"lowest\"],df_test[\"oden4_0.9\"])\n",
    "plt.scatter(df_test[\"lowest\"],df_test[\"oden4_0.99\"])"
   ]
  },
  {
   "cell_type": "markdown",
   "id": "aa3705e6",
   "metadata": {},
   "source": [
    "# hot"
   ]
  },
  {
   "cell_type": "code",
   "execution_count": null,
   "id": "336d9334",
   "metadata": {},
   "outputs": [],
   "source": [
    "# 最低気温に対してプロット\n",
    "plt.figure(figsize=(15, 4))\n",
    "for i in range(3):\n",
    "    plt.subplot(1,3,i+1)    \n",
    "    plt.scatter(df_train[\"lowest\"],df_train[\"hot\"+str(i+1)],label=\"hot\"+str(i+1))\n",
    "    plt.plot([min(df_test[\"lowest\"]),min(df_test[\"lowest\"])],[0,max(df_train[\"hot\"+str(i+1)])],color = \"red\")\n",
    "    plt.plot([max(df_test[\"lowest\"]),max(df_test[\"lowest\"])],[0,max(df_train[\"hot\"+str(i+1)])],color = \"red\")\n",
    "    plt.xlabel(\"lowest\")\n",
    "    plt.ylabel(\"hot\"+str(i+1))"
   ]
  },
  {
   "cell_type": "code",
   "execution_count": null,
   "id": "738b7d57",
   "metadata": {
    "scrolled": false
   },
   "outputs": [],
   "source": [
    "# 週別でみる + 15℃までの範囲にフォーカス\n",
    "plt.figure(figsize=(15, 4))\n",
    "for j in range(7):\n",
    "    for i in range(3):\n",
    "        plt.subplot(1,3,i+1)    \n",
    "        plt.scatter(df_train[\"lowest\"][(df_train[\"week\"] == j) & (df_train[\"lowest\"] <= 15)],df_train[\"hot\"+str(i+1)][(df_train[\"week\"] == j) & (df_train[\"lowest\"] <= 15)],label=\"week=\"+str(j))\n",
    "        plt.plot([min(df_test[\"lowest\"]),min(df_test[\"lowest\"])],[0,max(df_train[\"hot\"+str(i+1)])],color = \"red\")\n",
    "        plt.plot([max(df_test[\"lowest\"]),max(df_test[\"lowest\"])],[0,max(df_train[\"hot\"+str(i+1)])],color = \"red\")\n",
    "        plt.xlabel(\"lowest\")\n",
    "        plt.ylabel(\"hot\"+str(i+1))\n",
    "        plt.ylim(min(df_train[\"hot\" + str(i+1)])-10, max(df_train[\"hot\" + str(i+1)])+10)\n",
    "        plt.legend()"
   ]
  },
  {
   "cell_type": "markdown",
   "id": "bdefbbd3",
   "metadata": {},
   "source": [
    "### 15℃以上、以下で傾きが違うが、線形回帰で行けそう\n",
    "### 週で違う(分けないほうがLB高い)"
   ]
  },
  {
   "cell_type": "code",
   "execution_count": null,
   "id": "4dad144e",
   "metadata": {},
   "outputs": [],
   "source": [
    "# 線形重回帰\n",
    "def multiple_regression(predictor_variable, x, y, test_x):\n",
    "    \n",
    "    model_lr = LinearRegression()\n",
    "    model_lr.fit(x, y)\n",
    "    pred_train = model_lr.predict(x)\n",
    "    \n",
    "    plt.figure(figsize=(5, 4))\n",
    "#    plt.subplot(1,3,1)\n",
    "#    plt.scatter(x, y)\n",
    "#    plt.plot(x, model_lr.predict(x), linestyle=\"solid\")\n",
    "    \n",
    "    #分位点検量線\n",
    "    cmap = plt.cm.viridis(np.linspace(0., 1., 5))\n",
    " \n",
    "    X = sm.add_constant(pred_train)\n",
    "    model = QuantReg(y, X)\n",
    "    \n",
    "    taus = np.array([0.01, 0.1, 0.5, 0.9, 0.99])\n",
    "    m = len(taus) \n",
    "    N = len(y)\n",
    "    Y = np.zeros((m, N))\n",
    " \n",
    "    for i in range(m):    \n",
    "        results = model.fit(q=taus[i])\n",
    "        y_hat = X @ results.params\n",
    "        Y[i] = y_hat\n",
    " \n",
    "    #plt.subplot(1,3,2)    \n",
    "    plt.scatter(pred_train, y, color = \"gray\")\n",
    "    for i in range(m):\n",
    "        plt.plot([min(pred_train), max(pred_train)], [min(Y[i]), max(Y[i])], linewidth=2,\n",
    "                  color=cmap[i], label=r\"$\\tau=$\"+str(taus[i]))\n",
    "    plt.xlabel(\"pred_train\")\n",
    "    plt.ylabel(\"y\")\n",
    "    plt.legend()\n",
    "    \n",
    "    #テストデータ予測\n",
    "    pred_test = model_lr.predict(test_x)\n",
    "    X = sm.add_constant(pred_test)\n",
    "\n",
    "    Y2 = np.zeros((m, len(X)))\n",
    "\n",
    "    for i in range(m):    \n",
    "        results = model.fit(q=taus[i])\n",
    "        y_hat = X @ results.params\n",
    "        Y2[i] = y_hat\n",
    "    \n",
    "    #結果をテストデータに追加\n",
    "    for i in range(m):\n",
    "        df_test[predictor_variable+\"_\"+str(taus[i])]=Y2[i]\n",
    "        \n",
    "    return Y2, model_lr"
   ]
  },
  {
   "cell_type": "code",
   "execution_count": null,
   "id": "db427ce9",
   "metadata": {},
   "outputs": [],
   "source": [
    "##week cat   週は使用しないほうが良かったので削除\n",
    "#for w in range(7):\n",
    "#    df_train[\"week_cat_\"+str(w)] = 0\n",
    "#\n",
    "#for i in range(len(df_train)):\n",
    "#    for w in range(7):\n",
    "#        if df_train[\"week\"][i] == w:\n",
    "#            df_train[\"week_cat_\" + str(w)][i] = 1\n",
    "#            \n",
    "##week cat\n",
    "#for w in range(7):\n",
    "#    df_test[\"week_cat_\"+str(w)] = 0\n",
    "#\n",
    "#for i in range(len(df_test)):\n",
    "#    for w in range(7):\n",
    "#        if df_test[\"week\"][i] == w:\n",
    "#            df_test[\"week_cat_\" + str(w)][i] = 1"
   ]
  },
  {
   "cell_type": "code",
   "execution_count": null,
   "id": "f4e6214e",
   "metadata": {},
   "outputs": [],
   "source": [
    "# hot1\n",
    "#x_u15 = df_train[[\"lowest\",\"rain\",\"week_cat_0\",\"week_cat_1\",\"week_cat_2\",\"week_cat_3\",\"week_cat_4\",\"week_cat_5\",\"week_cat_6\"]][(df_train[\"lowest\"] <= 15)]\n",
    "x_u15 = df_train[[\"lowest\"]][(df_train[\"lowest\"] <= 15)]\n",
    "y_u15 = df_train[[\"hot1\"]][(df_train[\"lowest\"] <= 15)]\n",
    "#plt.scatter(x_u15[\"lowest\"], y_u15)\n",
    "#x_o15 = df_train[[\"lowest\",\"rain\",\"week_cat_0\",\"week_cat_1\",\"week_cat_2\",\"week_cat_3\",\"week_cat_4\",\"week_cat_5\",\"week_cat_6\"]][(df_train[\"lowest\"] >= 15)]\n",
    "x_o15 = df_train[[\"lowest\"]][(df_train[\"lowest\"] >= 15)]\n",
    "y_o15 = df_train[[\"hot1\"]][(df_train[\"lowest\"] >= 15)]\n",
    "#plt.scatter(x_o15[\"lowest\"], y_o15)"
   ]
  },
  {
   "cell_type": "code",
   "execution_count": null,
   "id": "a166ed29",
   "metadata": {},
   "outputs": [],
   "source": [
    "#test_x = df_test[[\"lowest\",\"rain\",\"week_cat_0\",\"week_cat_1\",\"week_cat_2\",\"week_cat_3\",\"week_cat_4\",\"week_cat_5\",\"week_cat_6\"]]\n",
    "test_x = df_test[[\"lowest\"]]\n",
    "\n",
    "hot1_u15 = multiple_regression(\"hot1\", x_u15, y_u15, test_x)\n",
    "hot1_o15 = multiple_regression(\"hot1\", x_o15, y_o15, test_x)"
   ]
  },
  {
   "cell_type": "code",
   "execution_count": null,
   "id": "1fd35652",
   "metadata": {},
   "outputs": [],
   "source": [
    "list = [\"0.01\", \"0.1\", \"0.5\", \"0.9\", \"0.99\"]\n",
    "\n",
    "for i in range(len(df_test)):\n",
    "    for j in range(5):\n",
    "        df_test[\"hot1_\" + list[j]][i] = hot1_u15[0][j][i]\n",
    "\n",
    "plt.scatter(df_test[\"lowest\"],df_test[\"hot1_0.01\"])\n",
    "plt.scatter(df_test[\"lowest\"],df_test[\"hot1_0.1\"])\n",
    "plt.scatter(df_test[\"lowest\"],df_test[\"hot1_0.5\"])\n",
    "plt.scatter(df_test[\"lowest\"],df_test[\"hot1_0.9\"])\n",
    "plt.scatter(df_test[\"lowest\"],df_test[\"hot1_0.99\"])"
   ]
  },
  {
   "cell_type": "code",
   "execution_count": null,
   "id": "83bae3d2",
   "metadata": {},
   "outputs": [],
   "source": [
    "#trainデータの予測\n",
    "df_train[\"pred_hot1\"] = 0\n",
    "for i in range(len(df_train)):\n",
    "    if df_train[\"lowest\"][i] <= 15:\n",
    "#        df_train[\"pred_hot1\"][i] = hot1_u15[1].predict(df_train[[\"lowest\",\"rain\",\"week_cat_0\",\"week_cat_1\",\"week_cat_2\",\"week_cat_3\",\"week_cat_4\",\"week_cat_5\",\"week_cat_6\"]])[i]\n",
    "        df_train[\"pred_hot1\"][i] = hot1_u15[1].predict(df_train[[\"lowest\"]])[i]\n",
    "    else:\n",
    "#        df_train[\"pred_hot1\"][i] = hot1_o15[1].predict(df_train[[\"lowest\",\"rain\",\"week_cat_0\",\"week_cat_1\",\"week_cat_2\",\"week_cat_3\",\"week_cat_4\",\"week_cat_5\",\"week_cat_6\"]])[i]\n",
    "        df_train[\"pred_hot1\"][i] = hot1_o15[1].predict(df_train[[\"lowest\"]])[i]\n",
    "#plt.scatter(df_train[\"pred_hot1\"], df_train[\"hot1\"])"
   ]
  },
  {
   "cell_type": "code",
   "execution_count": null,
   "id": "7960fe43",
   "metadata": {},
   "outputs": [],
   "source": [
    "# hot2\n",
    "#x_u15 = df_train[[\"lowest\",\"rain\",\"week_cat_0\",\"week_cat_1\",\"week_cat_2\",\"week_cat_3\",\"week_cat_4\",\"week_cat_5\",\"week_cat_6\"]][(df_train[\"lowest\"] <= 15)]\n",
    "x_u15 = df_train[[\"lowest\"]][(df_train[\"lowest\"] <= 15)]\n",
    "y_u15 = df_train[[\"hot2\"]][(df_train[\"lowest\"] <= 15)]\n",
    "#plt.scatter(x_u15[\"lowest\"], y_u15)\n",
    "#x_o15 = df_train[[\"lowest\",\"rain\",\"week_cat_0\",\"week_cat_1\",\"week_cat_2\",\"week_cat_3\",\"week_cat_4\",\"week_cat_5\",\"week_cat_6\"]][(df_train[\"lowest\"] >= 15)]\n",
    "x_o15 = df_train[[\"lowest\"]][(df_train[\"lowest\"] >= 15)]\n",
    "y_o15 = df_train[[\"hot2\"]][(df_train[\"lowest\"] >= 15)]\n",
    "#plt.scatter(x_o15[\"lowest\"], y_o15)"
   ]
  },
  {
   "cell_type": "code",
   "execution_count": null,
   "id": "4031e601",
   "metadata": {
    "scrolled": false
   },
   "outputs": [],
   "source": [
    "#test_x = df_test[[\"lowest\",\"rain\",\"week_cat_0\",\"week_cat_1\",\"week_cat_2\",\"week_cat_3\",\"week_cat_4\",\"week_cat_5\",\"week_cat_6\"]]\n",
    "test_x = df_test[[\"lowest\"]]\n",
    "\n",
    "hot2_u15 = multiple_regression(\"hot2\", x_u15, y_u15, test_x)\n",
    "hot2_o15 = multiple_regression(\"hot2\", x_o15, y_o15, test_x)"
   ]
  },
  {
   "cell_type": "code",
   "execution_count": null,
   "id": "21edfbf8",
   "metadata": {},
   "outputs": [],
   "source": [
    "list = [\"0.01\", \"0.1\", \"0.5\", \"0.9\", \"0.99\"]\n",
    "\n",
    "for i in range(len(df_test)):\n",
    "    for j in range(5):\n",
    "        df_test[\"hot2_\" + list[j]][i] = hot2_u15[0][j][i]\n",
    "\n",
    "plt.scatter(df_test[\"lowest\"],df_test[\"hot2_0.01\"])\n",
    "plt.scatter(df_test[\"lowest\"],df_test[\"hot2_0.1\"])\n",
    "plt.scatter(df_test[\"lowest\"],df_test[\"hot2_0.5\"])\n",
    "plt.scatter(df_test[\"lowest\"],df_test[\"hot2_0.9\"])\n",
    "plt.scatter(df_test[\"lowest\"],df_test[\"hot2_0.99\"])"
   ]
  },
  {
   "cell_type": "code",
   "execution_count": null,
   "id": "d24ad664",
   "metadata": {
    "scrolled": false
   },
   "outputs": [],
   "source": [
    "#trainデータの予測\n",
    "df_train[\"pred_hot2\"] = 0\n",
    "for i in range(len(df_train)):\n",
    "    if df_train[\"lowest\"][i] <= 15:\n",
    "#        df_train[\"pred_hot2\"][i] = hot2_u15[1].predict(df_train[[\"lowest\",\"rain\",\"week_cat_0\",\"week_cat_1\",\"week_cat_2\",\"week_cat_3\",\"week_cat_4\",\"week_cat_5\",\"week_cat_6\"]])[i]\n",
    "        df_train[\"pred_hot2\"][i] = hot2_u15[1].predict(df_train[[\"lowest\"]])[i]\n",
    "    else:\n",
    "#        df_train[\"pred_hot2\"][i] = hot2_o15[1].predict(df_train[[\"lowest\",\"rain\",\"week_cat_0\",\"week_cat_1\",\"week_cat_2\",\"week_cat_3\",\"week_cat_4\",\"week_cat_5\",\"week_cat_6\"]])[i]\n",
    "        df_train[\"pred_hot2\"][i] = hot2_o15[1].predict(df_train[[\"lowest\"]])[i]\n",
    "#plt.scatter(df_train[\"pred_hot2\"], df_train[\"hot2\"])"
   ]
  },
  {
   "cell_type": "code",
   "execution_count": null,
   "id": "18697921",
   "metadata": {
    "scrolled": false
   },
   "outputs": [],
   "source": [
    "# hot3\n",
    "#x_u15 = df_train[[\"lowest\",\"rain\",\"week_cat_0\",\"week_cat_1\",\"week_cat_2\",\"week_cat_3\",\"week_cat_4\",\"week_cat_5\",\"week_cat_6\"]][(df_train[\"lowest\"] <= 15)]\n",
    "x_u15 = df_train[[\"lowest\"]][(df_train[\"lowest\"] <= 15)]\n",
    "y_u15 = df_train[[\"hot3\"]][(df_train[\"lowest\"] <= 15)]\n",
    "#plt.scatter(x_u15[\"lowest\"], y_u15)\n",
    "#x_o15 = df_train[[\"lowest\",\"rain\",\"week_cat_0\",\"week_cat_1\",\"week_cat_2\",\"week_cat_3\",\"week_cat_4\",\"week_cat_5\",\"week_cat_6\"]][(df_train[\"lowest\"] >= 15)]\n",
    "x_o15 = df_train[[\"lowest\"]][(df_train[\"lowest\"] >= 15)]\n",
    "y_o15 = df_train[[\"hot3\"]][(df_train[\"lowest\"] >= 15)]\n",
    "#plt.scatter(x_o15[\"lowest\"], y_o15)"
   ]
  },
  {
   "cell_type": "code",
   "execution_count": null,
   "id": "9dbd63a1",
   "metadata": {},
   "outputs": [],
   "source": [
    "#test_x = df_test[[\"lowest\",\"rain\",\"week_cat_0\",\"week_cat_1\",\"week_cat_2\",\"week_cat_3\",\"week_cat_4\",\"week_cat_5\",\"week_cat_6\"]]\n",
    "test_x = df_test[[\"lowest\"]]\n",
    "\n",
    "hot3_u15 = multiple_regression(\"hot3\", x_u15, y_u15, test_x)\n",
    "hot3_o15 = multiple_regression(\"hot3\", x_o15, y_o15, test_x)"
   ]
  },
  {
   "cell_type": "code",
   "execution_count": null,
   "id": "19635b7e",
   "metadata": {},
   "outputs": [],
   "source": [
    "list = [\"0.01\", \"0.1\", \"0.5\", \"0.9\", \"0.99\"]\n",
    "\n",
    "for i in range(len(df_test)):\n",
    "    for j in range(5):\n",
    "        df_test[\"hot3_\" + list[j]][i] = hot3_u15[0][j][i]\n",
    "\n",
    "plt.scatter(df_test[\"lowest\"],df_test[\"hot3_0.01\"])\n",
    "plt.scatter(df_test[\"lowest\"],df_test[\"hot3_0.1\"])\n",
    "plt.scatter(df_test[\"lowest\"],df_test[\"hot3_0.5\"])\n",
    "plt.scatter(df_test[\"lowest\"],df_test[\"hot3_0.9\"])\n",
    "plt.scatter(df_test[\"lowest\"],df_test[\"hot3_0.99\"])"
   ]
  },
  {
   "cell_type": "code",
   "execution_count": null,
   "id": "c5d1355c",
   "metadata": {},
   "outputs": [],
   "source": [
    "#trainデータの予測\n",
    "df_train[\"pred_hot3\"] = 0\n",
    "for i in range(len(df_train)):\n",
    "    if df_train[\"lowest\"][i] <= 15:\n",
    "#        df_train[\"pred_hot3\"][i] = hot3_u15[1].predict(df_train[[\"lowest\",\"rain\",\"week_cat_0\",\"week_cat_1\",\"week_cat_2\",\"week_cat_3\",\"week_cat_4\",\"week_cat_5\",\"week_cat_6\"]])[i]\n",
    "        df_train[\"pred_hot3\"][i] = hot3_u15[1].predict(df_train[[\"lowest\"]])[i]\n",
    "    else:\n",
    "#        df_train[\"pred_hot3\"][i] = hot3_o15[1].predict(df_train[[\"lowest\",\"rain\",\"week_cat_0\",\"week_cat_1\",\"week_cat_2\",\"week_cat_3\",\"week_cat_4\",\"week_cat_5\",\"week_cat_6\"]])[i]\n",
    "        df_train[\"pred_hot3\"][i] = hot3_o15[1].predict(df_train[[\"lowest\"]])[i]\n",
    "#plt.scatter(df_train[\"pred_hot3\"], df_train[\"hot3\"])"
   ]
  },
  {
   "cell_type": "markdown",
   "id": "fbd7752b",
   "metadata": {},
   "source": [
    "# dessert"
   ]
  },
  {
   "cell_type": "code",
   "execution_count": null,
   "id": "849c5857",
   "metadata": {
    "scrolled": false
   },
   "outputs": [],
   "source": [
    "# 日に対して週別にプロット\n",
    "plt.figure(figsize=(15, 12))\n",
    "for j in range(7):\n",
    "    for i in range(5):\n",
    "        plt.subplot(3,2,i+1)    \n",
    "        plt.scatter(df_train[\"day\"][(df_train[\"week\"] == j)],df_train[\"dessert\"+str(i+1)][(df_train[\"week\"] == j)],label=\"week=\"+str(j))\n",
    "        plt.xlabel(\"day\")\n",
    "        plt.ylabel(\"dessert\"+str(i+1))\n",
    "plt.legend()"
   ]
  },
  {
   "cell_type": "markdown",
   "id": "ea2b2c0e",
   "metadata": {},
   "source": [
    "### 日と週(0,1,3,4,5 or 2,6)で決まっている"
   ]
  },
  {
   "cell_type": "code",
   "execution_count": null,
   "id": "e601a0a3",
   "metadata": {},
   "outputs": [],
   "source": [
    "list = [\"0.01\", \"0.1\", \"0.5\", \"0.9\", \"0.99\"]\n",
    "for d in range(5):\n",
    "    for m in range(5):\n",
    "        df_test[\"dessert\"+str(d+1)+\"_\"+list[m]] = 0\n",
    "\n",
    "for i in range(len(df_test)):\n",
    "    if ((df_test[\"week\"][i] == 2) | (df_test[\"week\"][i] == 6)):\n",
    "        for d in range(5):\n",
    "            df_test[\"dessert\"+str(d+1)+\"_0.5\"][i] = np.average(df_train[\"dessert\"+str(d+1)][(df_train[\"day\"] == df_test[\"day\"][i]) & ((df_train[\"week\"] == 2)|(df_train[\"week\"] == 6))]) \n",
    "            df_test[\"dessert\"+str(d+1)+\"_0.01\"][i] = np.min(df_train[\"dessert\"+str(d+1)][(df_train[\"day\"] == df_test[\"day\"][i]) & ((df_train[\"week\"] == 2)|(df_train[\"week\"] == 6))]) \n",
    "            df_test[\"dessert\"+str(d+1)+\"_0.99\"][i] = np.max(df_train[\"dessert\"+str(d+1)][(df_train[\"day\"] == df_test[\"day\"][i]) & ((df_train[\"week\"] == 2)|(df_train[\"week\"] == 6))]) \n",
    "            df_test[\"dessert\"+str(d+1)+\"_0.1\"][i] = (df_test[\"dessert\"+str(d+1)+\"_0.5\"][i] +4*df_test[\"dessert\"+str(d+1)+\"_0.01\"][i])/5\n",
    "            df_test[\"dessert\"+str(d+1)+\"_0.9\"][i] = (df_test[\"dessert\"+str(d+1)+\"_0.5\"][i] +4*df_test[\"dessert\"+str(d+1)+\"_0.99\"][i])/5\n",
    "    else:\n",
    "        for d in range(5):\n",
    "            df_test[\"dessert\"+str(d+1)+\"_0.5\"][i] = np.average(df_train[\"dessert\"+str(d+1)][(df_train[\"day\"] == df_test[\"day\"][i]) & ((df_train[\"week\"] == 0)|(df_train[\"week\"] == 1)|(df_train[\"week\"] == 3)|(df_train[\"week\"] == 4)|(df_train[\"week\"] == 5))]) \n",
    "            df_test[\"dessert\"+str(d+1)+\"_0.01\"][i] = np.min(df_train[\"dessert\"+str(d+1)][(df_train[\"day\"] == df_test[\"day\"][i]) & ((df_train[\"week\"] == 0)|(df_train[\"week\"] == 1)|(df_train[\"week\"] == 3)|(df_train[\"week\"] == 4)|(df_train[\"week\"] == 5))]) \n",
    "            df_test[\"dessert\"+str(d+1)+\"_0.99\"][i] = np.max(df_train[\"dessert\"+str(d+1)][(df_train[\"day\"] == df_test[\"day\"][i]) & ((df_train[\"week\"] == 0)|(df_train[\"week\"] == 1)|(df_train[\"week\"] == 3)|(df_train[\"week\"] == 4)|(df_train[\"week\"] == 5))]) \n",
    "            df_test[\"dessert\"+str(d+1)+\"_0.1\"][i] = (df_test[\"dessert\"+str(d+1)+\"_0.5\"][i] +4*df_test[\"dessert\"+str(d+1)+\"_0.01\"][i])/5\n",
    "            df_test[\"dessert\"+str(d+1)+\"_0.9\"][i] = (df_test[\"dessert\"+str(d+1)+\"_0.5\"][i] +4*df_test[\"dessert\"+str(d+1)+\"_0.99\"][i])/5\n",
    "            \n",
    "for d in range(5):\n",
    "    df_train[\"pred_dessert\"+str(d+1)] = 0\n",
    "\n",
    "for i in range(len(df_train)):\n",
    "    if ((df_train[\"week\"][i] == 2) | (df_train[\"week\"][i] == 6)):\n",
    "        for d in range(5):\n",
    "            df_train[\"pred_dessert\"+str(d+1)][i] = np.average(df_train[\"dessert\"+str(d+1)][(df_train[\"day\"] == df_train[\"day\"][i]) & ((df_train[\"week\"] == 2)|(df_train[\"week\"] == 6))]) \n",
    "    else:\n",
    "        for d in range(5):\n",
    "            df_train[\"pred_dessert\"+str(d+1)][i] = np.average(df_train[\"dessert\"+str(d+1)][(df_train[\"day\"] == df_train[\"day\"][i]) & ((df_train[\"week\"] == 0)|(df_train[\"week\"] == 1)|(df_train[\"week\"] == 3)|(df_train[\"week\"] == 4)|(df_train[\"week\"] == 5))]) "
   ]
  },
  {
   "cell_type": "code",
   "execution_count": null,
   "id": "5a3a3d3d",
   "metadata": {},
   "outputs": [],
   "source": [
    "plt.figure(figsize=(15, 8))\n",
    "for i in range(5):\n",
    "    plt.subplot(2,3,i+1)    \n",
    "    plt.scatter(df_train[\"day\"],df_train[\"dessert\"+str(i+1)])\n",
    "    plt.scatter(df_test[\"day\"],df_test[\"dessert\"+str(i+1)+\"_0.01\"])\n",
    "    plt.scatter(df_test[\"day\"],df_test[\"dessert\"+str(i+1)+\"_0.1\"])\n",
    "    plt.scatter(df_test[\"day\"],df_test[\"dessert\"+str(i+1)+\"_0.5\"])\n",
    "    plt.scatter(df_test[\"day\"],df_test[\"dessert\"+str(i+1)+\"_0.9\"])\n",
    "    plt.scatter(df_test[\"day\"],df_test[\"dessert\"+str(i+1)+\"_0.99\"])\n",
    "    plt.xlabel(\"day\")\n",
    "    plt.ylabel(\"dessert\"+str(i+1))"
   ]
  },
  {
   "cell_type": "code",
   "execution_count": null,
   "id": "0f2a5430",
   "metadata": {},
   "outputs": [],
   "source": [
    "#trainデータの予測結果\n",
    "plt.figure(figsize=(15, 8))\n",
    "for i in range(5):\n",
    "    plt.subplot(2,3,i+1)    \n",
    "    plt.scatter(df_train[\"day\"],df_train[\"dessert\"+str(i+1)])\n",
    "    plt.scatter(df_train[\"day\"],df_train[\"pred_dessert\"+str(i+1)])\n",
    "    plt.xlabel(\"day\")\n",
    "    plt.ylabel(\"dessert\"+str(i+1))"
   ]
  },
  {
   "cell_type": "markdown",
   "id": "0812eb34",
   "metadata": {},
   "source": [
    "# drink"
   ]
  },
  {
   "cell_type": "code",
   "execution_count": null,
   "id": "72f4dc04",
   "metadata": {},
   "outputs": [],
   "source": [
    "# 最高気温に対してプロット\n",
    "plt.figure(figsize=(15, 8))\n",
    "for i in range(6):\n",
    "    plt.subplot(2,3,i+1)    \n",
    "    plt.scatter(df_train[\"highest\"],df_train[\"drink\"+str(i+1)],label=\"ice\"+str(i+1))\n",
    "    plt.plot([min(df_test[\"highest\"]),min(df_test[\"highest\"])],[0,max(df_train[\"drink\"+str(i+1)])],color = \"red\")\n",
    "    plt.plot([max(df_test[\"highest\"]),max(df_test[\"highest\"])],[0,max(df_train[\"drink\"+str(i+1)])],color = \"red\")\n",
    "    plt.xlabel(\"highest\")\n",
    "    plt.ylabel(\"drink\"+str(i+1))"
   ]
  },
  {
   "cell_type": "code",
   "execution_count": null,
   "id": "fb55fbd3",
   "metadata": {},
   "outputs": [],
   "source": [
    "#雨\n",
    "plt.figure(figsize=(15, 8))\n",
    "for i in range(6):\n",
    "    plt.subplot(2,3,i+1)    \n",
    "    plt.scatter(df_train[\"highest\"][(df_train[\"rain\"] > 50)],df_train[\"drink\"+str(i+1)][(df_train[\"rain\"] > 50)],label = \"rain > 50\")\n",
    "    plt.scatter(df_train[\"highest\"][(df_train[\"rain\"] <= 50)],df_train[\"drink\"+str(i+1)][(df_train[\"rain\"] <= 50)],label = \"50 > rain > 40\")\n",
    "    plt.scatter(df_train[\"highest\"][(df_train[\"rain\"] <= 40)],df_train[\"drink\"+str(i+1)][(df_train[\"rain\"] <= 40)],label = \"40 > rain > 30\")\n",
    "    plt.scatter(df_train[\"highest\"][(df_train[\"rain\"] <= 30)],df_train[\"drink\"+str(i+1)][(df_train[\"rain\"] <= 30)],label = \"30 > rain > 20\")\n",
    "    plt.scatter(df_train[\"highest\"][(df_train[\"rain\"] <= 20)],df_train[\"drink\"+str(i+1)][(df_train[\"rain\"] <= 20)],label = \"20 > rain > 10\")\n",
    "    plt.scatter(df_train[\"highest\"][(df_train[\"rain\"] <= 10)],df_train[\"drink\"+str(i+1)][(df_train[\"rain\"] <= 10)],label = \"10 > rain > 5\")\n",
    "    plt.scatter(df_train[\"highest\"][(df_train[\"rain\"] <= 5)],df_train[\"drink\"+str(i+1)][(df_train[\"rain\"] <= 5)],label = \"5 > rain > 0\")\n",
    "    plt.scatter(df_train[\"highest\"][(df_train[\"rain\"] == 0)],df_train[\"drink\"+str(i+1)][(df_train[\"rain\"] == 0)],label = \"rain = 0\")\n",
    "    plt.plot([min(df_test[\"highest\"]),min(df_test[\"highest\"])],[0,max(df_train[\"drink\"+str(i+1)])],color = \"red\")\n",
    "    plt.plot([max(df_test[\"highest\"]),max(df_test[\"highest\"])],[0,max(df_train[\"drink\"+str(i+1)])],color = \"red\")\n",
    "    plt.xlabel(\"highest\")\n",
    "    plt.ylabel(\"drink\"+str(i+1))\n",
    "    plt.legend()"
   ]
  },
  {
   "cell_type": "code",
   "execution_count": null,
   "id": "49cad230",
   "metadata": {},
   "outputs": [],
   "source": [
    "#週\n",
    "plt.figure(figsize=(15, 8))\n",
    "for j in range(7):\n",
    "    for i in range(6):\n",
    "        plt.subplot(2,3,i+1)    \n",
    "        plt.scatter(df_train[\"highest\"][(df_train[\"week\"] == j)],df_train[\"drink\"+str(i+1)][(df_train[\"week\"] == j)],label = \"week=\"+str(j) )\n",
    "        plt.plot([min(df_test[\"highest\"]),min(df_test[\"highest\"])],[0,max(df_train[\"drink\"+str(i+1)])],color = \"red\")\n",
    "        plt.plot([max(df_test[\"highest\"]),max(df_test[\"highest\"])],[0,max(df_train[\"drink\"+str(i+1)])],color = \"red\")\n",
    "        plt.xlabel(\"highest\")\n",
    "        plt.ylabel(\"drink\"+str(i+1))\n",
    "        plt.legend()"
   ]
  },
  {
   "cell_type": "markdown",
   "id": "de55cf76",
   "metadata": {},
   "source": [
    "### 最高気温と降水量と週で決まる\n",
    "### drink1～4は15℃以下は定数、15℃以上は右肩上がり直線\n",
    "### drink5,6は10℃以下は右肩下がり直線、10℃以上は定数\n",
    "### drink1～3は雨降ると売り上げ下がる\n",
    "### drink5,6は雨降ると売り上げ上がる\n",
    "### drink2,3はweek=4でばらつき増える"
   ]
  },
  {
   "cell_type": "code",
   "execution_count": null,
   "id": "a06ec5f8",
   "metadata": {},
   "outputs": [],
   "source": [
    "for i in range(6):\n",
    "    df_train[\"pred_drink\"+str(i+1)] = 0"
   ]
  },
  {
   "cell_type": "code",
   "execution_count": null,
   "id": "bb6f568b",
   "metadata": {
    "scrolled": false
   },
   "outputs": [],
   "source": [
    "# drink1\n",
    "df_train[\"rain**2\"] =df_train[\"rain\"]**2\n",
    "\n",
    "x_u15 = df_train[[\"rain\", \"rain**2\"]][(df_train[\"highest\"] <= 15)]\n",
    "y_u15 = df_train[[\"drink1\"]][(df_train[\"highest\"] <= 15)]\n",
    "#plt.scatter(x_u15[\"rain\"], y_u15)\n",
    "\n",
    "x_o15 = df_train[[\"highest\",\"rain\", \"rain**2\"]][(df_train[\"highest\"] >= 15)]\n",
    "y_o15 = df_train[[\"drink1\"]][(df_train[\"highest\"] >= 15)]\n",
    "#plt.scatter(x_o15[\"highest\"], y_o15)"
   ]
  },
  {
   "cell_type": "code",
   "execution_count": null,
   "id": "906b2745",
   "metadata": {
    "scrolled": false
   },
   "outputs": [],
   "source": [
    "#15℃以上　最高気温、降水量、降水量の2乗で重回帰\n",
    "df_test[\"rain**2\"] = df_test[\"rain\"]**2\n",
    "test_x = df_test[[\"highest\",\"rain\", \"rain**2\"]]\n",
    "\n",
    "drink1_o15 = multiple_regression(\"drink1\", x_o15, y_o15, test_x)"
   ]
  },
  {
   "cell_type": "code",
   "execution_count": null,
   "id": "510985d6",
   "metadata": {},
   "outputs": [],
   "source": [
    "#15℃以下　最高気温、降水量、降水量の2乗で重回帰\n",
    "df_test[\"rain**2\"] = df_test[\"rain\"]**2\n",
    "test_x = df_test[[\"rain\", \"rain**2\"]]\n",
    "\n",
    "drink1_u15 = multiple_regression(\"drink1\", x_u15, y_u15, test_x)"
   ]
  },
  {
   "cell_type": "code",
   "execution_count": null,
   "id": "12c63a6c",
   "metadata": {
    "scrolled": false
   },
   "outputs": [],
   "source": [
    "list = [\"0.01\", \"0.1\", \"0.5\", \"0.9\", \"0.99\"]\n",
    "\n",
    "for i in range(len(df_test)):\n",
    "    for j in range(5):\n",
    "        if df_test[\"highest\"][i] >= 15:\n",
    "            df_test[\"drink1_\" + list[j]][i] = drink1_o15[0][j][i]\n",
    "        else:\n",
    "            df_test[\"drink1_\" + list[j]][i] = drink1_u15[0][j][i]\n",
    "            #下限値処理\n",
    "            if df_test[\"drink1_\" + list[j]][i] <= np.min(df_train[\"drink1\"]):\n",
    "                df_test[\"drink1_\" + list[j]][i] = np.min(df_train[\"drink1\"])\n",
    "\n",
    "plt.scatter(df_test[\"highest\"],df_test[\"drink1_0.01\"])\n",
    "plt.scatter(df_test[\"highest\"],df_test[\"drink1_0.1\"])\n",
    "plt.scatter(df_test[\"highest\"],df_test[\"drink1_0.5\"])\n",
    "plt.scatter(df_test[\"highest\"],df_test[\"drink1_0.9\"])\n",
    "plt.scatter(df_test[\"highest\"],df_test[\"drink1_0.99\"])"
   ]
  },
  {
   "cell_type": "code",
   "execution_count": null,
   "id": "2bb27ef5",
   "metadata": {},
   "outputs": [],
   "source": [
    "#trainデータの予測\n",
    "for i in range(len(df_train)):\n",
    "    if df_train[\"highest\"][i] >= 15:\n",
    "        df_train[\"pred_drink1\"][i] = drink1_o15[1].predict(df_train[[\"highest\",\"rain\", \"rain**2\"]])[i]\n",
    "    else:\n",
    "        df_train[\"pred_drink1\"][i] = drink1_u15[1].predict(df_train[[\"rain\", \"rain**2\"]])[i]\n",
    "        \n",
    "#plt.scatter(df_train[\"pred_drink1\"], df_train[\"drink1\"])"
   ]
  },
  {
   "cell_type": "code",
   "execution_count": null,
   "id": "d2fda63b",
   "metadata": {},
   "outputs": [],
   "source": [
    "# drink2(week≠4)\n",
    "df_train[\"rain**2\"] =df_train[\"rain\"]**2\n",
    "\n",
    "x_u15 = df_train[[\"rain\",\"rain**2\"]][(df_train[\"highest\"] <= 15) & (df_train[\"week\"] != 4)]\n",
    "y_u15 = df_train[[\"drink2\"]][(df_train[\"highest\"] <= 15) & (df_train[\"week\"] != 4)]\n",
    "#plt.scatter(x_u15[\"rain\"], y_u15)\n",
    "\n",
    "x_o15 = df_train[[\"highest\",\"rain\", \"rain**2\"]][(df_train[\"highest\"] >= 15) & (df_train[\"week\"] != 4)]\n",
    "y_o15 = df_train[[\"drink2\"]][(df_train[\"highest\"] >= 15) & (df_train[\"week\"] != 4)]\n",
    "#plt.scatter(x_o15[\"highest\"], y_o15)"
   ]
  },
  {
   "cell_type": "code",
   "execution_count": null,
   "id": "fea2210a",
   "metadata": {
    "scrolled": false
   },
   "outputs": [],
   "source": [
    "#15℃以上　最高気温、降水量、降水量の2乗で重回帰\n",
    "df_test[\"rain**2\"] = df_test[\"rain\"]**2\n",
    "test_x = df_test[[\"highest\",\"rain\", \"rain**2\"]]\n",
    "\n",
    "drink2_o15 = multiple_regression(\"drink2\", x_o15, y_o15, test_x)"
   ]
  },
  {
   "cell_type": "code",
   "execution_count": null,
   "id": "bae40286",
   "metadata": {},
   "outputs": [],
   "source": [
    "#15℃以下　最高気温、降水量、降水量の2乗で重回帰\n",
    "df_test[\"rain**2\"] = df_test[\"rain\"]**2\n",
    "test_x = df_test[[\"rain\", \"rain**2\"]]\n",
    "\n",
    "drink2_u15 = multiple_regression(\"drink2\", x_u15, y_u15, test_x)"
   ]
  },
  {
   "cell_type": "code",
   "execution_count": null,
   "id": "8bbe12e2",
   "metadata": {
    "scrolled": false
   },
   "outputs": [],
   "source": [
    "# drink2(week=4)\n",
    "df_train[\"rain**2\"] =df_train[\"rain\"]**2\n",
    "\n",
    "x_u15_w4 = df_train[[\"rain\",\"rain**2\"]][(df_train[\"highest\"] <= 15)]\n",
    "y_u15_w4 = df_train[[\"drink2\"]][(df_train[\"highest\"] <= 15)]\n",
    "#plt.scatter(x_u15_w4[\"rain\"], y_u15_w4)\n",
    "\n",
    "x_o15_w4 = df_train[[\"highest\",\"rain\", \"rain**2\"]][(df_train[\"highest\"] >= 15)]\n",
    "y_o15_w4 = df_train[[\"drink2\"]][(df_train[\"highest\"] >= 15)]\n",
    "#plt.scatter(x_o15_w4[\"highest\"], y_o15_w4)"
   ]
  },
  {
   "cell_type": "code",
   "execution_count": null,
   "id": "91141fe5",
   "metadata": {
    "scrolled": false
   },
   "outputs": [],
   "source": [
    "#15℃以上　最高気温、降水量、降水量の2乗で重回帰\n",
    "df_test[\"rain**2\"] = df_test[\"rain\"]**2\n",
    "test_x = df_test[[\"highest\",\"rain\", \"rain**2\"]]\n",
    "\n",
    "drink2_o15_w4 = multiple_regression(\"drink2\", x_o15_w4, y_o15_w4, test_x)"
   ]
  },
  {
   "cell_type": "code",
   "execution_count": null,
   "id": "25e26ecc",
   "metadata": {},
   "outputs": [],
   "source": [
    "#15℃以下　最高気温、降水量、降水量の2乗で重回帰\n",
    "df_test[\"rain**2\"] = df_test[\"rain\"]**2\n",
    "test_x = df_test[[\"rain\", \"rain**2\"]]\n",
    "\n",
    "drink2_u15_w4 = multiple_regression(\"drink2\", x_u15_w4, y_u15_w4, test_x)"
   ]
  },
  {
   "cell_type": "code",
   "execution_count": null,
   "id": "e6ddd4b5",
   "metadata": {
    "scrolled": false
   },
   "outputs": [],
   "source": [
    "list = [\"0.01\", \"0.1\", \"0.5\", \"0.9\", \"0.99\"]\n",
    "\n",
    "for i in range(len(df_test)):\n",
    "    for j in range(5):\n",
    "        if df_test[\"week\"][i] == 4:\n",
    "            if df_test[\"highest\"][i] >=15:\n",
    "                df_test[\"drink2_\" + list[j]][i] = drink2_o15_w4[0][j][i]                \n",
    "            else:\n",
    "                df_test[\"drink2_\" + list[j]][i] = drink2_u15_w4[0][j][i]\n",
    "                #下限値処理\n",
    "                if df_test[\"drink2_\" + list[j]][i] <= np.min(df_train[\"drink2\"]):\n",
    "                    df_test[\"drink2_\" + list[j]][i] = np.min(df_train[\"drink2\"])\n",
    "        else:\n",
    "            if df_test[\"highest\"][i] >=15:\n",
    "                df_test[\"drink2_\" + list[j]][i] = drink2_o15[0][j][i]                \n",
    "            else:\n",
    "                df_test[\"drink2_\" + list[j]][i] = drink2_u15[0][j][i]\n",
    "                #下限値処理\n",
    "                if df_test[\"drink2_\" + list[j]][i] <= np.min(df_train[\"drink2\"]):\n",
    "                    df_test[\"drink2_\" + list[j]][i] = np.min(df_train[\"drink2\"])\n",
    "\n",
    "plt.scatter(df_test[\"highest\"],df_test[\"drink2_0.01\"])\n",
    "plt.scatter(df_test[\"highest\"],df_test[\"drink2_0.1\"])\n",
    "plt.scatter(df_test[\"highest\"],df_test[\"drink2_0.5\"])\n",
    "plt.scatter(df_test[\"highest\"],df_test[\"drink2_0.9\"])\n",
    "plt.scatter(df_test[\"highest\"],df_test[\"drink2_0.99\"])"
   ]
  },
  {
   "cell_type": "code",
   "execution_count": null,
   "id": "03d9ef3f",
   "metadata": {
    "scrolled": false
   },
   "outputs": [],
   "source": [
    "#trainデータの予測\n",
    "for i in range(len(df_train)):\n",
    "    if df_train[\"week\"][i] == 4:\n",
    "        if df_train[\"highest\"][i] >= 15:\n",
    "            df_train[\"pred_drink2\"][i] = drink2_o15_w4[1].predict(df_train[[\"highest\",\"rain\", \"rain**2\"]])[i]\n",
    "        else:\n",
    "            df_train[\"pred_drink2\"][i] = drink2_u15_w4[1].predict(df_train[[\"rain\", \"rain**2\"]])[i]\n",
    "    else:\n",
    "        if df_train[\"highest\"][i] >= 15:\n",
    "            df_train[\"pred_drink2\"][i] = drink2_o15[1].predict(df_train[[\"highest\",\"rain\", \"rain**2\"]])[i]\n",
    "        else:\n",
    "            df_train[\"pred_drink2\"][i] = drink2_u15[1].predict(df_train[[\"rain\", \"rain**2\"]])[i]\n",
    "            \n",
    "#plt.scatter(df_train[\"pred_drink2\"], df_train[\"drink2\"])"
   ]
  },
  {
   "cell_type": "code",
   "execution_count": null,
   "id": "893af201",
   "metadata": {},
   "outputs": [],
   "source": [
    "# drink3(week≠4)\n",
    "df_train[\"rain**2\"] =df_train[\"rain\"]**2\n",
    "\n",
    "x_u15 = df_train[[\"rain\",\"rain**2\"]][(df_train[\"highest\"] <= 15) & (df_train[\"week\"] != 4)]\n",
    "y_u15 = df_train[[\"drink3\"]][(df_train[\"highest\"] <= 15) & (df_train[\"week\"] != 4)]\n",
    "#plt.scatter(x_u15[\"rain\"], y_u15)\n",
    "\n",
    "x_o15 = df_train[[\"highest\",\"rain\", \"rain**2\"]][(df_train[\"highest\"] >= 15) & (df_train[\"week\"] != 4)]\n",
    "y_o15 = df_train[[\"drink3\"]][(df_train[\"highest\"] >= 15) & (df_train[\"week\"] != 4)]\n",
    "#plt.scatter(x_o15[\"highest\"], y_o15)"
   ]
  },
  {
   "cell_type": "code",
   "execution_count": null,
   "id": "d022336c",
   "metadata": {},
   "outputs": [],
   "source": [
    "#15℃以上　最高気温、降水量、降水量の2乗で重回帰\n",
    "df_test[\"rain**2\"] = df_test[\"rain\"]**2\n",
    "test_x = df_test[[\"highest\",\"rain\", \"rain**2\"]]\n",
    "\n",
    "drink3_o15 = multiple_regression(\"drink3\", x_o15, y_o15, test_x)"
   ]
  },
  {
   "cell_type": "code",
   "execution_count": null,
   "id": "fcab0df5",
   "metadata": {},
   "outputs": [],
   "source": [
    "#15℃以下　最高気温、降水量、降水量の2乗で重回帰\n",
    "df_test[\"rain**2\"] = df_test[\"rain\"]**2\n",
    "test_x = df_test[[\"rain\", \"rain**2\"]]\n",
    "\n",
    "drink3_u15 = multiple_regression(\"drink3\", x_u15, y_u15, test_x)"
   ]
  },
  {
   "cell_type": "code",
   "execution_count": null,
   "id": "65f95042",
   "metadata": {},
   "outputs": [],
   "source": [
    "# drink3(week=4)\n",
    "df_train[\"rain**2\"] =df_train[\"rain\"]**2\n",
    "\n",
    "x_u15_w4 = df_train[[\"rain\",\"rain**2\"]][(df_train[\"highest\"] <= 15)]\n",
    "y_u15_w4 = df_train[[\"drink3\"]][(df_train[\"highest\"] <= 15)]\n",
    "#plt.scatter(x_u15_w4[\"rain\"], y_u15_w4)\n",
    "\n",
    "x_o15_w4 = df_train[[\"highest\",\"rain\", \"rain**2\"]][(df_train[\"highest\"] >= 15)]\n",
    "y_o15_w4 = df_train[[\"drink3\"]][(df_train[\"highest\"] >= 15)]\n",
    "#plt.scatter(x_o15_w4[\"highest\"], y_o15_w4)"
   ]
  },
  {
   "cell_type": "code",
   "execution_count": null,
   "id": "85d479ef",
   "metadata": {},
   "outputs": [],
   "source": [
    "#15℃以上　最高気温、降水量、降水量の2乗で重回帰\n",
    "df_test[\"rain**2\"] = df_test[\"rain\"]**2\n",
    "test_x = df_test[[\"highest\",\"rain\", \"rain**2\"]]\n",
    "\n",
    "drink3_o15_w4 = multiple_regression(\"drink3\", x_o15_w4, y_o15_w4, test_x)"
   ]
  },
  {
   "cell_type": "code",
   "execution_count": null,
   "id": "6e6e38eb",
   "metadata": {},
   "outputs": [],
   "source": [
    "#15℃以下　最高気温、降水量、降水量の2乗で重回帰\n",
    "df_test[\"rain**2\"] = df_test[\"rain\"]**2\n",
    "test_x = df_test[[\"rain\", \"rain**2\"]]\n",
    "\n",
    "drink3_u15_w4 = multiple_regression(\"drink3\", x_u15_w4, y_u15_w4, test_x)"
   ]
  },
  {
   "cell_type": "code",
   "execution_count": null,
   "id": "ce353ed0",
   "metadata": {},
   "outputs": [],
   "source": [
    "list = [\"0.01\", \"0.1\", \"0.5\", \"0.9\", \"0.99\"]\n",
    "\n",
    "for i in range(len(df_test)):\n",
    "    for j in range(5):\n",
    "        if df_test[\"week\"][i] == 4:\n",
    "            if df_test[\"highest\"][i] >=15:\n",
    "                df_test[\"drink3_\" + list[j]][i] = drink3_o15_w4[0][j][i]                \n",
    "            else:\n",
    "                df_test[\"drink3_\" + list[j]][i] = drink3_u15_w4[0][j][i]\n",
    "                #下限値処理\n",
    "                if df_test[\"drink3_\" + list[j]][i] <= np.min(df_train[\"drink3\"]):\n",
    "                    df_test[\"drink3_\" + list[j]][i] = np.min(df_train[\"drink3\"])\n",
    "        else:\n",
    "            if df_test[\"highest\"][i] >=15:\n",
    "                df_test[\"drink3_\" + list[j]][i] = drink3_o15[0][j][i]                \n",
    "            else:\n",
    "                df_test[\"drink3_\" + list[j]][i] = drink3_u15[0][j][i]\n",
    "                #下限値処理\n",
    "                if df_test[\"drink3_\" + list[j]][i] <= np.min(df_train[\"drink3\"]):\n",
    "                    df_test[\"drink3_\" + list[j]][i] = np.min(df_train[\"drink3\"])\n",
    "\n",
    "plt.scatter(df_test[\"highest\"],df_test[\"drink3_0.01\"])\n",
    "plt.scatter(df_test[\"highest\"],df_test[\"drink3_0.1\"])\n",
    "plt.scatter(df_test[\"highest\"],df_test[\"drink3_0.5\"])\n",
    "plt.scatter(df_test[\"highest\"],df_test[\"drink3_0.9\"])\n",
    "plt.scatter(df_test[\"highest\"],df_test[\"drink3_0.99\"])"
   ]
  },
  {
   "cell_type": "code",
   "execution_count": null,
   "id": "2b149659",
   "metadata": {},
   "outputs": [],
   "source": [
    "#trainデータの予測\n",
    "for i in range(len(df_train)):\n",
    "    if df_train[\"week\"][i] == 4:\n",
    "        if df_train[\"highest\"][i] >= 15:\n",
    "            df_train[\"pred_drink3\"][i] = drink3_o15_w4[1].predict(df_train[[\"highest\",\"rain\", \"rain**2\"]])[i]\n",
    "        else:\n",
    "            df_train[\"pred_drink3\"][i] = drink3_u15_w4[1].predict(df_train[[\"rain\", \"rain**2\"]])[i]\n",
    "    else:\n",
    "        if df_train[\"highest\"][i] >= 15:\n",
    "            df_train[\"pred_drink3\"][i] = drink3_o15[1].predict(df_train[[\"highest\",\"rain\", \"rain**2\"]])[i]\n",
    "        else:\n",
    "            df_train[\"pred_drink3\"][i] = drink3_u15[1].predict(df_train[[\"rain\", \"rain**2\"]])[i]\n",
    "            \n",
    "#plt.scatter(df_train[\"pred_drink3\"], df_train[\"drink3\"])"
   ]
  },
  {
   "cell_type": "code",
   "execution_count": null,
   "id": "12078d46",
   "metadata": {},
   "outputs": [],
   "source": [
    "# drink4\n",
    "df_train[\"rain**2\"] =df_train[\"rain\"]**2\n",
    "\n",
    "x_u15 = df_train[[\"rain\", \"rain**2\"]][(df_train[\"highest\"] <= 15)]\n",
    "y_u15 = df_train[[\"drink4\"]][(df_train[\"highest\"] <= 15)]\n",
    "#plt.scatter(x_u15[\"rain\"], y_u15)\n",
    "\n",
    "x_o15 = df_train[[\"highest\",\"rain\", \"rain**2\"]][(df_train[\"highest\"] >= 15)]\n",
    "y_o15 = df_train[[\"drink4\"]][(df_train[\"highest\"] >= 15)]\n",
    "#plt.scatter(x_o15[\"highest\"], y_o15)"
   ]
  },
  {
   "cell_type": "code",
   "execution_count": null,
   "id": "774faacf",
   "metadata": {},
   "outputs": [],
   "source": [
    "#15℃以上　最高気温、降水量、降水量の2乗で重回帰\n",
    "df_test[\"rain**2\"] = df_test[\"rain\"]**2\n",
    "test_x = df_test[[\"highest\",\"rain\", \"rain**2\"]]\n",
    "\n",
    "drink4_o15 = multiple_regression(\"drink4\", x_o15, y_o15, test_x)"
   ]
  },
  {
   "cell_type": "code",
   "execution_count": null,
   "id": "c26025c4",
   "metadata": {},
   "outputs": [],
   "source": [
    "#15℃以下　最高気温、降水量、降水量の2乗で重回帰\n",
    "df_test[\"rain**2\"] = df_test[\"rain\"]**2\n",
    "test_x = df_test[[\"rain\", \"rain**2\"]]\n",
    "\n",
    "drink4_u15 = multiple_regression(\"drink4\", x_u15, y_u15, test_x)"
   ]
  },
  {
   "cell_type": "code",
   "execution_count": null,
   "id": "82133619",
   "metadata": {
    "scrolled": false
   },
   "outputs": [],
   "source": [
    "list = [\"0.01\", \"0.1\", \"0.5\", \"0.9\", \"0.99\"]\n",
    "\n",
    "for i in range(len(df_test)):\n",
    "    for j in range(5):\n",
    "        if df_test[\"highest\"][i] >= 15:\n",
    "            df_test[\"drink4_\" + list[j]][i] = drink4_o15[0][j][i]\n",
    "        else:\n",
    "            df_test[\"drink4_\" + list[j]][i] = drink4_u15[0][j][i]\n",
    "            #下限値処理\n",
    "            if df_test[\"drink4_\" + list[j]][i] <= np.min(df_train[\"drink4\"]):\n",
    "                df_test[\"drink4_\" + list[j]][i] = np.min(df_train[\"drink4\"])\n",
    "\n",
    "plt.scatter(df_test[\"highest\"],df_test[\"drink4_0.01\"])\n",
    "plt.scatter(df_test[\"highest\"],df_test[\"drink4_0.1\"])\n",
    "plt.scatter(df_test[\"highest\"],df_test[\"drink4_0.5\"])\n",
    "plt.scatter(df_test[\"highest\"],df_test[\"drink4_0.9\"])\n",
    "plt.scatter(df_test[\"highest\"],df_test[\"drink4_0.99\"])"
   ]
  },
  {
   "cell_type": "code",
   "execution_count": null,
   "id": "78864736",
   "metadata": {},
   "outputs": [],
   "source": [
    "#trainデータの予測\n",
    "for i in range(len(df_train)):\n",
    "    if df_train[\"highest\"][i] >= 15:\n",
    "        df_train[\"pred_drink4\"][i] = drink4_o15[1].predict(df_train[[\"highest\",\"rain\", \"rain**2\"]])[i]\n",
    "    else:\n",
    "        df_train[\"pred_drink4\"][i] = drink4_u15[1].predict(df_train[[\"rain\", \"rain**2\"]])[i]\n",
    "        \n",
    "#plt.scatter(df_train[\"pred_drink4\"], df_train[\"drink4\"])"
   ]
  },
  {
   "cell_type": "code",
   "execution_count": null,
   "id": "df3753ff",
   "metadata": {},
   "outputs": [],
   "source": [
    "# drink5\n",
    "df_train[\"rain**2\"] =df_train[\"rain\"]**2\n",
    "\n",
    "x_o10 = df_train[[\"rain\", \"rain**2\"]][(df_train[\"highest\"] >= 10)]\n",
    "y_o10 = df_train[[\"drink5\"]][(df_train[\"highest\"] >= 10)]\n",
    "#plt.scatter(x_o10[\"rain\"], y_o10)\n",
    "\n",
    "x_u10 = df_train[[\"highest\",\"rain\", \"rain**2\"]][(df_train[\"highest\"] <= 10)]\n",
    "y_u10 = df_train[[\"drink5\"]][(df_train[\"highest\"] <= 10)]\n",
    "#plt.scatter(x_u10[\"highest\"], y_u10)"
   ]
  },
  {
   "cell_type": "code",
   "execution_count": null,
   "id": "bcc06c73",
   "metadata": {},
   "outputs": [],
   "source": [
    "#10℃以下　最高気温、降水量、降水量の2乗で重回帰\n",
    "df_test[\"rain**2\"] = df_test[\"rain\"]**2\n",
    "test_x = df_test[[\"highest\",\"rain\", \"rain**2\"]]\n",
    "\n",
    "drink5_u10 = multiple_regression(\"drink5\", x_u10, y_u10, test_x)"
   ]
  },
  {
   "cell_type": "code",
   "execution_count": null,
   "id": "6138326c",
   "metadata": {},
   "outputs": [],
   "source": [
    "#10℃以上　最高気温、降水量、降水量の2乗で重回帰\n",
    "df_test[\"rain**2\"] = df_test[\"rain\"]**2\n",
    "test_x = df_test[[\"rain\", \"rain**2\"]]\n",
    "\n",
    "drink5_o10 = multiple_regression(\"drink5\", x_o10, y_o10, test_x)"
   ]
  },
  {
   "cell_type": "code",
   "execution_count": null,
   "id": "c7e2263c",
   "metadata": {
    "scrolled": false
   },
   "outputs": [],
   "source": [
    "list = [\"0.01\", \"0.1\", \"0.5\", \"0.9\", \"0.99\"]\n",
    "\n",
    "for i in range(len(df_test)):\n",
    "    for j in range(5):\n",
    "        if df_test[\"highest\"][i] <= 10:\n",
    "            df_test[\"drink5_\" + list[j]][i] = drink5_u10[0][j][i]\n",
    "        else:\n",
    "            df_test[\"drink5_\" + list[j]][i] = drink5_o10[0][j][i]\n",
    "            #下限値処理\n",
    "            if df_test[\"drink5_\" + list[j]][i] <= np.min(df_train[\"drink5\"]):\n",
    "                df_test[\"drink5_\" + list[j]][i] = np.min(df_train[\"drink5\"])\n",
    "            #上限値処理\n",
    "            if df_test[\"drink5_\" + list[j]][i] >= np.max(df_train[\"drink5\"]):\n",
    "                df_test[\"drink5_\" + list[j]][i] = np.max(df_train[\"drink5\"])\n",
    "\n",
    "plt.scatter(df_test[\"highest\"],df_test[\"drink5_0.01\"])\n",
    "plt.scatter(df_test[\"highest\"],df_test[\"drink5_0.1\"])\n",
    "plt.scatter(df_test[\"highest\"],df_test[\"drink5_0.5\"])\n",
    "plt.scatter(df_test[\"highest\"],df_test[\"drink5_0.9\"])\n",
    "plt.scatter(df_test[\"highest\"],df_test[\"drink5_0.99\"])"
   ]
  },
  {
   "cell_type": "code",
   "execution_count": null,
   "id": "e4c16b70",
   "metadata": {},
   "outputs": [],
   "source": [
    "#trainデータの予測\n",
    "for i in range(len(df_train)):\n",
    "    if df_train[\"highest\"][i] <= 10:\n",
    "        df_train[\"pred_drink5\"][i] = drink5_u10[1].predict(df_train[[\"highest\",\"rain\", \"rain**2\"]])[i]\n",
    "    else:\n",
    "        df_train[\"pred_drink5\"][i] = drink5_o10[1].predict(df_train[[\"rain\", \"rain**2\"]])[i]\n",
    "        \n",
    "#plt.scatter(df_train[\"pred_drink5\"], df_train[\"drink5\"])"
   ]
  },
  {
   "cell_type": "code",
   "execution_count": null,
   "id": "00983d03",
   "metadata": {},
   "outputs": [],
   "source": [
    "# drink6\n",
    "df_train[\"rain**2\"] =df_train[\"rain\"]**2\n",
    "df_train[\"rain**3\"] =df_train[\"rain\"]**3\n",
    "\n",
    "x_o10 = df_train[[\"rain\", \"rain**2\", \"rain**3\"]][(df_train[\"highest\"] >= 10)]\n",
    "y_o10 = df_train[[\"drink6\"]][(df_train[\"highest\"] >= 10)]\n",
    "#plt.scatter(x_o10[\"rain\"], y_o10)\n",
    "\n",
    "x_u10 = df_train[[\"highest\",\"rain\", \"rain**2\"]][(df_train[\"highest\"] <= 10)]\n",
    "y_u10 = df_train[[\"drink6\"]][(df_train[\"highest\"] <= 10)]\n",
    "#plt.scatter(x_u10[\"highest\"], y_u10)"
   ]
  },
  {
   "cell_type": "code",
   "execution_count": null,
   "id": "07f8ccf0",
   "metadata": {},
   "outputs": [],
   "source": [
    "#10℃以下　最高気温、降水量、降水量の2乗で重回帰\n",
    "df_test[\"rain**2\"] = df_test[\"rain\"]**2\n",
    "test_x = df_test[[\"highest\",\"rain\", \"rain**2\"]]\n",
    "\n",
    "drink6_u10 = multiple_regression(\"drink6\", x_u10, y_u10, test_x)"
   ]
  },
  {
   "cell_type": "code",
   "execution_count": null,
   "id": "d82de07f",
   "metadata": {},
   "outputs": [],
   "source": [
    "#10℃以上　最高気温、降水量、降水量の2乗で重回帰\n",
    "df_test[\"rain**2\"] = df_test[\"rain\"]**2\n",
    "df_test[\"rain**3\"] = df_test[\"rain\"]**3\n",
    "test_x = df_test[[\"rain\", \"rain**2\", \"rain**3\"]]\n",
    "\n",
    "drink6_o10 = multiple_regression(\"drink6\", x_o10, y_o10, test_x)"
   ]
  },
  {
   "cell_type": "code",
   "execution_count": null,
   "id": "ac0abc92",
   "metadata": {},
   "outputs": [],
   "source": [
    "list = [\"0.01\", \"0.1\", \"0.5\", \"0.9\", \"0.99\"]\n",
    "\n",
    "for i in range(len(df_test)):\n",
    "    for j in range(5):\n",
    "        if df_test[\"highest\"][i] <= 10:\n",
    "            df_test[\"drink6_\" + list[j]][i] = drink6_u10[0][j][i]\n",
    "        else:\n",
    "            df_test[\"drink6_\" + list[j]][i] = drink6_o10[0][j][i]\n",
    "            #下限値処理\n",
    "            if df_test[\"drink6_\" + list[j]][i] <= np.min(df_train[\"drink6\"]):\n",
    "                df_test[\"drink6_\" + list[j]][i] = np.min(df_train[\"drink6\"])\n",
    "            #上限値処理\n",
    "            if df_test[\"drink6_\" + list[j]][i] >= np.max(df_train[\"drink6\"]):\n",
    "                df_test[\"drink6_\" + list[j]][i] = np.max(df_train[\"drink6\"])\n",
    "\n",
    "plt.scatter(df_test[\"highest\"],df_test[\"drink6_0.01\"])\n",
    "plt.scatter(df_test[\"highest\"],df_test[\"drink6_0.1\"])\n",
    "plt.scatter(df_test[\"highest\"],df_test[\"drink6_0.5\"])\n",
    "plt.scatter(df_test[\"highest\"],df_test[\"drink6_0.9\"])\n",
    "plt.scatter(df_test[\"highest\"],df_test[\"drink6_0.99\"])"
   ]
  },
  {
   "cell_type": "code",
   "execution_count": null,
   "id": "6c19beb2",
   "metadata": {},
   "outputs": [],
   "source": [
    "#trainデータの予測\n",
    "for i in range(len(df_train)):\n",
    "    if df_train[\"highest\"][i] <= 10:\n",
    "        df_train[\"pred_drink6\"][i] = drink6_u10[1].predict(df_train[[\"highest\",\"rain\", \"rain**2\"]])[i]\n",
    "    else:\n",
    "        df_train[\"pred_drink6\"][i] = drink6_o10[1].predict(df_train[[\"rain\", \"rain**2\", \"rain**3\"]])[i]\n",
    "        \n",
    "#plt.scatter(df_train[\"pred_drink6\"], df_train[\"drink6\"])"
   ]
  },
  {
   "cell_type": "markdown",
   "id": "8346b06e",
   "metadata": {},
   "source": [
    "# alcol"
   ]
  },
  {
   "cell_type": "code",
   "execution_count": null,
   "id": "eb616393",
   "metadata": {},
   "outputs": [],
   "source": [
    "# 週に対してプロット\n",
    "plt.figure(figsize=(15, 4))\n",
    "for i in range(3):\n",
    "    plt.subplot(1,3,i+1)    \n",
    "    plt.scatter(df_train[\"week\"],df_train[\"alcol\"+str(i+1)],label=\"alcol\"+str(i+1))\n",
    "    plt.xlabel(\"week\")\n",
    "    plt.ylabel(\"alcol\"+str(i+1))"
   ]
  },
  {
   "cell_type": "code",
   "execution_count": null,
   "id": "1d426f44",
   "metadata": {},
   "outputs": [],
   "source": [
    "# 週の平均値で割って、雨に対してプロット\n",
    "plt.figure(figsize=(15, 4))\n",
    "for i in range(3):\n",
    "    for w in range(7):\n",
    "        plt.subplot(1,3,i+1)    \n",
    "        plt.scatter(df_train[\"rain\"][df_train[\"week\"] == w],df_train[\"alcol\"+str(i+1)][df_train[\"week\"] == w]-np.average(df_train[\"alcol\"+str(i+1)][df_train[\"week\"] == w]),label=\"alcol\"+str(i+1)+\"_week=\"+str(w))\n",
    "        plt.xlabel(\"rain\")\n",
    "        plt.ylabel(\"alcol\"+str(i+1)+\"/weekave\")\n",
    "        plt.legend()"
   ]
  },
  {
   "cell_type": "markdown",
   "id": "7503913e",
   "metadata": {},
   "source": [
    "### 週と雨で決まる"
   ]
  },
  {
   "cell_type": "code",
   "execution_count": null,
   "id": "4a4424a5",
   "metadata": {
    "scrolled": false
   },
   "outputs": [],
   "source": [
    "#alcol1\n",
    "x = df_train[[\"week\",\"rain\"]]\n",
    "y = df_train[[\"alcol1\"]]\n",
    "test_x = df_test[[\"week\",\"rain\"]]\n",
    "\n",
    "alcol1 = multiple_regression(\"alcol1\", x, y, test_x)\n",
    "\n",
    "#trainデータの予測\n",
    "df_train[\"pred_alcol1\"] = alcol1[1].predict(x)\n",
    "plt.scatter(df_train[\"pred_alcol1\"], df_train[\"alcol1\"])"
   ]
  },
  {
   "cell_type": "code",
   "execution_count": null,
   "id": "71716310",
   "metadata": {},
   "outputs": [],
   "source": [
    "#alcol2\n",
    "x = df_train[[\"week\",\"rain\"]]\n",
    "y = df_train[[\"alcol2\"]]\n",
    "test_x = df_test[[\"week\",\"rain\"]]\n",
    "\n",
    "alcol2 = multiple_regression(\"alcol2\", x, y, test_x)\n",
    "\n",
    "#trainデータの予測\n",
    "df_train[\"pred_alcol2\"] = alcol2[1].predict(x)\n",
    "plt.scatter(df_train[\"pred_alcol2\"], df_train[\"alcol2\"])"
   ]
  },
  {
   "cell_type": "code",
   "execution_count": null,
   "id": "8a93e457",
   "metadata": {},
   "outputs": [],
   "source": [
    "#alcol3\n",
    "x = df_train[[\"week\",\"rain\"]][df_train[\"alcol3\"] < 150]\n",
    "y = df_train[[\"alcol3\"]][df_train[\"alcol3\"] < 150]\n",
    "test_x = df_test[[\"week\",\"rain\"]]\n",
    "\n",
    "alcol3 = multiple_regression(\"alcol3\", x, y, test_x)\n",
    "\n",
    "#trainデータの予測\n",
    "df_train[\"pred_alcol3\"] = alcol3[1].predict(df_train[[\"week\",\"rain\"]])\n",
    "plt.scatter(df_train[\"pred_alcol3\"], df_train[\"alcol3\"])"
   ]
  },
  {
   "cell_type": "markdown",
   "id": "2317ba8e",
   "metadata": {},
   "source": [
    "# snack"
   ]
  },
  {
   "cell_type": "code",
   "execution_count": null,
   "id": "f79e614a",
   "metadata": {
    "scrolled": true
   },
   "outputs": [],
   "source": [
    "plt.figure(figsize=(15, 4))\n",
    "for i in range(3):\n",
    "    plt.subplot(1,3,i+1)    \n",
    "    plt.scatter(df_train[\"week\"],df_train[\"snack\"+str(i+1)])\n",
    "    plt.xlabel(\"week\")\n",
    "    plt.ylabel(\"snack\"+str(i+1))"
   ]
  },
  {
   "cell_type": "markdown",
   "id": "ac42f0b6",
   "metadata": {},
   "source": [
    "### 週で決まる"
   ]
  },
  {
   "cell_type": "code",
   "execution_count": null,
   "id": "955f8f97",
   "metadata": {},
   "outputs": [],
   "source": [
    "#snack1\n",
    "taus = np.array([0.01, 0.1, 0.5, 0.9, 0.99])\n",
    "m = len(taus) \n",
    "df_train[\"pred_snack1\"] = 0\n",
    "\n",
    "for i in range(m):\n",
    "    df_test[\"snack1_\"+str(taus[i])]=0\n",
    "\n",
    "for i in range(7):\n",
    "    y=np.array(df_train[\"snack1\"][(df_train[\"week\"] == i)])\n",
    "    \n",
    "    c_array = np.percentile(y, q=[1, 10, 50, 90, 99])\n",
    "    df_train[\"pred_snack1\"][df_train[\"week\"] == i] = c_array[2] \n",
    "    \n",
    "    for j in range(m):\n",
    "        df_test[\"snack1_\"+str(taus[j])][(df_test[\"week\"] == i)]=c_array[j]"
   ]
  },
  {
   "cell_type": "code",
   "execution_count": null,
   "id": "a4014cc0",
   "metadata": {},
   "outputs": [],
   "source": [
    "#snack2\n",
    "taus = np.array([0.01, 0.1, 0.5, 0.9, 0.99])\n",
    "m = len(taus) \n",
    "df_train[\"pred_snack2\"] = 0\n",
    "\n",
    "for i in range(m):\n",
    "    df_test[\"snack2_\"+str(taus[i])]=0\n",
    "\n",
    "for i in range(7):\n",
    "    y=np.array(df_train[\"snack2\"][(df_train[\"week\"] == i)])\n",
    "    \n",
    "    c_array = np.percentile(y, q=[1, 10, 50, 90, 99])\n",
    "    df_train[\"pred_snack2\"][df_train[\"week\"] == i] = c_array[2] \n",
    "    \n",
    "    for j in range(m):\n",
    "        df_test[\"snack2_\"+str(taus[j])][(df_test[\"week\"] == i)]=c_array[j]"
   ]
  },
  {
   "cell_type": "code",
   "execution_count": null,
   "id": "bc70a29b",
   "metadata": {},
   "outputs": [],
   "source": [
    "#snack3\n",
    "taus = np.array([0.01, 0.1, 0.5, 0.9, 0.99])\n",
    "m = len(taus) \n",
    "df_train[\"pred_snack3\"] = 0\n",
    "\n",
    "for i in range(m):\n",
    "    df_test[\"snack3_\"+str(taus[i])]=0\n",
    "\n",
    "for i in range(7):\n",
    "    y=np.array(df_train[\"snack3\"][(df_train[\"week\"] == i)])\n",
    "    \n",
    "    c_array = np.percentile(y, q=[1, 10, 50, 90, 99])\n",
    "    df_train[\"pred_snack3\"][df_train[\"week\"] == i] = c_array[2] \n",
    "    \n",
    "    for j in range(m):\n",
    "        df_test[\"snack3_\"+str(taus[j])][(df_test[\"week\"] == i)]=c_array[j]"
   ]
  },
  {
   "cell_type": "code",
   "execution_count": null,
   "id": "51313a6d",
   "metadata": {},
   "outputs": [],
   "source": [
    "plt.figure(figsize=(15, 4))\n",
    "for i in range(3):\n",
    "    plt.subplot(1,3,i+1)    \n",
    "    plt.scatter(df_train[\"week\"],df_train[\"snack\"+str(i+1)])\n",
    "    plt.scatter(df_test[\"week\"],df_test[\"snack\"+str(i+1)+\"_0.01\"])\n",
    "    plt.scatter(df_test[\"week\"],df_test[\"snack\"+str(i+1)+\"_0.1\"])\n",
    "    plt.scatter(df_test[\"week\"],df_test[\"snack\"+str(i+1)+\"_0.5\"])\n",
    "    plt.scatter(df_test[\"week\"],df_test[\"snack\"+str(i+1)+\"_0.9\"])\n",
    "    plt.scatter(df_test[\"week\"],df_test[\"snack\"+str(i+1)+\"_0.99\"])\n",
    "    plt.xlabel(\"week\")\n",
    "    plt.ylabel(\"snack\"+str(i+1))"
   ]
  },
  {
   "cell_type": "markdown",
   "id": "ddc08da3",
   "metadata": {},
   "source": [
    "# bento"
   ]
  },
  {
   "cell_type": "code",
   "execution_count": null,
   "id": "3e794118",
   "metadata": {
    "scrolled": true
   },
   "outputs": [],
   "source": [
    "plt.figure(figsize=(15, 4))\n",
    "for i in range(4):\n",
    "    plt.subplot(1,4,i+1)    \n",
    "    plt.scatter(df_train[\"week\"],df_train[\"bento\"+str(i+1)])\n",
    "    plt.xlabel(\"week\")\n",
    "    plt.ylabel(\"bento\"+str(i+1))"
   ]
  },
  {
   "cell_type": "markdown",
   "id": "41e4d10a",
   "metadata": {},
   "source": [
    "### 週で決まる"
   ]
  },
  {
   "cell_type": "code",
   "execution_count": null,
   "id": "5e0bc569",
   "metadata": {},
   "outputs": [],
   "source": [
    "#bento1\n",
    "taus = np.array([0.01, 0.1, 0.5, 0.9, 0.99])\n",
    "m = len(taus) \n",
    "df_train[\"pred_bento1\"] = 0\n",
    "\n",
    "for i in range(m):\n",
    "    df_test[\"bento1_\"+str(taus[i])]=0\n",
    "\n",
    "for i in range(7):\n",
    "    y=np.array(df_train[\"bento1\"][(df_train[\"week\"] == i)])\n",
    "    \n",
    "    c_array = np.percentile(y, q=[1, 10, 50, 90, 99])\n",
    "    df_train[\"pred_bento1\"][df_train[\"week\"] == i] = c_array[2] \n",
    "    \n",
    "    for j in range(m):\n",
    "        df_test[\"bento1_\"+str(taus[j])][(df_test[\"week\"] == i)]=c_array[j]"
   ]
  },
  {
   "cell_type": "code",
   "execution_count": null,
   "id": "e0a1b882",
   "metadata": {},
   "outputs": [],
   "source": [
    "#bento2\n",
    "taus = np.array([0.01, 0.1, 0.5, 0.9, 0.99])\n",
    "m = len(taus) \n",
    "df_train[\"pred_bento2\"] = 0\n",
    "\n",
    "for i in range(m):\n",
    "    df_test[\"bento2_\"+str(taus[i])]=0\n",
    "\n",
    "for i in range(7):\n",
    "    y=np.array(df_train[\"bento2\"][(df_train[\"week\"] == i)])\n",
    "    \n",
    "    c_array = np.percentile(y, q=[1, 10, 50, 90, 99])\n",
    "    df_train[\"pred_bento2\"][df_train[\"week\"] == i] = c_array[2] \n",
    "    \n",
    "    for j in range(m):\n",
    "        df_test[\"bento2_\"+str(taus[j])][(df_test[\"week\"] == i)]=c_array[j]"
   ]
  },
  {
   "cell_type": "code",
   "execution_count": null,
   "id": "31be473f",
   "metadata": {},
   "outputs": [],
   "source": [
    "#bento3\n",
    "taus = np.array([0.01, 0.1, 0.5, 0.9, 0.99])\n",
    "m = len(taus) \n",
    "df_train[\"pred_bento3\"] = 0\n",
    "\n",
    "for i in range(m):\n",
    "    df_test[\"bento3_\"+str(taus[i])]=0\n",
    "\n",
    "for i in range(7):\n",
    "    y=np.array(df_train[\"bento3\"][(df_train[\"week\"] == i)])\n",
    "    \n",
    "    c_array = np.percentile(y, q=[1, 10, 50, 90, 99])\n",
    "    df_train[\"pred_bento3\"][df_train[\"week\"] == i] = c_array[2] \n",
    "    \n",
    "    for j in range(m):\n",
    "        df_test[\"bento3_\"+str(taus[j])][(df_test[\"week\"] == i)]=c_array[j]"
   ]
  },
  {
   "cell_type": "code",
   "execution_count": null,
   "id": "a943142e",
   "metadata": {},
   "outputs": [],
   "source": [
    "#bento4\n",
    "taus = np.array([0.01, 0.1, 0.5, 0.9, 0.99])\n",
    "m = len(taus) \n",
    "df_train[\"pred_bento4\"] = 0\n",
    "\n",
    "for i in range(m):\n",
    "    df_test[\"bento4_\"+str(taus[i])]=0\n",
    "\n",
    "for i in range(7):\n",
    "    y=np.array(df_train[\"bento4\"][(df_train[\"week\"] == i)])\n",
    "    \n",
    "    c_array = np.percentile(y, q=[1, 10, 50, 90, 99])\n",
    "    df_train[\"pred_bento4\"][df_train[\"week\"] == i] = c_array[2] \n",
    "    \n",
    "    for j in range(m):\n",
    "        df_test[\"bento4_\"+str(taus[j])][(df_test[\"week\"] == i)]=c_array[j]"
   ]
  },
  {
   "cell_type": "code",
   "execution_count": null,
   "id": "61bef455",
   "metadata": {},
   "outputs": [],
   "source": [
    "plt.figure(figsize=(15, 4))\n",
    "for i in range(4):\n",
    "    plt.subplot(1,4,i+1)    \n",
    "    plt.scatter(df_train[\"week\"],df_train[\"bento\"+str(i+1)])\n",
    "    plt.scatter(df_test[\"week\"],df_test[\"bento\"+str(i+1)+\"_0.01\"])\n",
    "    plt.scatter(df_test[\"week\"],df_test[\"bento\"+str(i+1)+\"_0.1\"])\n",
    "    plt.scatter(df_test[\"week\"],df_test[\"bento\"+str(i+1)+\"_0.5\"])\n",
    "    plt.scatter(df_test[\"week\"],df_test[\"bento\"+str(i+1)+\"_0.9\"])\n",
    "    plt.scatter(df_test[\"week\"],df_test[\"bento\"+str(i+1)+\"_0.99\"])\n",
    "    plt.xlabel(\"week\")\n",
    "    plt.ylabel(\"bento\"+str(i+1))"
   ]
  },
  {
   "cell_type": "markdown",
   "id": "0e8eb7a6",
   "metadata": {},
   "source": [
    "# tild"
   ]
  },
  {
   "cell_type": "code",
   "execution_count": null,
   "id": "046a6abd",
   "metadata": {},
   "outputs": [],
   "source": [
    "#週\n",
    "plt.figure(figsize=(10, 4))\n",
    "for i in range(2):\n",
    "    plt.subplot(1,2,i+1)    \n",
    "    plt.scatter(df_train[\"week\"],df_train[\"tild\"+str(i+1)])\n",
    "    plt.xlabel(\"week\")\n",
    "    plt.ylabel(\"tild\"+str(i+1))"
   ]
  },
  {
   "cell_type": "code",
   "execution_count": null,
   "id": "04e5c992",
   "metadata": {},
   "outputs": [],
   "source": [
    "#rain\n",
    "plt.figure(figsize=(10, 4))\n",
    "for i in range(2):\n",
    "    for w in range(7):\n",
    "        plt.subplot(1,2,i+1)    \n",
    "        plt.scatter(df_train[\"rain\"][df_train[\"week\"]==w],df_train[\"tild\"+str(i+1)][df_train[\"week\"]==w])\n",
    "        plt.xlabel(\"rain\")\n",
    "        plt.ylabel(\"tild\"+str(i+1))"
   ]
  },
  {
   "cell_type": "code",
   "execution_count": null,
   "id": "6d3dcbae",
   "metadata": {},
   "outputs": [],
   "source": [
    "#翌日雨\n",
    "df_train[\"rain_tomorrow\"] = df_train[\"rain\"].shift(-1)\n",
    "df_train[\"rain_tomorrow\"][349] = df_test[\"rain\"][0]\n",
    "df_test[\"rain_tomorrow\"] = df_test[\"rain\"].shift(-1)\n",
    "df_test[\"rain_tomorrow\"][20] = 0\n",
    "\n",
    "plt.figure(figsize=(10, 4))\n",
    "for i in range(2):\n",
    "    for w in range(7):\n",
    "        plt.subplot(1,2,i+1)    \n",
    "        plt.scatter(df_train[\"rain_tomorrow\"][(df_train[\"week\"]==w) & (df_train[\"rain\"] == 0)],df_train[\"tild\"+str(i+1)][(df_train[\"week\"]==w) & (df_train[\"rain\"] == 0)])\n",
    "        plt.xlabel(\"rain_tomorrow\")\n",
    "        plt.ylabel(\"tild\"+str(i+1))"
   ]
  },
  {
   "cell_type": "markdown",
   "id": "b9b59a77",
   "metadata": {},
   "source": [
    "### 週依存少しだけある(week=2が売れやすい)\n",
    "### 雨が降ると売れにくい\n",
    "### 雨が降ってなくて、次の日雨の時売れやすい"
   ]
  },
  {
   "attachments": {
    "image-2.png": {
     "image/png": "[encoded data removed]"
    }
   },
   "cell_type": "markdown",
   "id": "9598c487",
   "metadata": {},
   "source": [
    "![image-2.png](attachment:image-2.png)"
   ]
  },
  {
   "cell_type": "code",
   "execution_count": null,
   "id": "1f9ae2fb",
   "metadata": {
    "scrolled": false
   },
   "outputs": [],
   "source": [
    "df_train[\"tild_class\"] = 0\n",
    "df_train[\"tild1_pred\"] = 0\n",
    "df_train[\"tild2_pred\"] = 0\n",
    "\n",
    "for i in range(len(df_train)):\n",
    "    if df_train[\"rain\"][i] != 0:\n",
    "        if df_train[\"week\"][i] != 2:\n",
    "            df_train[\"tild_class\"][i] = 0\n",
    "            df_train[\"tild1_pred\"][i] = np.average(df_train[\"tild1\"][(df_train[\"rain\"] != 0) & (df_train[\"week\"] != 2)])\n",
    "            df_train[\"tild2_pred\"][i] = np.average(df_train[\"tild2\"][(df_train[\"rain\"] != 0) & (df_train[\"week\"] != 2)])\n",
    "        else:\n",
    "            df_train[\"tild_class\"][i] = 1\n",
    "            df_train[\"tild1_pred\"][i] = np.average(df_train[\"tild1\"][(df_train[\"rain\"] != 0) & (df_train[\"week\"] == 2)])\n",
    "            df_train[\"tild2_pred\"][i] = np.average(df_train[\"tild2\"][(df_train[\"rain\"] != 0) & (df_train[\"week\"] == 2)])\n",
    "    else:\n",
    "        if df_train[\"rain_tomorrow\"][i] != 0:\n",
    "            if df_train[\"week\"][i] != 2:\n",
    "                df_train[\"tild_class\"][i] = 2\n",
    "                df_train[\"tild1_pred\"][i] = np.average(df_train[\"tild1\"][(df_train[\"rain\"] == 0) & (df_train[\"rain_tomorrow\"] != 0) & (df_train[\"week\"] != 2)])\n",
    "                df_train[\"tild2_pred\"][i] = np.average(df_train[\"tild2\"][(df_train[\"rain\"] == 0) & (df_train[\"rain_tomorrow\"] != 0) & (df_train[\"week\"] != 2)])\n",
    "            else:\n",
    "                df_train[\"tild_class\"][i] = 3\n",
    "                df_train[\"tild1_pred\"][i] = np.average(df_train[\"tild1\"][(df_train[\"rain\"] == 0) & (df_train[\"rain_tomorrow\"] != 0) & (df_train[\"week\"] == 2)])\n",
    "                df_train[\"tild2_pred\"][i] = np.average(df_train[\"tild2\"][(df_train[\"rain\"] == 0) & (df_train[\"rain_tomorrow\"] != 0) & (df_train[\"week\"] == 2)])\n",
    "        else:\n",
    "            if df_train[\"week\"][i] != 2:\n",
    "                df_train[\"tild_class\"][i] = 4\n",
    "                df_train[\"tild1_pred\"][i] = np.average(df_train[\"tild1\"][(df_train[\"rain\"] == 0) & (df_train[\"rain_tomorrow\"] == 0) & (df_train[\"week\"] != 2)])\n",
    "                df_train[\"tild2_pred\"][i] = np.average(df_train[\"tild2\"][(df_train[\"rain\"] == 0) & (df_train[\"rain_tomorrow\"] == 0) & (df_train[\"week\"] != 2)])\n",
    "            else:\n",
    "                df_train[\"tild_class\"][i] = 5\n",
    "                df_train[\"tild1_pred\"][i] = np.average(df_train[\"tild1\"][(df_train[\"rain\"] == 0) & (df_train[\"rain_tomorrow\"] == 0) & (df_train[\"week\"] == 2)])\n",
    "                df_train[\"tild2_pred\"][i] = np.average(df_train[\"tild2\"][(df_train[\"rain\"] == 0) & (df_train[\"rain_tomorrow\"] == 0) & (df_train[\"week\"] == 2)])\n",
    "                \n",
    "#plt.scatter(df_train[\"tild1_pred\"], df_train[\"tild1\"])\n",
    "#plt.scatter(df_train[\"tild2_pred\"], df_train[\"tild2\"])"
   ]
  },
  {
   "cell_type": "code",
   "execution_count": null,
   "id": "73c0889b",
   "metadata": {},
   "outputs": [],
   "source": [
    "df_test[\"tild_class\"] = 0\n",
    "\n",
    "for i in range(len(df_test)):\n",
    "    if df_test[\"rain\"][i] != 0:\n",
    "        if df_test[\"week\"][i] != 2:\n",
    "            df_test[\"tild_class\"][i] = 0\n",
    "        else:\n",
    "            df_test[\"tild_class\"][i] =1\n",
    "    else:\n",
    "        if df_test[\"rain_tomorrow\"][i] != 0:\n",
    "            if df_test[\"week\"][i] != 2:\n",
    "                df_test[\"tild_class\"][i] = 2\n",
    "            else:\n",
    "                df_test[\"tild_class\"][i] = 3\n",
    "        else:\n",
    "            if df_test[\"week\"][i] != 2:\n",
    "                df_test[\"tild_class\"][i] = 4\n",
    "            else:\n",
    "                df_test[\"tild_class\"][i] = 5"
   ]
  },
  {
   "cell_type": "code",
   "execution_count": null,
   "id": "7df47ad1",
   "metadata": {},
   "outputs": [],
   "source": [
    "#tild1\n",
    "taus = np.array([0.01, 0.1, 0.5, 0.9, 0.99])\n",
    "m = len(taus) \n",
    "\n",
    "for i in range(m):\n",
    "    df_test[\"tild1_\"+str(taus[i])]=0\n",
    "\n",
    "for i in range(6):\n",
    "    y=np.array(df_train[\"tild1\"][(df_train[\"tild_class\"] == i)])\n",
    "    \n",
    "    c_array = np.percentile(y, q=[1, 10, 50, 90, 99])\n",
    "    \n",
    "    for j in range(m):\n",
    "        df_test[\"tild1_\"+str(taus[j])][(df_test[\"tild_class\"] == i)]=c_array[j]"
   ]
  },
  {
   "cell_type": "code",
   "execution_count": null,
   "id": "650268da",
   "metadata": {},
   "outputs": [],
   "source": [
    "#tild2\n",
    "taus = np.array([0.01, 0.1, 0.5, 0.9, 0.99])\n",
    "m = len(taus) \n",
    "\n",
    "for i in range(m):\n",
    "    df_test[\"tild2_\"+str(taus[i])]=0\n",
    "\n",
    "for i in range(6):\n",
    "    y=np.array(df_train[\"tild2\"][(df_train[\"tild_class\"] == i)])\n",
    "    \n",
    "    c_array = np.percentile(y, q=[1, 10, 50, 90, 99])\n",
    "    \n",
    "    for j in range(m):\n",
    "        df_test[\"tild2_\"+str(taus[j])][(df_test[\"tild_class\"] == i)]=c_array[j]"
   ]
  },
  {
   "cell_type": "code",
   "execution_count": null,
   "id": "453f57c6",
   "metadata": {},
   "outputs": [],
   "source": [
    "plt.figure(figsize=(10, 4))\n",
    "plt.subplot(1,2,1)\n",
    "plt.scatter(df_test[\"date\"],df_test[\"tild1_0.01\"])\n",
    "plt.scatter(df_test[\"date\"],df_test[\"tild1_0.1\"])\n",
    "plt.scatter(df_test[\"date\"],df_test[\"tild1_0.5\"])\n",
    "plt.scatter(df_test[\"date\"],df_test[\"tild1_0.9\"])\n",
    "plt.scatter(df_test[\"date\"],df_test[\"tild1_0.99\"])\n",
    "plt.ylabel(\"tild1\")\n",
    "plt.subplot(1,2,2)\n",
    "plt.scatter(df_test[\"date\"],df_test[\"tild2_0.01\"])\n",
    "plt.scatter(df_test[\"date\"],df_test[\"tild2_0.1\"])\n",
    "plt.scatter(df_test[\"date\"],df_test[\"tild2_0.5\"])\n",
    "plt.scatter(df_test[\"date\"],df_test[\"tild2_0.9\"])\n",
    "plt.scatter(df_test[\"date\"],df_test[\"tild2_0.99\"])\n",
    "plt.ylabel(\"tild2\")"
   ]
  },
  {
   "cell_type": "markdown",
   "id": "fd5a653a",
   "metadata": {},
   "source": [
    "# men"
   ]
  },
  {
   "cell_type": "code",
   "execution_count": null,
   "id": "72ce6306",
   "metadata": {},
   "outputs": [],
   "source": [
    "plt.figure(figsize=(15, 8))\n",
    "for i in range(6):\n",
    "    plt.subplot(2,3,i+1)    \n",
    "    plt.scatter(df_train[\"week\"],df_train[\"men\"+str(i+1)])\n",
    "    plt.xlabel(\"week\")\n",
    "    plt.ylabel(\"tild\"+str(i+1))"
   ]
  },
  {
   "cell_type": "code",
   "execution_count": null,
   "id": "a9148bd7",
   "metadata": {},
   "outputs": [],
   "source": [
    "plt.figure(figsize=(15, 8))\n",
    "for i in range(6):\n",
    "    for w in range(7):\n",
    "        plt.subplot(2,3,i+1)    \n",
    "        plt.scatter(df_train[\"rain\"][df_train[\"week\"]==w],df_train[\"men\"+str(i+1)][df_train[\"week\"]==w])\n",
    "        plt.xlabel(\"rain\")\n",
    "        plt.ylabel(\"men\"+str(i+1))"
   ]
  },
  {
   "cell_type": "code",
   "execution_count": null,
   "id": "ceab4ac9",
   "metadata": {
    "scrolled": false
   },
   "outputs": [],
   "source": [
    "plt.figure(figsize=(15, 8))\n",
    "for i in range(6):\n",
    "    for w in range(7):\n",
    "        plt.subplot(2,3,i+1)    \n",
    "        plt.scatter(df_train[\"rain_tomorrow\"][(df_train[\"week\"]==w) & (df_train[\"rain\"] == 0)],df_train[\"men\"+str(i+1)][(df_train[\"week\"]==w) & (df_train[\"rain\"] == 0)])\n",
    "        plt.xlabel(\"rain_tomorrow\")\n",
    "        plt.ylabel(\"men\"+str(i+1))"
   ]
  },
  {
   "cell_type": "markdown",
   "id": "b78dc736",
   "metadata": {},
   "source": [
    "### tildと同じ考え方"
   ]
  },
  {
   "cell_type": "code",
   "execution_count": null,
   "id": "a1bed6dd",
   "metadata": {
    "scrolled": false
   },
   "outputs": [],
   "source": [
    "df_train[\"men_class\"] = 0\n",
    "df_train[\"men1_pred\"] = 0\n",
    "df_train[\"men2_pred\"] = 0\n",
    "df_train[\"men3_pred\"] = 0\n",
    "df_train[\"men4_pred\"] = 0\n",
    "df_train[\"men5_pred\"] = 0\n",
    "df_train[\"men6_pred\"] = 0\n",
    "\n",
    "\n",
    "for i in range(len(df_train)):\n",
    "    if df_train[\"rain\"][i] != 0:\n",
    "        if (df_train[\"week\"][i] == 0) | (df_train[\"week\"][i] == 3) | (df_train[\"week\"][i] == 4):\n",
    "            df_train[\"men_class\"][i] = 0\n",
    "            df_train[\"men1_pred\"][i] = np.average(df_train[\"men1\"][(df_train[\"rain\"] != 0) & ((df_train[\"week\"] == 0) | (df_train[\"week\"] == 3) | (df_train[\"week\"] == 4))])\n",
    "            df_train[\"men2_pred\"][i] = np.average(df_train[\"men2\"][(df_train[\"rain\"] != 0) & ((df_train[\"week\"] == 0) | (df_train[\"week\"] == 3) | (df_train[\"week\"] == 4))])\n",
    "            df_train[\"men3_pred\"][i] = np.average(df_train[\"men3\"][(df_train[\"rain\"] != 0) & ((df_train[\"week\"] == 0) | (df_train[\"week\"] == 3) | (df_train[\"week\"] == 4))])\n",
    "            df_train[\"men4_pred\"][i] = np.average(df_train[\"men4\"][(df_train[\"rain\"] != 0) & ((df_train[\"week\"] == 0) | (df_train[\"week\"] == 3) | (df_train[\"week\"] == 4))])\n",
    "            df_train[\"men5_pred\"][i] = np.average(df_train[\"men5\"][(df_train[\"rain\"] != 0) & ((df_train[\"week\"] == 0) | (df_train[\"week\"] == 3) | (df_train[\"week\"] == 4))])\n",
    "            df_train[\"men6_pred\"][i] = np.average(df_train[\"men6\"][(df_train[\"rain\"] != 0) & ((df_train[\"week\"] == 0) | (df_train[\"week\"] == 3) | (df_train[\"week\"] == 4))])\n",
    "        else:\n",
    "            df_train[\"men_class\"][i] = 1\n",
    "            df_train[\"men1_pred\"][i] = np.average(df_train[\"men1\"][(df_train[\"rain\"] != 0) & ((df_train[\"week\"] == 1) | (df_train[\"week\"] == 2) | (df_train[\"week\"] == 5) | (df_train[\"week\"] == 6))])\n",
    "            df_train[\"men2_pred\"][i] = np.average(df_train[\"men2\"][(df_train[\"rain\"] != 0) & ((df_train[\"week\"] == 1) | (df_train[\"week\"] == 2) | (df_train[\"week\"] == 5) | (df_train[\"week\"] == 6))])\n",
    "            df_train[\"men3_pred\"][i] = np.average(df_train[\"men3\"][(df_train[\"rain\"] != 0) & ((df_train[\"week\"] == 1) | (df_train[\"week\"] == 2) | (df_train[\"week\"] == 5) | (df_train[\"week\"] == 6))])\n",
    "            df_train[\"men4_pred\"][i] = np.average(df_train[\"men4\"][(df_train[\"rain\"] != 0) & ((df_train[\"week\"] == 1) | (df_train[\"week\"] == 2) | (df_train[\"week\"] == 5) | (df_train[\"week\"] == 6))])\n",
    "            df_train[\"men5_pred\"][i] = np.average(df_train[\"men5\"][(df_train[\"rain\"] != 0) & ((df_train[\"week\"] == 1) | (df_train[\"week\"] == 2) | (df_train[\"week\"] == 5) | (df_train[\"week\"] == 6))])\n",
    "            df_train[\"men6_pred\"][i] = np.average(df_train[\"men6\"][(df_train[\"rain\"] != 0) & ((df_train[\"week\"] == 1) | (df_train[\"week\"] == 2) | (df_train[\"week\"] == 5) | (df_train[\"week\"] == 6))])\n",
    "    else:\n",
    "        if df_train[\"rain_tomorrow\"][i] != 0:\n",
    "            if (df_train[\"week\"][i] == 0) | (df_train[\"week\"][i] == 3) | (df_train[\"week\"][i] == 4):\n",
    "                df_train[\"men_class\"][i] = 2\n",
    "                df_train[\"men1_pred\"][i] = np.average(df_train[\"men1\"][(df_train[\"rain\"] == 0) & (df_train[\"rain_tomorrow\"] != 0) & ((df_train[\"week\"] == 0) | (df_train[\"week\"] == 3) | (df_train[\"week\"] == 4))])\n",
    "                df_train[\"men2_pred\"][i] = np.average(df_train[\"men2\"][(df_train[\"rain\"] == 0) & (df_train[\"rain_tomorrow\"] != 0) & ((df_train[\"week\"] == 0) | (df_train[\"week\"] == 3) | (df_train[\"week\"] == 4))])\n",
    "                df_train[\"men3_pred\"][i] = np.average(df_train[\"men3\"][(df_train[\"rain\"] == 0) & (df_train[\"rain_tomorrow\"] != 0) & ((df_train[\"week\"] == 0) | (df_train[\"week\"] == 3) | (df_train[\"week\"] == 4))])\n",
    "                df_train[\"men4_pred\"][i] = np.average(df_train[\"men4\"][(df_train[\"rain\"] == 0) & (df_train[\"rain_tomorrow\"] != 0) & ((df_train[\"week\"] == 0) | (df_train[\"week\"] == 3) | (df_train[\"week\"] == 4))])\n",
    "                df_train[\"men5_pred\"][i] = np.average(df_train[\"men5\"][(df_train[\"rain\"] == 0) & (df_train[\"rain_tomorrow\"] != 0) & ((df_train[\"week\"] == 0) | (df_train[\"week\"] == 3) | (df_train[\"week\"] == 4))])\n",
    "                df_train[\"men6_pred\"][i] = np.average(df_train[\"men6\"][(df_train[\"rain\"] == 0) & (df_train[\"rain_tomorrow\"] != 0) & ((df_train[\"week\"] == 0) | (df_train[\"week\"] == 3) | (df_train[\"week\"] == 4))])\n",
    "            else:\n",
    "                df_train[\"men_class\"][i] = 3\n",
    "                df_train[\"men1_pred\"][i] = np.average(df_train[\"men1\"][(df_train[\"rain\"] == 0) & (df_train[\"rain_tomorrow\"] != 0) & ((df_train[\"week\"] == 1) | (df_train[\"week\"] == 2) | (df_train[\"week\"] == 5) | (df_train[\"week\"] == 6))])\n",
    "                df_train[\"men2_pred\"][i] = np.average(df_train[\"men2\"][(df_train[\"rain\"] == 0) & (df_train[\"rain_tomorrow\"] != 0) & ((df_train[\"week\"] == 1) | (df_train[\"week\"] == 2) | (df_train[\"week\"] == 5) | (df_train[\"week\"] == 6))])\n",
    "                df_train[\"men3_pred\"][i] = np.average(df_train[\"men3\"][(df_train[\"rain\"] == 0) & (df_train[\"rain_tomorrow\"] != 0) & ((df_train[\"week\"] == 1) | (df_train[\"week\"] == 2) | (df_train[\"week\"] == 5) | (df_train[\"week\"] == 6))])\n",
    "                df_train[\"men4_pred\"][i] = np.average(df_train[\"men4\"][(df_train[\"rain\"] == 0) & (df_train[\"rain_tomorrow\"] != 0) & ((df_train[\"week\"] == 1) | (df_train[\"week\"] == 2) | (df_train[\"week\"] == 5) | (df_train[\"week\"] == 6))])\n",
    "                df_train[\"men5_pred\"][i] = np.average(df_train[\"men5\"][(df_train[\"rain\"] == 0) & (df_train[\"rain_tomorrow\"] != 0) & ((df_train[\"week\"] == 1) | (df_train[\"week\"] == 2) | (df_train[\"week\"] == 5) | (df_train[\"week\"] == 6))])\n",
    "                df_train[\"men6_pred\"][i] = np.average(df_train[\"men6\"][(df_train[\"rain\"] == 0) & (df_train[\"rain_tomorrow\"] != 0) & ((df_train[\"week\"] == 1) | (df_train[\"week\"] == 2) | (df_train[\"week\"] == 5) | (df_train[\"week\"] == 6))])\n",
    "        else:\n",
    "            if (df_train[\"week\"][i] == 0) | (df_train[\"week\"][i] == 3) | (df_train[\"week\"][i] == 4):\n",
    "                df_train[\"men_class\"][i] = 4\n",
    "                df_train[\"men1_pred\"][i] = np.average(df_train[\"men1\"][(df_train[\"rain\"] == 0) & (df_train[\"rain_tomorrow\"] == 0) & ((df_train[\"week\"] == 0) | (df_train[\"week\"] == 3) | (df_train[\"week\"] == 4))])\n",
    "                df_train[\"men2_pred\"][i] = np.average(df_train[\"men2\"][(df_train[\"rain\"] == 0) & (df_train[\"rain_tomorrow\"] == 0) & ((df_train[\"week\"] == 0) | (df_train[\"week\"] == 3) | (df_train[\"week\"] == 4))])\n",
    "                df_train[\"men3_pred\"][i] = np.average(df_train[\"men3\"][(df_train[\"rain\"] == 0) & (df_train[\"rain_tomorrow\"] == 0) & ((df_train[\"week\"] == 0) | (df_train[\"week\"] == 3) | (df_train[\"week\"] == 4))])\n",
    "                df_train[\"men4_pred\"][i] = np.average(df_train[\"men4\"][(df_train[\"rain\"] == 0) & (df_train[\"rain_tomorrow\"] == 0) & ((df_train[\"week\"] == 0) | (df_train[\"week\"] == 3) | (df_train[\"week\"] == 4))])\n",
    "                df_train[\"men5_pred\"][i] = np.average(df_train[\"men5\"][(df_train[\"rain\"] == 0) & (df_train[\"rain_tomorrow\"] == 0) & ((df_train[\"week\"] == 0) | (df_train[\"week\"] == 3) | (df_train[\"week\"] == 4))])\n",
    "                df_train[\"men6_pred\"][i] = np.average(df_train[\"men6\"][(df_train[\"rain\"] == 0) & (df_train[\"rain_tomorrow\"] == 0) & ((df_train[\"week\"] == 0) | (df_train[\"week\"] == 3) | (df_train[\"week\"] == 4))])\n",
    "            else:\n",
    "                df_train[\"men_class\"][i] = 5\n",
    "                df_train[\"men1_pred\"][i] = np.average(df_train[\"men1\"][(df_train[\"rain\"] == 0) & (df_train[\"rain_tomorrow\"] == 0) & ((df_train[\"week\"] == 1) | (df_train[\"week\"] == 2) | (df_train[\"week\"] == 5) | (df_train[\"week\"] == 6))])\n",
    "                df_train[\"men2_pred\"][i] = np.average(df_train[\"men2\"][(df_train[\"rain\"] == 0) & (df_train[\"rain_tomorrow\"] == 0) & ((df_train[\"week\"] == 1) | (df_train[\"week\"] == 2) | (df_train[\"week\"] == 5) | (df_train[\"week\"] == 6))])\n",
    "                df_train[\"men3_pred\"][i] = np.average(df_train[\"men3\"][(df_train[\"rain\"] == 0) & (df_train[\"rain_tomorrow\"] == 0) & ((df_train[\"week\"] == 1) | (df_train[\"week\"] == 2) | (df_train[\"week\"] == 5) | (df_train[\"week\"] == 6))])\n",
    "                df_train[\"men4_pred\"][i] = np.average(df_train[\"men4\"][(df_train[\"rain\"] == 0) & (df_train[\"rain_tomorrow\"] == 0) & ((df_train[\"week\"] == 1) | (df_train[\"week\"] == 2) | (df_train[\"week\"] == 5) | (df_train[\"week\"] == 6))])\n",
    "                df_train[\"men5_pred\"][i] = np.average(df_train[\"men5\"][(df_train[\"rain\"] == 0) & (df_train[\"rain_tomorrow\"] == 0) & ((df_train[\"week\"] == 1) | (df_train[\"week\"] == 2) | (df_train[\"week\"] == 5) | (df_train[\"week\"] == 6))])\n",
    "                df_train[\"men6_pred\"][i] = np.average(df_train[\"men6\"][(df_train[\"rain\"] == 0) & (df_train[\"rain_tomorrow\"] == 0) & ((df_train[\"week\"] == 1) | (df_train[\"week\"] == 2) | (df_train[\"week\"] == 5) | (df_train[\"week\"] == 6))])\n",
    "                \n",
    "#plt.scatter(df_train[\"men1_pred\"], df_train[\"men1\"])\n",
    "#plt.scatter(df_train[\"men2_pred\"], df_train[\"men2\"])\n",
    "#plt.scatter(df_train[\"men3_pred\"], df_train[\"men3\"])\n",
    "#plt.scatter(df_train[\"men4_pred\"], df_train[\"men4\"])\n",
    "#plt.scatter(df_train[\"men5_pred\"], df_train[\"men5\"])\n",
    "#plt.scatter(df_train[\"men6_pred\"], df_train[\"men6\"])"
   ]
  },
  {
   "cell_type": "code",
   "execution_count": null,
   "id": "4f9fb572",
   "metadata": {},
   "outputs": [],
   "source": [
    "df_test[\"men_class\"] = 0\n",
    "\n",
    "for i in range(len(df_test)):\n",
    "    if df_test[\"rain\"][i] != 0:\n",
    "        if (df_test[\"week\"][i] == 0) | (df_test[\"week\"][i] == 3) | (df_test[\"week\"][i] == 4):\n",
    "            df_test[\"men_class\"][i] = 0\n",
    "        else:\n",
    "            df_test[\"men_class\"][i] =1\n",
    "    else:\n",
    "        if df_test[\"rain_tomorrow\"][i] != 0:\n",
    "            if (df_test[\"week\"][i] == 0) | (df_train[\"week\"][i] == 3) | (df_train[\"week\"][i] == 4):\n",
    "                df_test[\"men_class\"][i] = 2\n",
    "            else:\n",
    "                df_test[\"men_class\"][i] = 3\n",
    "        else:\n",
    "            if (df_test[\"week\"][i] == 0) | (df_train[\"week\"][i] == 3) | (df_train[\"week\"][i] == 4):\n",
    "                df_test[\"men_class\"][i] = 4\n",
    "            else:\n",
    "                df_test[\"men_class\"][i] = 5"
   ]
  },
  {
   "cell_type": "code",
   "execution_count": null,
   "id": "c5fbefdb",
   "metadata": {},
   "outputs": [],
   "source": [
    "#men1\n",
    "taus = np.array([0.01, 0.1, 0.5, 0.9, 0.99])\n",
    "m = len(taus) \n",
    "\n",
    "for i in range(m):\n",
    "    df_test[\"men1_\"+str(taus[i])]=0\n",
    "\n",
    "for i in range(6):\n",
    "    y=np.array(df_train[\"men1\"][(df_train[\"men_class\"] == i)])\n",
    "    \n",
    "    c_array = np.percentile(y, q=[1, 10, 50, 90, 99])\n",
    "    \n",
    "    for j in range(m):\n",
    "        df_test[\"men1_\"+str(taus[j])][(df_test[\"men_class\"] == i)]=c_array[j]"
   ]
  },
  {
   "cell_type": "code",
   "execution_count": null,
   "id": "6ce9e57b",
   "metadata": {},
   "outputs": [],
   "source": [
    "#men2\n",
    "taus = np.array([0.01, 0.1, 0.5, 0.9, 0.99])\n",
    "m = len(taus) \n",
    "\n",
    "for i in range(m):\n",
    "    df_test[\"men2_\"+str(taus[i])]=0\n",
    "\n",
    "for i in range(6):\n",
    "    y=np.array(df_train[\"men2\"][(df_train[\"men_class\"] == i)])\n",
    "    \n",
    "    c_array = np.percentile(y, q=[1, 10, 50, 90, 99])\n",
    "    \n",
    "    for j in range(m):\n",
    "        df_test[\"men2_\"+str(taus[j])][(df_test[\"men_class\"] == i)]=c_array[j]"
   ]
  },
  {
   "cell_type": "code",
   "execution_count": null,
   "id": "168c188f",
   "metadata": {},
   "outputs": [],
   "source": [
    "#men3\n",
    "taus = np.array([0.01, 0.1, 0.5, 0.9, 0.99])\n",
    "m = len(taus) \n",
    "\n",
    "for i in range(m):\n",
    "    df_test[\"men3_\"+str(taus[i])]=0\n",
    "\n",
    "for i in range(6):\n",
    "    y=np.array(df_train[\"men3\"][(df_train[\"men_class\"] == i)])\n",
    "    \n",
    "    c_array = np.percentile(y, q=[1, 10, 50, 90, 99])\n",
    "    \n",
    "    for j in range(m):\n",
    "        df_test[\"men3_\"+str(taus[j])][(df_test[\"men_class\"] == i)]=c_array[j]"
   ]
  },
  {
   "cell_type": "code",
   "execution_count": null,
   "id": "567bcb11",
   "metadata": {},
   "outputs": [],
   "source": [
    "#men4\n",
    "taus = np.array([0.01, 0.1, 0.5, 0.9, 0.99])\n",
    "m = len(taus) \n",
    "\n",
    "for i in range(m):\n",
    "    df_test[\"men4_\"+str(taus[i])]=0\n",
    "\n",
    "for i in range(6):\n",
    "    y=np.array(df_train[\"men4\"][(df_train[\"men_class\"] == i)])\n",
    "    \n",
    "    c_array = np.percentile(y, q=[1, 10, 50, 90, 99])\n",
    "    \n",
    "    for j in range(m):\n",
    "        df_test[\"men4_\"+str(taus[j])][(df_test[\"men_class\"] == i)]=c_array[j]"
   ]
  },
  {
   "cell_type": "code",
   "execution_count": null,
   "id": "eb062361",
   "metadata": {},
   "outputs": [],
   "source": [
    "#men5\n",
    "taus = np.array([0.01, 0.1, 0.5, 0.9, 0.99])\n",
    "m = len(taus) \n",
    "\n",
    "for i in range(m):\n",
    "    df_test[\"men5_\"+str(taus[i])]=0\n",
    "\n",
    "for i in range(6):\n",
    "    y=np.array(df_train[\"men5\"][(df_train[\"men_class\"] == i)])\n",
    "    \n",
    "    c_array = np.percentile(y, q=[1, 10, 50, 90, 99])\n",
    "    \n",
    "    for j in range(m):\n",
    "        df_test[\"men5_\"+str(taus[j])][(df_test[\"men_class\"] == i)]=c_array[j]"
   ]
  },
  {
   "cell_type": "code",
   "execution_count": null,
   "id": "d655cc72",
   "metadata": {},
   "outputs": [],
   "source": [
    "#men6\n",
    "taus = np.array([0.01, 0.1, 0.5, 0.9, 0.99])\n",
    "m = len(taus) \n",
    "\n",
    "for i in range(m):\n",
    "    df_test[\"men6_\"+str(taus[i])]=0\n",
    "\n",
    "for i in range(6):\n",
    "    y=np.array(df_train[\"men6\"][(df_train[\"men_class\"] == i)])\n",
    "    \n",
    "    c_array = np.percentile(y, q=[1, 10, 50, 90, 99])\n",
    "    \n",
    "    for j in range(m):\n",
    "        df_test[\"men6_\"+str(taus[j])][(df_test[\"men_class\"] == i)]=c_array[j]"
   ]
  },
  {
   "cell_type": "code",
   "execution_count": null,
   "id": "8281b7ab",
   "metadata": {},
   "outputs": [],
   "source": [
    "plt.figure(figsize=(15, 8))\n",
    "for i in range(6):\n",
    "    plt.subplot(2,3,i+1)\n",
    "    plt.scatter(df_test[\"date\"],df_test[\"men\"+str(i+1)+\"_0.01\"])\n",
    "    plt.scatter(df_test[\"date\"],df_test[\"men\"+str(i+1)+\"_0.1\"])\n",
    "    plt.scatter(df_test[\"date\"],df_test[\"men\"+str(i+1)+\"_0.5\"])\n",
    "    plt.scatter(df_test[\"date\"],df_test[\"men\"+str(i+1)+\"_0.9\"])\n",
    "    plt.scatter(df_test[\"date\"],df_test[\"men\"+str(i+1)+\"_0.99\"])\n",
    "    plt.ylabel(\"men\"+str(i+1))"
   ]
  },
  {
   "cell_type": "code",
   "execution_count": null,
   "id": "3027f17b",
   "metadata": {
    "scrolled": false
   },
   "outputs": [],
   "source": [
    "df_test"
   ]
  },
  {
   "cell_type": "code",
   "execution_count": null,
   "id": "351734f0",
   "metadata": {},
   "outputs": [],
   "source": [
    "#df_submission = pd.read_csv(\"submission.csv\")\n",
    "#column = np.array(df_submission.columns)\n",
    "#df_test_sub = df_test[column]\n",
    "#df_test_sub\n",
    "#df_test_seisu = df_test_sub.round()\n",
    "#df_test_seisu.to_csv(\"submission_1.csv\", index = False)"
   ]
  },
  {
   "cell_type": "markdown",
   "id": "79a2d2b3",
   "metadata": {},
   "source": [
    "# ここまでで Public LB 0.890"
   ]
  },
  {
   "cell_type": "markdown",
   "id": "b97b0ebb",
   "metadata": {},
   "source": [
    "# 予測値も使いながらLightGBMで予測(外れ値が特徴的なものを除く、drinkのweek4とか)"
   ]
  },
  {
   "cell_type": "code",
   "execution_count": null,
   "id": "d8332c55",
   "metadata": {},
   "outputs": [],
   "source": [
    "#特徴量\n",
    "#何週目か\n",
    "def get_nth_week2(year, month, day, firstweekday=0):\n",
    "    first_dow = calendar.monthrange(year, month)[0]\n",
    "    offset = (first_dow - firstweekday) % 7\n",
    "    return (day + offset - 1) // 7 + 1\n",
    "week_number = []\n",
    "for i in range(len(df_train)):\n",
    "    week_number.append(get_nth_week2(df_train[\"year\"][i], df_train[\"month\"][i], df_train[\"day\"][i]))\n",
    "df_week_number = pd.DataFrame(week_number)\n",
    "df_train[\"week_number\"] = df_week_number\n",
    "\n",
    "#前日雨\n",
    "df_train[\"rain_yesterday\"] = df_train[\"rain\"].shift()\n",
    "df_train[\"rain_yesterday\"][0] = np.average(df_train[\"rain_yesterday\"][1:])\n",
    "\n",
    "#test\n",
    "#何週目か\n",
    "week_number = []\n",
    "for i in range(len(df_test)):\n",
    "    week_number.append(get_nth_week2(df_test[\"year\"][i], df_test[\"month\"][i], df_test[\"day\"][i]))\n",
    "df_week_number = pd.DataFrame(week_number)\n",
    "df_test[\"week_number\"] = df_week_number\n",
    "\n",
    "#前日雨\n",
    "df_test[\"rain_yesterday\"] = df_test[\"rain\"].shift()\n",
    "df_test[\"rain_yesterday\"][0] = df_test[\"rain\"][0] - df_train[\"rain\"][349]"
   ]
  },
  {
   "cell_type": "code",
   "execution_count": null,
   "id": "2c4fc376",
   "metadata": {},
   "outputs": [],
   "source": [
    "df_test2 = df_test.copy() #LGBM用\n",
    "df_test3 = df_test.copy() #XGB用\n",
    "df_test4 = df_test.copy() #RFR用"
   ]
  },
  {
   "cell_type": "code",
   "execution_count": null,
   "id": "250f8167",
   "metadata": {},
   "outputs": [],
   "source": [
    "#df_test2_2 = df_test.copy()#lgbmパラメーター変更用"
   ]
  },
  {
   "cell_type": "code",
   "execution_count": null,
   "id": "ae17bce6",
   "metadata": {},
   "outputs": [],
   "source": [
    "def lgbm(y_name):\n",
    "    lgb_train=lgb.Dataset(x_train,y_train[y_name])\n",
    "    lgb_valid=lgb.Dataset(x_valid,y_valid[y_name])\n",
    "    \n",
    "    #LightGBMに与えるパラメータ。回帰なので「regression」それ以外適当です\n",
    "    params = {\n",
    "        'boosting_type': 'gbdt',\n",
    "        'objective': 'regression',\n",
    "        'metric': {'l2', 'l1'},\n",
    "        'max_depth': 50, #10\n",
    "        'num_leaves': 200, #50\n",
    "        'learning_rate': 0.01,\n",
    "        'feature_fraction': 0.9,\n",
    "        'bagging_fraction': 0.8,\n",
    "        'bagging_freq': 5,\n",
    "        'vervose': -1\n",
    "    }\n",
    "\n",
    "    #学習\n",
    "    result_data = {}\n",
    "    gbm = lgb.train(params,\n",
    "                    lgb_train,\n",
    "                    valid_sets=[lgb_train, lgb_valid],\n",
    "                    num_boost_round = 10000,\n",
    "                    early_stopping_rounds=1000,\n",
    "                    evals_result = result_data,\n",
    "#                    verbose_eval=100\n",
    "                   )\n",
    "    \n",
    "    lgb.plot_importance(gbm, max_num_features=5, importance_type='gain')\n",
    "\n",
    "    plt.figure(figsize=(8, 4))\n",
    "    pred = gbm.predict(df_x)\n",
    "        \n",
    "    #分位点検量線モデル作成    \n",
    "    cmap = plt.cm.viridis(np.linspace(0., 1., 5))\n",
    "\n",
    "    X = sm.add_constant(pred)\n",
    "    model = QuantReg(df_y[y_name], X)\n",
    "\n",
    "    taus = np.array([0.01, 0.1, 0.5, 0.9, 0.99])\n",
    "    m = len(taus) \n",
    "    N = len(pred)\n",
    "    Y = np.zeros((m, N))\n",
    "\n",
    "    for i in range(m):    \n",
    "        results = model.fit(q=taus[i])\n",
    "        y_hat = X @ results.params\n",
    "        Y[i] = y_hat\n",
    "\n",
    "    plt.subplot(1,2,1)\n",
    "    plt.scatter(pred, df_y[y_name], color = \"gray\")\n",
    "    for i in range(m):\n",
    "        plt.plot([min(pred), max(pred)], [min(Y[i]), max(Y[i])], linewidth=2,\n",
    "                  color=cmap[i], label=r\"$\\tau=$\"+str(taus[i]))\n",
    "    plt.xlabel(\"y_cal\")\n",
    "    plt.ylabel(\"y\")\n",
    "    plt.legend()\n",
    "    \n",
    "    plt.subplot(1,2,2)\n",
    "    plt.plot(result_data[\"training\"][\"l1\"], color = \"red\", label = \"train\")\n",
    "    plt.plot(result_data[\"valid_1\"][\"l1\"], color = \"blue\", label = \"valid\")\n",
    "    plt.legend()\n",
    "    \n",
    "    #テストデータ予測\n",
    "    pred_test =  gbm.predict(df_x_test)\n",
    "    X = sm.add_constant(pred_test)\n",
    "\n",
    "    Y2 = np.zeros((m, len(X)))\n",
    "\n",
    "    for i in range(m):    \n",
    "        results = model.fit(q=taus[i])\n",
    "        y_hat = X @ results.params\n",
    "        Y2[i] = y_hat\n",
    "    \n",
    "    #結果をテストデータに追加\n",
    "    for i in range(m):\n",
    "        df_test2[y_name+\"_\"+str(taus[i])]=Y2[i]"
   ]
  },
  {
   "cell_type": "code",
   "execution_count": null,
   "id": "a43a98e5",
   "metadata": {},
   "outputs": [],
   "source": [
    "#dessert1\n",
    "df_x = df_train[[\"highest\", \"lowest\", \"rain\", \"month\", \"day\", \"week\", \"week_number\", \"rain_yesterday\", \"rain_tomorrow\", \"pred_dessert1\"]]\n",
    "df_y = df_train[[\"dessert1\"]]\n",
    "df_test2[\"pred_dessert1\"] = df_test[\"dessert1_0.5\"]\n",
    "df_x_test = df_test2[[\"highest\", \"lowest\", \"rain\", \"month\", \"day\", \"week\", \"week_number\", \"rain_yesterday\", \"rain_tomorrow\", \"pred_dessert1\"]]\n",
    "x_train, x_valid, y_train, y_valid= train_test_split(df_x, df_y, test_size=0.3, random_state=0)\n",
    "lgbm(\"dessert1\")"
   ]
  },
  {
   "cell_type": "code",
   "execution_count": null,
   "id": "7bc29f8b",
   "metadata": {},
   "outputs": [],
   "source": [
    "#dessert2\n",
    "df_x = df_train[[\"highest\", \"lowest\", \"rain\", \"month\", \"day\", \"week\", \"week_number\", \"rain_yesterday\", \"rain_tomorrow\", \"pred_dessert2\"]]\n",
    "df_y = df_train[[\"dessert2\"]]\n",
    "df_test2[\"pred_dessert2\"] = df_test[\"dessert2_0.5\"]\n",
    "df_x_test = df_test2[[\"highest\", \"lowest\", \"rain\", \"month\", \"day\", \"week\", \"week_number\", \"rain_yesterday\", \"rain_tomorrow\", \"pred_dessert2\"]]\n",
    "x_train, x_valid, y_train, y_valid= train_test_split(df_x, df_y, test_size=0.3, random_state=0)\n",
    "lgbm(\"dessert2\")"
   ]
  },
  {
   "cell_type": "code",
   "execution_count": null,
   "id": "c67a4015",
   "metadata": {},
   "outputs": [],
   "source": [
    "#dessert3\n",
    "df_x = df_train[[\"highest\", \"lowest\", \"rain\", \"month\", \"day\", \"week\", \"week_number\", \"rain_yesterday\", \"rain_tomorrow\", \"pred_dessert3\"]]\n",
    "df_y = df_train[[\"dessert3\"]]\n",
    "df_test2[\"pred_dessert3\"] = df_test[\"dessert3_0.5\"]\n",
    "df_x_test = df_test2[[\"highest\", \"lowest\", \"rain\", \"month\", \"day\", \"week\", \"week_number\", \"rain_yesterday\", \"rain_tomorrow\", \"pred_dessert3\"]]\n",
    "x_train, x_valid, y_train, y_valid= train_test_split(df_x, df_y, test_size=0.3, random_state=0)\n",
    "lgbm(\"dessert3\")"
   ]
  },
  {
   "cell_type": "code",
   "execution_count": null,
   "id": "fd85ba8a",
   "metadata": {},
   "outputs": [],
   "source": [
    "#dessert4\n",
    "df_x = df_train[[\"highest\", \"lowest\", \"rain\", \"month\", \"day\", \"week\", \"week_number\", \"rain_yesterday\", \"rain_tomorrow\", \"pred_dessert4\"]]\n",
    "df_y = df_train[[\"dessert4\"]]\n",
    "df_test2[\"pred_dessert4\"] = df_test[\"dessert4_0.5\"]\n",
    "df_x_test = df_test2[[\"highest\", \"lowest\", \"rain\", \"month\", \"day\", \"week\", \"week_number\", \"rain_yesterday\", \"rain_tomorrow\", \"pred_dessert4\"]]\n",
    "x_train, x_valid, y_train, y_valid= train_test_split(df_x, df_y, test_size=0.3, random_state=0)\n",
    "lgbm(\"dessert4\")"
   ]
  },
  {
   "cell_type": "code",
   "execution_count": null,
   "id": "04ab59d3",
   "metadata": {},
   "outputs": [],
   "source": [
    "#dessert5\n",
    "df_x = df_train[[\"highest\", \"lowest\", \"rain\", \"month\", \"day\", \"week\", \"week_number\", \"rain_yesterday\", \"rain_tomorrow\", \"pred_dessert5\"]]\n",
    "df_y = df_train[[\"dessert5\"]]\n",
    "df_test2[\"pred_dessert5\"] = df_test[\"dessert5_0.5\"]\n",
    "df_x_test = df_test2[[\"highest\", \"lowest\", \"rain\", \"month\", \"day\", \"week\", \"week_number\", \"rain_yesterday\", \"rain_tomorrow\", \"pred_dessert5\"]]\n",
    "x_train, x_valid, y_train, y_valid= train_test_split(df_x, df_y, test_size=0.3, random_state=0)\n",
    "lgbm(\"dessert5\")"
   ]
  },
  {
   "cell_type": "code",
   "execution_count": null,
   "id": "bf650c3f",
   "metadata": {},
   "outputs": [],
   "source": [
    "#予測結果\n",
    "plt.figure(figsize=(15, 8))\n",
    "for i in range(5):\n",
    "    plt.subplot(2,3,i+1)    \n",
    "    plt.scatter(df_train[\"day\"],df_train[\"dessert\"+str(i+1)])\n",
    "    plt.scatter(df_test2[\"day\"],df_test2[\"dessert\"+str(i+1)+\"_0.01\"])\n",
    "    plt.scatter(df_test2[\"day\"],df_test2[\"dessert\"+str(i+1)+\"_0.1\"])\n",
    "    plt.scatter(df_test2[\"day\"],df_test2[\"dessert\"+str(i+1)+\"_0.5\"])\n",
    "    plt.scatter(df_test2[\"day\"],df_test2[\"dessert\"+str(i+1)+\"_0.9\"])\n",
    "    plt.scatter(df_test2[\"day\"],df_test2[\"dessert\"+str(i+1)+\"_0.99\"])\n",
    "    plt.xlabel(\"day\")\n",
    "    plt.ylabel(\"dessert\"+str(i+1))\n",
    "#大きい値の分布が広くなってしまっている"
   ]
  },
  {
   "cell_type": "code",
   "execution_count": null,
   "id": "8a256c13",
   "metadata": {
    "scrolled": false
   },
   "outputs": [],
   "source": [
    "#前のデータ\n",
    "plt.figure(figsize=(15, 8))\n",
    "for i in range(5):\n",
    "    plt.subplot(2,3,i+1)    \n",
    "    plt.scatter(df_train[\"day\"],df_train[\"dessert\"+str(i+1)])\n",
    "    plt.scatter(df_test[\"day\"],df_test[\"dessert\"+str(i+1)+\"_0.01\"])\n",
    "    plt.scatter(df_test[\"day\"],df_test[\"dessert\"+str(i+1)+\"_0.1\"])\n",
    "    plt.scatter(df_test[\"day\"],df_test[\"dessert\"+str(i+1)+\"_0.5\"])\n",
    "    plt.scatter(df_test[\"day\"],df_test[\"dessert\"+str(i+1)+\"_0.9\"])\n",
    "    plt.scatter(df_test[\"day\"],df_test[\"dessert\"+str(i+1)+\"_0.99\"])\n",
    "    plt.xlabel(\"day\")\n",
    "    plt.ylabel(\"dessert\"+str(i+1))\n",
    "#前のデータは大きい値の分布が狭くなってしまっている"
   ]
  },
  {
   "cell_type": "code",
   "execution_count": null,
   "id": "3d90f4d2",
   "metadata": {},
   "outputs": [],
   "source": [
    "#前のデータとLGBMのデータの平均を取る\n",
    "plt.figure(figsize=(15, 16))\n",
    "for i in range(5):\n",
    "    plt.subplot(5,1,i+1)    \n",
    "    plt.scatter(df_train[\"day\"],df_train[\"dessert\"+str(i+1)])\n",
    "    plt.scatter(df_test2[\"day\"],(df_test2[\"dessert\"+str(i+1)+\"_0.01\"]+df_test[\"dessert\"+str(i+1)+\"_0.01\"])/2)\n",
    "    plt.scatter(df_test2[\"day\"],(df_test2[\"dessert\"+str(i+1)+\"_0.1\"]+df_test[\"dessert\"+str(i+1)+\"_0.1\"])/2)\n",
    "    plt.scatter(df_test2[\"day\"],(df_test2[\"dessert\"+str(i+1)+\"_0.5\"]+df_test[\"dessert\"+str(i+1)+\"_0.5\"])/2)\n",
    "    plt.scatter(df_test2[\"day\"],(df_test2[\"dessert\"+str(i+1)+\"_0.9\"]+df_test[\"dessert\"+str(i+1)+\"_0.9\"])/2)\n",
    "    plt.scatter(df_test2[\"day\"],(df_test2[\"dessert\"+str(i+1)+\"_0.99\"]+df_test[\"dessert\"+str(i+1)+\"_0.99\"])/2)\n",
    "    plt.xlabel(\"day\")\n",
    "    plt.ylabel(\"dessert\"+str(i+1))"
   ]
  },
  {
   "cell_type": "code",
   "execution_count": null,
   "id": "008f4608",
   "metadata": {},
   "outputs": [],
   "source": [
    "for i in range(5):\n",
    "    df_test2[\"dessert\"+str(i+1)+\"_0.01\"] = (df_test2[\"dessert\"+str(i+1)+\"_0.01\"]+df_test[\"dessert\"+str(i+1)+\"_0.01\"])/2\n",
    "    df_test2[\"dessert\"+str(i+1)+\"_0.1\"] = (df_test2[\"dessert\"+str(i+1)+\"_0.1\"]+df_test[\"dessert\"+str(i+1)+\"_0.1\"])/2\n",
    "    df_test2[\"dessert\"+str(i+1)+\"_0.5\"] = (df_test2[\"dessert\"+str(i+1)+\"_0.5\"]+df_test[\"dessert\"+str(i+1)+\"_0.5\"])/2\n",
    "    df_test2[\"dessert\"+str(i+1)+\"_0.9\"] = (df_test2[\"dessert\"+str(i+1)+\"_0.9\"]+df_test[\"dessert\"+str(i+1)+\"_0.9\"])/2\n",
    "    df_test2[\"dessert\"+str(i+1)+\"_0.99\"] = (df_test2[\"dessert\"+str(i+1)+\"_0.99\"]+df_test[\"dessert\"+str(i+1)+\"_0.99\"])/2\n"
   ]
  },
  {
   "cell_type": "code",
   "execution_count": null,
   "id": "116c62bf",
   "metadata": {},
   "outputs": [],
   "source": [
    "#hot1\n",
    "df_x = df_train[[\"week\", \"pred_hot1\"]]\n",
    "df_y = df_train[[\"hot1\"]]\n",
    "df_test2[\"pred_hot1\"] = df_test[\"hot1_0.5\"]\n",
    "df_x_test = df_test2[[\"week\", \"pred_hot1\"]]\n",
    "x_train, x_valid, y_train, y_valid= train_test_split(df_x, df_y, test_size=0.3, random_state=0)\n",
    "lgbm(\"hot1\")"
   ]
  },
  {
   "cell_type": "code",
   "execution_count": null,
   "id": "f2179148",
   "metadata": {},
   "outputs": [],
   "source": [
    "#hot2\n",
    "df_x = df_train[[\"week\", \"pred_hot2\"]]\n",
    "df_y = df_train[[\"hot2\"]]\n",
    "df_test2[\"pred_hot2\"] = df_test[\"hot2_0.5\"]\n",
    "df_x_test = df_test2[[\"week\", \"pred_hot2\"]]\n",
    "x_train, x_valid, y_train, y_valid= train_test_split(df_x, df_y, test_size=0.3, random_state=0)\n",
    "lgbm(\"hot2\")"
   ]
  },
  {
   "cell_type": "code",
   "execution_count": null,
   "id": "365a87d7",
   "metadata": {},
   "outputs": [],
   "source": [
    "#hot3\n",
    "df_x = df_train[[\"week\", \"pred_hot3\"]]\n",
    "df_y = df_train[[\"hot3\"]]\n",
    "df_test2[\"pred_hot3\"] = df_test[\"hot3_0.5\"]\n",
    "df_x_test = df_test2[[\"week\", \"pred_hot3\"]]\n",
    "x_train, x_valid, y_train, y_valid= train_test_split(df_x, df_y, test_size=0.3, random_state=0)\n",
    "lgbm(\"hot3\")"
   ]
  },
  {
   "cell_type": "code",
   "execution_count": null,
   "id": "fd192539",
   "metadata": {},
   "outputs": [],
   "source": [
    "#snack1\n",
    "df_x = df_train[[\"highest\", \"lowest\", \"rain\", \"month\", \"day\", \"week\", \"week_number\", \"rain_yesterday\", \"rain_tomorrow\", \"pred_snack1\"]]\n",
    "df_y = df_train[[\"snack1\"]]\n",
    "df_test2[\"pred_snack1\"] = df_test[\"snack1_0.5\"]\n",
    "df_x_test = df_test2[[\"highest\", \"lowest\", \"rain\", \"month\", \"day\", \"week\", \"week_number\", \"rain_yesterday\", \"rain_tomorrow\", \"pred_snack1\"]]\n",
    "x_train, x_valid, y_train, y_valid= train_test_split(df_x, df_y, test_size=0.3, random_state=0)\n",
    "lgbm(\"snack1\")"
   ]
  },
  {
   "cell_type": "code",
   "execution_count": null,
   "id": "dc3f0b81",
   "metadata": {},
   "outputs": [],
   "source": [
    "#snack2\n",
    "df_x = df_train[[\"highest\", \"lowest\", \"rain\", \"month\", \"day\", \"week\", \"week_number\", \"rain_yesterday\", \"rain_tomorrow\", \"pred_snack2\"]]\n",
    "df_y = df_train[[\"snack2\"]]\n",
    "df_test2[\"pred_snack2\"] = df_test[\"snack2_0.5\"]\n",
    "df_x_test = df_test2[[\"highest\", \"lowest\", \"rain\", \"month\", \"day\", \"week\", \"week_number\", \"rain_yesterday\", \"rain_tomorrow\", \"pred_snack2\"]]\n",
    "x_train, x_valid, y_train, y_valid= train_test_split(df_x, df_y, test_size=0.3, random_state=0)\n",
    "lgbm(\"snack2\")"
   ]
  },
  {
   "cell_type": "code",
   "execution_count": null,
   "id": "b52270b3",
   "metadata": {},
   "outputs": [],
   "source": [
    "#snack3\n",
    "df_x = df_train[[\"highest\", \"lowest\", \"rain\", \"month\", \"day\", \"week\", \"week_number\", \"rain_yesterday\", \"rain_tomorrow\", \"pred_snack3\"]]\n",
    "df_y = df_train[[\"snack3\"]]\n",
    "df_test2[\"pred_snack3\"] = df_test[\"snack3_0.5\"]\n",
    "df_x_test = df_test2[[\"highest\", \"lowest\", \"rain\", \"month\", \"day\", \"week\", \"week_number\", \"rain_yesterday\", \"rain_tomorrow\", \"pred_snack3\"]]\n",
    "x_train, x_valid, y_train, y_valid= train_test_split(df_x, df_y, test_size=0.3, random_state=0)\n",
    "lgbm(\"snack3\")"
   ]
  },
  {
   "cell_type": "code",
   "execution_count": null,
   "id": "07d00128",
   "metadata": {},
   "outputs": [],
   "source": [
    "#bento1\n",
    "df_x = df_train[[\"highest\", \"lowest\", \"rain\", \"month\", \"day\", \"week\", \"week_number\", \"rain_yesterday\", \"rain_tomorrow\", \"pred_bento1\"]]\n",
    "df_y = df_train[[\"bento1\"]]\n",
    "df_test2[\"pred_bento1\"] = df_test[\"bento1_0.5\"]\n",
    "df_x_test = df_test2[[\"highest\", \"lowest\", \"rain\", \"month\", \"day\", \"week\", \"week_number\", \"rain_yesterday\", \"rain_tomorrow\", \"pred_bento1\"]]\n",
    "x_train, x_valid, y_train, y_valid= train_test_split(df_x, df_y, test_size=0.3, random_state=0)\n",
    "lgbm(\"bento1\")"
   ]
  },
  {
   "cell_type": "code",
   "execution_count": null,
   "id": "617ea261",
   "metadata": {},
   "outputs": [],
   "source": [
    "#bento2\n",
    "df_x = df_train[[\"highest\", \"lowest\", \"rain\", \"month\", \"day\", \"week\", \"week_number\", \"rain_yesterday\", \"rain_tomorrow\", \"pred_bento2\"]]\n",
    "df_y = df_train[[\"bento2\"]]\n",
    "df_test2[\"pred_bento2\"] = df_test[\"bento2_0.5\"]\n",
    "df_x_test = df_test2[[\"highest\", \"lowest\", \"rain\", \"month\", \"day\", \"week\", \"week_number\", \"rain_yesterday\", \"rain_tomorrow\", \"pred_bento2\"]]\n",
    "x_train, x_valid, y_train, y_valid= train_test_split(df_x, df_y, test_size=0.3, random_state=0)\n",
    "lgbm(\"bento2\")"
   ]
  },
  {
   "cell_type": "code",
   "execution_count": null,
   "id": "89b91acc",
   "metadata": {},
   "outputs": [],
   "source": [
    "#bento3\n",
    "df_x = df_train[[\"highest\", \"lowest\", \"rain\", \"month\", \"day\", \"week\", \"week_number\", \"rain_yesterday\", \"rain_tomorrow\", \"pred_bento3\"]]\n",
    "df_y = df_train[[\"bento3\"]]\n",
    "df_test2[\"pred_bento3\"] = df_test[\"bento3_0.5\"]\n",
    "df_x_test = df_test2[[\"highest\", \"lowest\", \"rain\", \"month\", \"day\", \"week\", \"week_number\", \"rain_yesterday\", \"rain_tomorrow\", \"pred_bento3\"]]\n",
    "x_train, x_valid, y_train, y_valid= train_test_split(df_x, df_y, test_size=0.3, random_state=0)\n",
    "lgbm(\"bento3\")"
   ]
  },
  {
   "cell_type": "code",
   "execution_count": null,
   "id": "b00d2628",
   "metadata": {},
   "outputs": [],
   "source": [
    "#bento4\n",
    "df_x = df_train[[\"highest\", \"lowest\", \"rain\", \"month\", \"day\", \"week\", \"week_number\", \"rain_yesterday\", \"rain_tomorrow\", \"pred_bento4\"]]\n",
    "df_y = df_train[[\"bento4\"]]\n",
    "df_test2[\"pred_bento4\"] = df_test[\"bento4_0.5\"]\n",
    "df_x_test = df_test2[[\"highest\", \"lowest\", \"rain\", \"month\", \"day\", \"week\", \"week_number\", \"rain_yesterday\", \"rain_tomorrow\", \"pred_bento4\"]]\n",
    "x_train, x_valid, y_train, y_valid= train_test_split(df_x, df_y, test_size=0.3, random_state=0)\n",
    "lgbm(\"bento4\")"
   ]
  },
  {
   "cell_type": "code",
   "execution_count": null,
   "id": "6423a12d",
   "metadata": {},
   "outputs": [],
   "source": [
    "#tild1\n",
    "df_x = df_train[[\"highest\", \"lowest\", \"rain\", \"month\", \"day\", \"week\", \"week_number\", \"rain_yesterday\", \"rain_tomorrow\", \"tild1_pred\"]]\n",
    "df_y = df_train[[\"tild1\"]]\n",
    "df_test2[\"tild1_pred\"] = df_test[\"tild1_0.5\"]\n",
    "df_x_test = df_test2[[\"highest\", \"lowest\", \"rain\", \"month\", \"day\", \"week\", \"week_number\", \"rain_yesterday\", \"rain_tomorrow\", \"tild1_pred\"]]\n",
    "x_train, x_valid, y_train, y_valid= train_test_split(df_x, df_y, test_size=0.3, random_state=0)\n",
    "lgbm(\"tild1\")"
   ]
  },
  {
   "cell_type": "code",
   "execution_count": null,
   "id": "bb5258e4",
   "metadata": {},
   "outputs": [],
   "source": [
    "#tild2\n",
    "df_x = df_train[[\"highest\", \"lowest\", \"rain\", \"month\", \"day\", \"week\", \"week_number\", \"rain_yesterday\", \"rain_tomorrow\", \"tild2_pred\"]]\n",
    "df_y = df_train[[\"tild2\"]]\n",
    "df_test2[\"tild2_pred\"] = df_test[\"tild2_0.5\"]\n",
    "df_x_test = df_test2[[\"highest\", \"lowest\", \"rain\", \"month\", \"day\", \"week\", \"week_number\", \"rain_yesterday\", \"rain_tomorrow\", \"tild2_pred\"]]\n",
    "x_train, x_valid, y_train, y_valid= train_test_split(df_x, df_y, test_size=0.3, random_state=0)\n",
    "lgbm(\"tild2\")"
   ]
  },
  {
   "cell_type": "code",
   "execution_count": null,
   "id": "fb1673a1",
   "metadata": {},
   "outputs": [],
   "source": [
    "#men1\n",
    "df_x = df_train[[\"highest\", \"lowest\", \"rain\", \"month\", \"day\", \"week\", \"week_number\", \"rain_yesterday\", \"rain_tomorrow\", \"men1_pred\"]]\n",
    "df_y = df_train[[\"men1\"]]\n",
    "df_test2[\"men1_pred\"] = df_test[\"men1_0.5\"]\n",
    "df_x_test = df_test2[[\"highest\", \"lowest\", \"rain\", \"month\", \"day\", \"week\", \"week_number\", \"rain_yesterday\", \"rain_tomorrow\", \"men1_pred\"]]\n",
    "x_train, x_valid, y_train, y_valid= train_test_split(df_x, df_y, test_size=0.3, random_state=0)\n",
    "lgbm(\"men1\")"
   ]
  },
  {
   "cell_type": "code",
   "execution_count": null,
   "id": "68348cec",
   "metadata": {},
   "outputs": [],
   "source": [
    "#men2\n",
    "df_x = df_train[[\"highest\", \"lowest\", \"rain\", \"month\", \"day\", \"week\", \"week_number\", \"rain_yesterday\", \"rain_tomorrow\", \"men2_pred\"]]\n",
    "df_y = df_train[[\"men2\"]]\n",
    "df_test2[\"men2_pred\"] = df_test[\"men2_0.5\"]\n",
    "df_x_test = df_test2[[\"highest\", \"lowest\", \"rain\", \"month\", \"day\", \"week\", \"week_number\", \"rain_yesterday\", \"rain_tomorrow\", \"men2_pred\"]]\n",
    "x_train, x_valid, y_train, y_valid= train_test_split(df_x, df_y, test_size=0.3, random_state=0)\n",
    "lgbm(\"men2\")"
   ]
  },
  {
   "cell_type": "code",
   "execution_count": null,
   "id": "3129af64",
   "metadata": {},
   "outputs": [],
   "source": [
    "#men3\n",
    "df_x = df_train[[\"highest\", \"lowest\", \"rain\", \"month\", \"day\", \"week\", \"week_number\", \"rain_yesterday\", \"rain_tomorrow\", \"men3_pred\"]]\n",
    "df_y = df_train[[\"men3\"]]\n",
    "df_test2[\"men3_pred\"] = df_test[\"men3_0.5\"]\n",
    "df_x_test = df_test2[[\"highest\", \"lowest\", \"rain\", \"month\", \"day\", \"week\", \"week_number\", \"rain_yesterday\", \"rain_tomorrow\", \"men3_pred\"]]\n",
    "x_train, x_valid, y_train, y_valid= train_test_split(df_x, df_y, test_size=0.3, random_state=0)\n",
    "lgbm(\"men3\")"
   ]
  },
  {
   "cell_type": "code",
   "execution_count": null,
   "id": "cca881d0",
   "metadata": {},
   "outputs": [],
   "source": [
    "#men4\n",
    "df_x = df_train[[\"highest\", \"lowest\", \"rain\", \"month\", \"day\", \"week\", \"week_number\", \"rain_yesterday\", \"rain_tomorrow\", \"men4_pred\"]]\n",
    "df_y = df_train[[\"men4\"]]\n",
    "df_test2[\"men4_pred\"] = df_test[\"men4_0.5\"]\n",
    "df_x_test = df_test2[[\"highest\", \"lowest\", \"rain\", \"month\", \"day\", \"week\", \"week_number\", \"rain_yesterday\", \"rain_tomorrow\", \"men4_pred\"]]\n",
    "x_train, x_valid, y_train, y_valid= train_test_split(df_x, df_y, test_size=0.3, random_state=0)\n",
    "lgbm(\"men4\")"
   ]
  },
  {
   "cell_type": "code",
   "execution_count": null,
   "id": "9bc68183",
   "metadata": {},
   "outputs": [],
   "source": [
    "#men5\n",
    "df_x = df_train[[\"highest\", \"lowest\", \"rain\", \"month\", \"day\", \"week\", \"week_number\", \"rain_yesterday\", \"rain_tomorrow\", \"men5_pred\"]]\n",
    "df_y = df_train[[\"men5\"]]\n",
    "df_test2[\"men5_pred\"] = df_test[\"men5_0.5\"]\n",
    "df_x_test = df_test2[[\"highest\", \"lowest\", \"rain\", \"month\", \"day\", \"week\", \"week_number\", \"rain_yesterday\", \"rain_tomorrow\", \"men5_pred\"]]\n",
    "x_train, x_valid, y_train, y_valid= train_test_split(df_x, df_y, test_size=0.3, random_state=0)\n",
    "lgbm(\"men5\")"
   ]
  },
  {
   "cell_type": "code",
   "execution_count": null,
   "id": "25ff94b1",
   "metadata": {},
   "outputs": [],
   "source": [
    "#men6\n",
    "df_x = df_train[[\"highest\", \"lowest\", \"rain\", \"month\", \"day\", \"week\", \"week_number\", \"rain_yesterday\", \"rain_tomorrow\", \"men6_pred\"]]\n",
    "df_y = df_train[[\"men6\"]]\n",
    "df_test2[\"men6_pred\"] = df_test[\"men6_0.5\"]\n",
    "df_x_test = df_test2[[\"highest\", \"lowest\", \"rain\", \"month\", \"day\", \"week\", \"week_number\", \"rain_yesterday\", \"rain_tomorrow\", \"men6_pred\"]]\n",
    "x_train, x_valid, y_train, y_valid= train_test_split(df_x, df_y, test_size=0.3, random_state=0)\n",
    "lgbm(\"men6\")"
   ]
  },
  {
   "cell_type": "code",
   "execution_count": null,
   "id": "b5e05389",
   "metadata": {},
   "outputs": [],
   "source": [
    "df_submission = pd.read_csv(\"submission.csv\")\n",
    "column = np.array(df_submission.columns)\n",
    "df_test2_sub = df_test2[column]\n",
    "df_test2_sub\n",
    "df_test2_seisu = df_test2_sub.round()\n",
    "#df_test2_seisu.to_csv(\"submission-lgbm_50.csv\", index = False)"
   ]
  },
  {
   "cell_type": "markdown",
   "id": "7a669219",
   "metadata": {},
   "source": [
    "# LGBM(max_depth=10)のスコア Public LB 0.869\n",
    "# LGBM(max_depth=50)のスコア Public LB 0.874"
   ]
  },
  {
   "cell_type": "markdown",
   "id": "24ec7906",
   "metadata": {},
   "source": [
    "# XGBoost"
   ]
  },
  {
   "cell_type": "code",
   "execution_count": null,
   "id": "2af2b4b0",
   "metadata": {},
   "outputs": [],
   "source": [
    "def xgb(y_name):\n",
    "    xgb = XGBR(early_stopping_rounds=10)\n",
    "\n",
    "    xgb_cv = GridSearchCV(xgb,\n",
    "                       {'max_depth': [2,4,6],\n",
    "                        'n_estimators': [50,100,200]}, verbose=1)\n",
    "\n",
    "    eval_set = [(x_valid, y_valid[y_name])]\n",
    "\n",
    "    xgb_cv.fit(x_train, y_train[y_name], eval_set=eval_set, verbose=True)\n",
    "    \n",
    "    plt.figure(figsize=(8, 4))\n",
    "    pred = xgb_cv.predict(df_x)\n",
    "\n",
    "    #分位点検量線モデル作成    \n",
    "    cmap = plt.cm.viridis(np.linspace(0., 1., 5))\n",
    "\n",
    "    X = sm.add_constant(pred)\n",
    "    model = QuantReg(df_y[y_name], X)\n",
    "\n",
    "    taus = np.array([0.01, 0.1, 0.5, 0.9, 0.99])\n",
    "    m = len(taus) \n",
    "    N = len(pred)\n",
    "    Y = np.zeros((m, N))\n",
    "\n",
    "    for i in range(m):    \n",
    "        results = model.fit(q=taus[i])\n",
    "        y_hat = X @ results.params\n",
    "        Y[i] = y_hat\n",
    "\n",
    "    plt.subplot(1,2,2)\n",
    "    plt.scatter(pred, df_y[y_name], color = \"gray\")\n",
    "    for i in range(m):\n",
    "        plt.plot([min(pred), max(pred)], [min(Y[i]), max(Y[i])], linewidth=2,\n",
    "                  color=cmap[i], label=r\"$\\tau=$\"+str(taus[i]))\n",
    "    plt.xlabel(\"y_cal\")\n",
    "    plt.ylabel(\"y\")\n",
    "    plt.legend()\n",
    "    \n",
    "    \n",
    "    #テストデータ予測\n",
    "    pred_test =  xgb_cv.predict(df_x_test)\n",
    "    X = sm.add_constant(pred_test)\n",
    "\n",
    "    Y2 = np.zeros((m, len(X)))\n",
    "\n",
    "    for i in range(m):    \n",
    "        results = model.fit(q=taus[i])\n",
    "        y_hat = X @ results.params\n",
    "        Y2[i] = y_hat\n",
    "    \n",
    "    #結果をテストデータに追加\n",
    "    for i in range(m):\n",
    "        df_test3[y_name+\"_\"+str(taus[i])]=Y2[i]"
   ]
  },
  {
   "cell_type": "code",
   "execution_count": null,
   "id": "b5b99822",
   "metadata": {},
   "outputs": [],
   "source": [
    "#dessert1\n",
    "df_x = df_train[[\"highest\", \"lowest\", \"rain\", \"month\", \"day\", \"week\", \"week_number\", \"rain_yesterday\", \"rain_tomorrow\", \"pred_dessert1\"]]\n",
    "df_y = df_train[[\"dessert1\"]]\n",
    "df_test3[\"pred_dessert1\"] = df_test[\"dessert1_0.5\"]\n",
    "df_x_test = df_test3[[\"highest\", \"lowest\", \"rain\", \"month\", \"day\", \"week\", \"week_number\", \"rain_yesterday\", \"rain_tomorrow\", \"pred_dessert1\"]]\n",
    "x_train, x_valid, y_train, y_valid= train_test_split(df_x, df_y, test_size=0.3, random_state=0)\n",
    "xgb(\"dessert1\")"
   ]
  },
  {
   "cell_type": "code",
   "execution_count": null,
   "id": "4e4b285f",
   "metadata": {},
   "outputs": [],
   "source": [
    "#dessert2\n",
    "df_x = df_train[[\"highest\", \"lowest\", \"rain\", \"month\", \"day\", \"week\", \"week_number\", \"rain_yesterday\", \"rain_tomorrow\", \"pred_dessert2\"]]\n",
    "df_y = df_train[[\"dessert2\"]]\n",
    "df_test3[\"pred_dessert2\"] = df_test[\"dessert2_0.5\"]\n",
    "df_x_test = df_test3[[\"highest\", \"lowest\", \"rain\", \"month\", \"day\", \"week\", \"week_number\", \"rain_yesterday\", \"rain_tomorrow\", \"pred_dessert2\"]]\n",
    "x_train, x_valid, y_train, y_valid= train_test_split(df_x, df_y, test_size=0.3, random_state=0)\n",
    "xgb(\"dessert2\")"
   ]
  },
  {
   "cell_type": "code",
   "execution_count": null,
   "id": "8cbe140c",
   "metadata": {},
   "outputs": [],
   "source": [
    "#dessert3\n",
    "df_x = df_train[[\"highest\", \"lowest\", \"rain\", \"month\", \"day\", \"week\", \"week_number\", \"rain_yesterday\", \"rain_tomorrow\", \"pred_dessert3\"]]\n",
    "df_y = df_train[[\"dessert3\"]]\n",
    "df_test3[\"pred_dessert3\"] = df_test[\"dessert3_0.5\"]\n",
    "df_x_test = df_test3[[\"highest\", \"lowest\", \"rain\", \"month\", \"day\", \"week\", \"week_number\", \"rain_yesterday\", \"rain_tomorrow\", \"pred_dessert3\"]]\n",
    "x_train, x_valid, y_train, y_valid= train_test_split(df_x, df_y, test_size=0.3, random_state=0)\n",
    "xgb(\"dessert3\")"
   ]
  },
  {
   "cell_type": "code",
   "execution_count": null,
   "id": "7389a469",
   "metadata": {},
   "outputs": [],
   "source": [
    "#dessert4\n",
    "df_x = df_train[[\"highest\", \"lowest\", \"rain\", \"month\", \"day\", \"week\", \"week_number\", \"rain_yesterday\", \"rain_tomorrow\", \"pred_dessert4\"]]\n",
    "df_y = df_train[[\"dessert4\"]]\n",
    "df_test3[\"pred_dessert4\"] = df_test[\"dessert4_0.5\"]\n",
    "df_x_test = df_test3[[\"highest\", \"lowest\", \"rain\", \"month\", \"day\", \"week\", \"week_number\", \"rain_yesterday\", \"rain_tomorrow\", \"pred_dessert4\"]]\n",
    "x_train, x_valid, y_train, y_valid= train_test_split(df_x, df_y, test_size=0.3, random_state=0)\n",
    "xgb(\"dessert4\")"
   ]
  },
  {
   "cell_type": "code",
   "execution_count": null,
   "id": "08c016ea",
   "metadata": {},
   "outputs": [],
   "source": [
    "#dessert5\n",
    "df_x = df_train[[\"highest\", \"lowest\", \"rain\", \"month\", \"day\", \"week\", \"week_number\", \"rain_yesterday\", \"rain_tomorrow\", \"pred_dessert5\"]]\n",
    "df_y = df_train[[\"dessert5\"]]\n",
    "df_test3[\"pred_dessert5\"] = df_test[\"dessert5_0.5\"]\n",
    "df_x_test = df_test3[[\"highest\", \"lowest\", \"rain\", \"month\", \"day\", \"week\", \"week_number\", \"rain_yesterday\", \"rain_tomorrow\", \"pred_dessert5\"]]\n",
    "x_train, x_valid, y_train, y_valid= train_test_split(df_x, df_y, test_size=0.3, random_state=0)\n",
    "xgb(\"dessert5\")"
   ]
  },
  {
   "cell_type": "code",
   "execution_count": null,
   "id": "16919b70",
   "metadata": {},
   "outputs": [],
   "source": [
    "plt.figure(figsize=(15, 8))\n",
    "for i in range(5):\n",
    "    plt.subplot(2,3,i+1)    \n",
    "    plt.scatter(df_train[\"day\"],df_train[\"dessert\"+str(i+1)])\n",
    "    plt.scatter(df_test3[\"day\"],df_test3[\"dessert\"+str(i+1)+\"_0.01\"])\n",
    "    plt.scatter(df_test3[\"day\"],df_test3[\"dessert\"+str(i+1)+\"_0.1\"])\n",
    "    plt.scatter(df_test3[\"day\"],df_test3[\"dessert\"+str(i+1)+\"_0.5\"])\n",
    "    plt.scatter(df_test3[\"day\"],df_test3[\"dessert\"+str(i+1)+\"_0.9\"])\n",
    "    plt.scatter(df_test3[\"day\"],df_test3[\"dessert\"+str(i+1)+\"_0.99\"])\n",
    "    plt.xlabel(\"day\")\n",
    "    plt.ylabel(\"dessert\"+str(i+1))"
   ]
  },
  {
   "cell_type": "code",
   "execution_count": null,
   "id": "e661829b",
   "metadata": {},
   "outputs": [],
   "source": [
    "plt.figure(figsize=(15, 16))\n",
    "for i in range(5):\n",
    "    plt.subplot(5,1,i+1)    \n",
    "    plt.scatter(df_train[\"day\"],df_train[\"dessert\"+str(i+1)])\n",
    "    plt.scatter(df_test3[\"day\"],(df_test3[\"dessert\"+str(i+1)+\"_0.01\"]+df_test[\"dessert\"+str(i+1)+\"_0.01\"])/2)\n",
    "    plt.scatter(df_test3[\"day\"],(df_test3[\"dessert\"+str(i+1)+\"_0.1\"]+df_test[\"dessert\"+str(i+1)+\"_0.1\"])/2)\n",
    "    plt.scatter(df_test3[\"day\"],(df_test3[\"dessert\"+str(i+1)+\"_0.5\"]+df_test[\"dessert\"+str(i+1)+\"_0.5\"])/2)\n",
    "    plt.scatter(df_test3[\"day\"],(df_test3[\"dessert\"+str(i+1)+\"_0.9\"]+df_test[\"dessert\"+str(i+1)+\"_0.9\"])/2)\n",
    "    plt.scatter(df_test3[\"day\"],(df_test3[\"dessert\"+str(i+1)+\"_0.99\"]+df_test[\"dessert\"+str(i+1)+\"_0.99\"])/2)\n",
    "    plt.xlabel(\"day\")\n",
    "    plt.ylabel(\"dessert\"+str(i+1))"
   ]
  },
  {
   "cell_type": "code",
   "execution_count": null,
   "id": "5d2037cf",
   "metadata": {},
   "outputs": [],
   "source": [
    "for i in range(5):\n",
    "    df_test3[\"dessert\"+str(i+1)+\"_0.01\"] = (df_test3[\"dessert\"+str(i+1)+\"_0.01\"]+df_test[\"dessert\"+str(i+1)+\"_0.01\"])/2\n",
    "    df_test3[\"dessert\"+str(i+1)+\"_0.1\"] = (df_test3[\"dessert\"+str(i+1)+\"_0.1\"]+df_test[\"dessert\"+str(i+1)+\"_0.1\"])/2\n",
    "    df_test3[\"dessert\"+str(i+1)+\"_0.5\"] = (df_test3[\"dessert\"+str(i+1)+\"_0.5\"]+df_test[\"dessert\"+str(i+1)+\"_0.5\"])/2\n",
    "    df_test3[\"dessert\"+str(i+1)+\"_0.9\"] = (df_test3[\"dessert\"+str(i+1)+\"_0.9\"]+df_test[\"dessert\"+str(i+1)+\"_0.9\"])/2\n",
    "    df_test3[\"dessert\"+str(i+1)+\"_0.99\"] = (df_test3[\"dessert\"+str(i+1)+\"_0.99\"]+df_test[\"dessert\"+str(i+1)+\"_0.99\"])/2"
   ]
  },
  {
   "cell_type": "code",
   "execution_count": null,
   "id": "722f3c4b",
   "metadata": {},
   "outputs": [],
   "source": [
    "#hot1\n",
    "df_x = df_train[[\"week\", \"pred_hot1\"]]\n",
    "df_y = df_train[[\"hot1\"]]\n",
    "df_test3[\"pred_hot1\"] = df_test[\"hot1_0.5\"]\n",
    "df_x_test = df_test3[[\"week\", \"pred_hot1\"]]\n",
    "x_train, x_valid, y_train, y_valid= train_test_split(df_x, df_y, test_size=0.3, random_state=0)\n",
    "xgb(\"hot1\")"
   ]
  },
  {
   "cell_type": "code",
   "execution_count": null,
   "id": "969391fe",
   "metadata": {},
   "outputs": [],
   "source": [
    "#hot2\n",
    "df_x = df_train[[\"week\", \"pred_hot2\"]]\n",
    "df_y = df_train[[\"hot2\"]]\n",
    "df_test3[\"pred_hot2\"] = df_test[\"hot2_0.5\"]\n",
    "df_x_test = df_test3[[\"week\", \"pred_hot2\"]]\n",
    "x_train, x_valid, y_train, y_valid= train_test_split(df_x, df_y, test_size=0.3, random_state=0)\n",
    "xgb(\"hot2\")"
   ]
  },
  {
   "cell_type": "code",
   "execution_count": null,
   "id": "a46bcaa8",
   "metadata": {},
   "outputs": [],
   "source": [
    "#hot3\n",
    "df_x = df_train[[\"week\", \"pred_hot3\"]]\n",
    "df_y = df_train[[\"hot3\"]]\n",
    "df_test3[\"pred_hot3\"] = df_test[\"hot3_0.5\"]\n",
    "df_x_test = df_test3[[\"week\", \"pred_hot3\"]]\n",
    "x_train, x_valid, y_train, y_valid= train_test_split(df_x, df_y, test_size=0.3, random_state=0)\n",
    "xgb(\"hot3\")"
   ]
  },
  {
   "cell_type": "code",
   "execution_count": null,
   "id": "037cc8e3",
   "metadata": {},
   "outputs": [],
   "source": [
    "#snack1\n",
    "df_x = df_train[[\"highest\", \"lowest\", \"rain\", \"month\", \"day\", \"week\", \"week_number\", \"rain_yesterday\", \"rain_tomorrow\", \"pred_snack1\"]]\n",
    "df_y = df_train[[\"snack1\"]]\n",
    "df_test3[\"pred_snack1\"] = df_test[\"snack1_0.5\"]\n",
    "df_x_test = df_test3[[\"highest\", \"lowest\", \"rain\", \"month\", \"day\", \"week\", \"week_number\", \"rain_yesterday\", \"rain_tomorrow\", \"pred_snack1\"]]\n",
    "x_train, x_valid, y_train, y_valid= train_test_split(df_x, df_y, test_size=0.3, random_state=0)\n",
    "xgb(\"snack1\")"
   ]
  },
  {
   "cell_type": "code",
   "execution_count": null,
   "id": "995e4d9c",
   "metadata": {},
   "outputs": [],
   "source": [
    "#snack2\n",
    "df_x = df_train[[\"highest\", \"lowest\", \"rain\", \"month\", \"day\", \"week\", \"week_number\", \"rain_yesterday\", \"rain_tomorrow\", \"pred_snack2\"]]\n",
    "df_y = df_train[[\"snack2\"]]\n",
    "df_test3[\"pred_snack2\"] = df_test[\"snack2_0.5\"]\n",
    "df_x_test = df_test3[[\"highest\", \"lowest\", \"rain\", \"month\", \"day\", \"week\", \"week_number\", \"rain_yesterday\", \"rain_tomorrow\", \"pred_snack2\"]]\n",
    "x_train, x_valid, y_train, y_valid= train_test_split(df_x, df_y, test_size=0.3, random_state=0)\n",
    "xgb(\"snack2\")"
   ]
  },
  {
   "cell_type": "code",
   "execution_count": null,
   "id": "be358ca4",
   "metadata": {},
   "outputs": [],
   "source": [
    "#snack3\n",
    "df_x = df_train[[\"highest\", \"lowest\", \"rain\", \"month\", \"day\", \"week\", \"week_number\", \"rain_yesterday\", \"rain_tomorrow\", \"pred_snack3\"]]\n",
    "df_y = df_train[[\"snack3\"]]\n",
    "df_test3[\"pred_snack3\"] = df_test[\"snack3_0.5\"]\n",
    "df_x_test = df_test3[[\"highest\", \"lowest\", \"rain\", \"month\", \"day\", \"week\", \"week_number\", \"rain_yesterday\", \"rain_tomorrow\", \"pred_snack3\"]]\n",
    "x_train, x_valid, y_train, y_valid= train_test_split(df_x, df_y, test_size=0.3, random_state=0)\n",
    "xgb(\"snack3\")"
   ]
  },
  {
   "cell_type": "code",
   "execution_count": null,
   "id": "10baebf1",
   "metadata": {},
   "outputs": [],
   "source": [
    "#bento1\n",
    "df_x = df_train[[\"highest\", \"lowest\", \"rain\", \"month\", \"day\", \"week\", \"week_number\", \"rain_yesterday\", \"rain_tomorrow\", \"pred_bento1\"]]\n",
    "df_y = df_train[[\"bento1\"]]\n",
    "df_test3[\"pred_bento1\"] = df_test[\"bento1_0.5\"]\n",
    "df_x_test = df_test3[[\"highest\", \"lowest\", \"rain\", \"month\", \"day\", \"week\", \"week_number\", \"rain_yesterday\", \"rain_tomorrow\", \"pred_bento1\"]]\n",
    "x_train, x_valid, y_train, y_valid= train_test_split(df_x, df_y, test_size=0.3, random_state=0)\n",
    "xgb(\"bento1\")"
   ]
  },
  {
   "cell_type": "code",
   "execution_count": null,
   "id": "b2ec0759",
   "metadata": {},
   "outputs": [],
   "source": [
    "#bento2\n",
    "df_x = df_train[[\"highest\", \"lowest\", \"rain\", \"month\", \"day\", \"week\", \"week_number\", \"rain_yesterday\", \"rain_tomorrow\", \"pred_bento2\"]]\n",
    "df_y = df_train[[\"bento2\"]]\n",
    "df_test3[\"pred_bento2\"] = df_test[\"bento2_0.5\"]\n",
    "df_x_test = df_test3[[\"highest\", \"lowest\", \"rain\", \"month\", \"day\", \"week\", \"week_number\", \"rain_yesterday\", \"rain_tomorrow\", \"pred_bento2\"]]\n",
    "x_train, x_valid, y_train, y_valid= train_test_split(df_x, df_y, test_size=0.3, random_state=0)\n",
    "xgb(\"bento2\")"
   ]
  },
  {
   "cell_type": "code",
   "execution_count": null,
   "id": "21a549c1",
   "metadata": {},
   "outputs": [],
   "source": [
    "#bento3\n",
    "df_x = df_train[[\"highest\", \"lowest\", \"rain\", \"month\", \"day\", \"week\", \"week_number\", \"rain_yesterday\", \"rain_tomorrow\", \"pred_bento3\"]]\n",
    "df_y = df_train[[\"bento3\"]]\n",
    "df_test3[\"pred_bento3\"] = df_test[\"bento3_0.5\"]\n",
    "df_x_test = df_test3[[\"highest\", \"lowest\", \"rain\", \"month\", \"day\", \"week\", \"week_number\", \"rain_yesterday\", \"rain_tomorrow\", \"pred_bento3\"]]\n",
    "x_train, x_valid, y_train, y_valid= train_test_split(df_x, df_y, test_size=0.3, random_state=0)\n",
    "xgb(\"bento3\")"
   ]
  },
  {
   "cell_type": "code",
   "execution_count": null,
   "id": "b56e6482",
   "metadata": {},
   "outputs": [],
   "source": [
    "#bento4\n",
    "df_x = df_train[[\"highest\", \"lowest\", \"rain\", \"month\", \"day\", \"week\", \"week_number\", \"rain_yesterday\", \"rain_tomorrow\", \"pred_bento4\"]]\n",
    "df_y = df_train[[\"bento4\"]]\n",
    "df_test3[\"pred_bento4\"] = df_test[\"bento4_0.5\"]\n",
    "df_x_test = df_test3[[\"highest\", \"lowest\", \"rain\", \"month\", \"day\", \"week\", \"week_number\", \"rain_yesterday\", \"rain_tomorrow\", \"pred_bento4\"]]\n",
    "x_train, x_valid, y_train, y_valid= train_test_split(df_x, df_y, test_size=0.3, random_state=0)\n",
    "xgb(\"bento4\")"
   ]
  },
  {
   "cell_type": "code",
   "execution_count": null,
   "id": "19546a35",
   "metadata": {},
   "outputs": [],
   "source": [
    "#tild1\n",
    "df_x = df_train[[\"highest\", \"lowest\", \"rain\", \"month\", \"day\", \"week\", \"week_number\", \"rain_yesterday\", \"rain_tomorrow\", \"tild1_pred\"]]\n",
    "df_y = df_train[[\"tild1\"]]\n",
    "df_test3[\"tild1_pred\"] = df_test[\"tild1_0.5\"]\n",
    "df_x_test = df_test3[[\"highest\", \"lowest\", \"rain\", \"month\", \"day\", \"week\", \"week_number\", \"rain_yesterday\", \"rain_tomorrow\", \"tild1_pred\"]]\n",
    "x_train, x_valid, y_train, y_valid= train_test_split(df_x, df_y, test_size=0.3, random_state=0)\n",
    "xgb(\"tild1\")"
   ]
  },
  {
   "cell_type": "code",
   "execution_count": null,
   "id": "644dbfe3",
   "metadata": {},
   "outputs": [],
   "source": [
    "#tild2\n",
    "df_x = df_train[[\"highest\", \"lowest\", \"rain\", \"month\", \"day\", \"week\", \"week_number\", \"rain_yesterday\", \"rain_tomorrow\", \"tild2_pred\"]]\n",
    "df_y = df_train[[\"tild2\"]]\n",
    "df_test3[\"tild2_pred\"] = df_test[\"tild2_0.5\"]\n",
    "df_x_test = df_test3[[\"highest\", \"lowest\", \"rain\", \"month\", \"day\", \"week\", \"week_number\", \"rain_yesterday\", \"rain_tomorrow\", \"tild2_pred\"]]\n",
    "x_train, x_valid, y_train, y_valid= train_test_split(df_x, df_y, test_size=0.3, random_state=0)\n",
    "xgb(\"tild2\")"
   ]
  },
  {
   "cell_type": "code",
   "execution_count": null,
   "id": "97e11cc2",
   "metadata": {},
   "outputs": [],
   "source": [
    "#men1\n",
    "df_x = df_train[[\"highest\", \"lowest\", \"rain\", \"month\", \"day\", \"week\", \"week_number\", \"rain_yesterday\", \"rain_tomorrow\", \"men1_pred\"]]\n",
    "df_y = df_train[[\"men1\"]]\n",
    "df_test3[\"men1_pred\"] = df_test[\"men1_0.5\"]\n",
    "df_x_test = df_test3[[\"highest\", \"lowest\", \"rain\", \"month\", \"day\", \"week\", \"week_number\", \"rain_yesterday\", \"rain_tomorrow\", \"men1_pred\"]]\n",
    "x_train, x_valid, y_train, y_valid= train_test_split(df_x, df_y, test_size=0.3, random_state=0)\n",
    "xgb(\"men1\")"
   ]
  },
  {
   "cell_type": "code",
   "execution_count": null,
   "id": "47e4fb72",
   "metadata": {},
   "outputs": [],
   "source": [
    "#men2\n",
    "df_x = df_train[[\"highest\", \"lowest\", \"rain\", \"month\", \"day\", \"week\", \"week_number\", \"rain_yesterday\", \"rain_tomorrow\", \"men2_pred\"]]\n",
    "df_y = df_train[[\"men2\"]]\n",
    "df_test3[\"men2_pred\"] = df_test[\"men2_0.5\"]\n",
    "df_x_test = df_test3[[\"highest\", \"lowest\", \"rain\", \"month\", \"day\", \"week\", \"week_number\", \"rain_yesterday\", \"rain_tomorrow\", \"men2_pred\"]]\n",
    "x_train, x_valid, y_train, y_valid= train_test_split(df_x, df_y, test_size=0.3, random_state=0)\n",
    "xgb(\"men2\")"
   ]
  },
  {
   "cell_type": "code",
   "execution_count": null,
   "id": "06233afd",
   "metadata": {},
   "outputs": [],
   "source": [
    "#men3\n",
    "df_x = df_train[[\"highest\", \"lowest\", \"rain\", \"month\", \"day\", \"week\", \"week_number\", \"rain_yesterday\", \"rain_tomorrow\", \"men3_pred\"]]\n",
    "df_y = df_train[[\"men3\"]]\n",
    "df_test3[\"men3_pred\"] = df_test[\"men3_0.5\"]\n",
    "df_x_test = df_test3[[\"highest\", \"lowest\", \"rain\", \"month\", \"day\", \"week\", \"week_number\", \"rain_yesterday\", \"rain_tomorrow\", \"men3_pred\"]]\n",
    "x_train, x_valid, y_train, y_valid= train_test_split(df_x, df_y, test_size=0.3, random_state=0)\n",
    "xgb(\"men3\")"
   ]
  },
  {
   "cell_type": "code",
   "execution_count": null,
   "id": "8426bccc",
   "metadata": {},
   "outputs": [],
   "source": [
    "#men4\n",
    "df_x = df_train[[\"highest\", \"lowest\", \"rain\", \"month\", \"day\", \"week\", \"week_number\", \"rain_yesterday\", \"rain_tomorrow\", \"men4_pred\"]]\n",
    "df_y = df_train[[\"men4\"]]\n",
    "df_test3[\"men4_pred\"] = df_test[\"men4_0.5\"]\n",
    "df_x_test = df_test3[[\"highest\", \"lowest\", \"rain\", \"month\", \"day\", \"week\", \"week_number\", \"rain_yesterday\", \"rain_tomorrow\", \"men4_pred\"]]\n",
    "x_train, x_valid, y_train, y_valid= train_test_split(df_x, df_y, test_size=0.3, random_state=0)\n",
    "xgb(\"men4\")"
   ]
  },
  {
   "cell_type": "code",
   "execution_count": null,
   "id": "9836a69a",
   "metadata": {},
   "outputs": [],
   "source": [
    "#men5\n",
    "df_x = df_train[[\"highest\", \"lowest\", \"rain\", \"month\", \"day\", \"week\", \"week_number\", \"rain_yesterday\", \"rain_tomorrow\", \"men5_pred\"]]\n",
    "df_y = df_train[[\"men5\"]]\n",
    "df_test3[\"men5_pred\"] = df_test[\"men5_0.5\"]\n",
    "df_x_test = df_test3[[\"highest\", \"lowest\", \"rain\", \"month\", \"day\", \"week\", \"week_number\", \"rain_yesterday\", \"rain_tomorrow\", \"men5_pred\"]]\n",
    "x_train, x_valid, y_train, y_valid= train_test_split(df_x, df_y, test_size=0.3, random_state=0)\n",
    "xgb(\"men5\")"
   ]
  },
  {
   "cell_type": "code",
   "execution_count": null,
   "id": "620d1e15",
   "metadata": {},
   "outputs": [],
   "source": [
    "#men6\n",
    "df_x = df_train[[\"highest\", \"lowest\", \"rain\", \"month\", \"day\", \"week\", \"week_number\", \"rain_yesterday\", \"rain_tomorrow\", \"men6_pred\"]]\n",
    "df_y = df_train[[\"men6\"]]\n",
    "df_test3[\"men6_pred\"] = df_test[\"men6_0.5\"]\n",
    "df_x_test = df_test3[[\"highest\", \"lowest\", \"rain\", \"month\", \"day\", \"week\", \"week_number\", \"rain_yesterday\", \"rain_tomorrow\", \"men6_pred\"]]\n",
    "x_train, x_valid, y_train, y_valid= train_test_split(df_x, df_y, test_size=0.3, random_state=0)\n",
    "xgb(\"men6\")"
   ]
  },
  {
   "cell_type": "code",
   "execution_count": null,
   "id": "0320188f",
   "metadata": {},
   "outputs": [],
   "source": [
    "#df_submission = pd.read_csv(\"submission.csv\")\n",
    "#column = np.array(df_submission.columns)\n",
    "df_test3_sub = df_test3[column]\n",
    "df_test3_sub\n",
    "df_test3_seisu = df_test3_sub.round()\n",
    "#df_test3_seisu.to_csv(\"final_submission-xgb.csv\", index = False)"
   ]
  },
  {
   "cell_type": "markdown",
   "id": "b51570d0",
   "metadata": {},
   "source": [
    "# XGBのスコア Public LB 0.877"
   ]
  },
  {
   "cell_type": "markdown",
   "id": "df4440bd",
   "metadata": {},
   "source": [
    "# Randam Forest"
   ]
  },
  {
   "cell_type": "code",
   "execution_count": null,
   "id": "a5d34805",
   "metadata": {},
   "outputs": [],
   "source": [
    "def rfr(y_name):\n",
    "    search_params = {\n",
    "        'n_estimators'      : [50, 200, 500],\n",
    "        'random_state'      : [0],\n",
    "        'max_features': ['auto', 'sqrt', 'log2'],\n",
    "        'max_depth'         : [4, 5, 6, 7, 8], \n",
    "    }\n",
    "\n",
    "    rfr_cv = GridSearchCV(\n",
    "        RFR(),\n",
    "        search_params,\n",
    "        cv = 5,\n",
    "        n_jobs = -1,\n",
    "        verbose=True\n",
    "    )\n",
    "\n",
    "    rfr_cv.fit(df_x, df_y[y_name])\n",
    "    \n",
    "    best_rfc=rfr_cv.best_estimator_\n",
    "\n",
    "    plt.figure(figsize=(8, 4))\n",
    "    pred = best_rfc.predict(df_x)\n",
    "\n",
    "    #分位点検量線モデル作成    \n",
    "    cmap = plt.cm.viridis(np.linspace(0., 1., 5))\n",
    "\n",
    "    X = sm.add_constant(pred)\n",
    "    model = QuantReg(df_y[y_name], X)\n",
    "\n",
    "    taus = np.array([0.01, 0.1, 0.5, 0.9, 0.99])\n",
    "    m = len(taus) \n",
    "    N = len(pred)\n",
    "    Y = np.zeros((m, N))\n",
    "\n",
    "    for i in range(m):    \n",
    "        results = model.fit(q=taus[i])\n",
    "        y_hat = X @ results.params\n",
    "        Y[i] = y_hat\n",
    "\n",
    "    plt.subplot(1,2,2)\n",
    "    plt.scatter(pred, df_y[y_name], color = \"gray\")\n",
    "    for i in range(m):\n",
    "        plt.plot([min(pred), max(pred)], [min(Y[i]), max(Y[i])], linewidth=2,\n",
    "                  color=cmap[i], label=r\"$\\tau=$\"+str(taus[i]))\n",
    "    plt.xlabel(\"y_cal\")\n",
    "    plt.ylabel(\"y\")\n",
    "    plt.legend()\n",
    "    \n",
    "    \n",
    "    #テストデータ予測\n",
    "    pred_test =  best_rfc.predict(df_x_test)\n",
    "    X = sm.add_constant(pred_test)\n",
    "\n",
    "    Y2 = np.zeros((m, len(X)))\n",
    "\n",
    "    for i in range(m):    \n",
    "        results = model.fit(q=taus[i])\n",
    "        y_hat = X @ results.params\n",
    "        Y2[i] = y_hat\n",
    "    \n",
    "    #結果をテストデータに追加\n",
    "    for i in range(m):\n",
    "        df_test4[y_name+\"_\"+str(taus[i])]=Y2[i]"
   ]
  },
  {
   "cell_type": "code",
   "execution_count": null,
   "id": "8b58b9cd",
   "metadata": {},
   "outputs": [],
   "source": [
    "#dessert1\n",
    "df_x = df_train[[\"highest\", \"lowest\", \"rain\", \"month\", \"day\", \"week\", \"week_number\", \"rain_yesterday\", \"rain_tomorrow\", \"pred_dessert1\"]]\n",
    "df_y = df_train[[\"dessert1\"]]\n",
    "df_test4[\"pred_dessert1\"] = df_test[\"dessert1_0.5\"]\n",
    "df_x_test = df_test4[[\"highest\", \"lowest\", \"rain\", \"month\", \"day\", \"week\", \"week_number\", \"rain_yesterday\", \"rain_tomorrow\", \"pred_dessert1\"]]\n",
    "x_train, x_valid, y_train, y_valid= train_test_split(df_x, df_y, test_size=0.3, random_state=0)\n",
    "rfr(\"dessert1\")"
   ]
  },
  {
   "cell_type": "code",
   "execution_count": null,
   "id": "cfcafc3a",
   "metadata": {},
   "outputs": [],
   "source": [
    "#dessert2\n",
    "df_x = df_train[[\"highest\", \"lowest\", \"rain\", \"month\", \"day\", \"week\", \"week_number\", \"rain_yesterday\", \"rain_tomorrow\", \"pred_dessert2\"]]\n",
    "df_y = df_train[[\"dessert2\"]]\n",
    "df_test4[\"pred_dessert2\"] = df_test[\"dessert2_0.5\"]\n",
    "df_x_test = df_test4[[\"highest\", \"lowest\", \"rain\", \"month\", \"day\", \"week\", \"week_number\", \"rain_yesterday\", \"rain_tomorrow\", \"pred_dessert2\"]]\n",
    "x_train, x_valid, y_train, y_valid= train_test_split(df_x, df_y, test_size=0.3, random_state=0)\n",
    "rfr(\"dessert2\")"
   ]
  },
  {
   "cell_type": "code",
   "execution_count": null,
   "id": "c1431518",
   "metadata": {},
   "outputs": [],
   "source": [
    "#dessert3\n",
    "df_x = df_train[[\"highest\", \"lowest\", \"rain\", \"month\", \"day\", \"week\", \"week_number\", \"rain_yesterday\", \"rain_tomorrow\", \"pred_dessert3\"]]\n",
    "df_y = df_train[[\"dessert3\"]]\n",
    "df_test4[\"pred_dessert3\"] = df_test[\"dessert3_0.5\"]\n",
    "df_x_test = df_test4[[\"highest\", \"lowest\", \"rain\", \"month\", \"day\", \"week\", \"week_number\", \"rain_yesterday\", \"rain_tomorrow\", \"pred_dessert3\"]]\n",
    "x_train, x_valid, y_train, y_valid= train_test_split(df_x, df_y, test_size=0.3, random_state=0)\n",
    "rfr(\"dessert3\")"
   ]
  },
  {
   "cell_type": "code",
   "execution_count": null,
   "id": "4377da76",
   "metadata": {},
   "outputs": [],
   "source": [
    "#dessert4\n",
    "df_x = df_train[[\"highest\", \"lowest\", \"rain\", \"month\", \"day\", \"week\", \"week_number\", \"rain_yesterday\", \"rain_tomorrow\", \"pred_dessert4\"]]\n",
    "df_y = df_train[[\"dessert4\"]]\n",
    "df_test4[\"pred_dessert4\"] = df_test[\"dessert4_0.5\"]\n",
    "df_x_test = df_test4[[\"highest\", \"lowest\", \"rain\", \"month\", \"day\", \"week\", \"week_number\", \"rain_yesterday\", \"rain_tomorrow\", \"pred_dessert4\"]]\n",
    "x_train, x_valid, y_train, y_valid= train_test_split(df_x, df_y, test_size=0.3, random_state=0)\n",
    "rfr(\"dessert4\")"
   ]
  },
  {
   "cell_type": "code",
   "execution_count": null,
   "id": "2567bb14",
   "metadata": {},
   "outputs": [],
   "source": [
    "#dessert5\n",
    "df_x = df_train[[\"highest\", \"lowest\", \"rain\", \"month\", \"day\", \"week\", \"week_number\", \"rain_yesterday\", \"rain_tomorrow\", \"pred_dessert5\"]]\n",
    "df_y = df_train[[\"dessert5\"]]\n",
    "df_test4[\"pred_dessert5\"] = df_test[\"dessert5_0.5\"]\n",
    "df_x_test = df_test4[[\"highest\", \"lowest\", \"rain\", \"month\", \"day\", \"week\", \"week_number\", \"rain_yesterday\", \"rain_tomorrow\", \"pred_dessert5\"]]\n",
    "x_train, x_valid, y_train, y_valid= train_test_split(df_x, df_y, test_size=0.3, random_state=0)\n",
    "rfr(\"dessert5\")"
   ]
  },
  {
   "cell_type": "code",
   "execution_count": null,
   "id": "1195dc26",
   "metadata": {},
   "outputs": [],
   "source": [
    "plt.figure(figsize=(15, 8))\n",
    "for i in range(5):\n",
    "    plt.subplot(2,3,i+1)    \n",
    "    plt.scatter(df_train[\"day\"],df_train[\"dessert\"+str(i+1)])\n",
    "    plt.scatter(df_test4[\"day\"],df_test4[\"dessert\"+str(i+1)+\"_0.01\"])\n",
    "    plt.scatter(df_test4[\"day\"],df_test4[\"dessert\"+str(i+1)+\"_0.1\"])\n",
    "    plt.scatter(df_test4[\"day\"],df_test4[\"dessert\"+str(i+1)+\"_0.5\"])\n",
    "    plt.scatter(df_test4[\"day\"],df_test4[\"dessert\"+str(i+1)+\"_0.9\"])\n",
    "    plt.scatter(df_test4[\"day\"],df_test4[\"dessert\"+str(i+1)+\"_0.99\"])\n",
    "    plt.xlabel(\"day\")\n",
    "    plt.ylabel(\"dessert\"+str(i+1))"
   ]
  },
  {
   "cell_type": "code",
   "execution_count": null,
   "id": "f11de9da",
   "metadata": {},
   "outputs": [],
   "source": [
    "plt.figure(figsize=(15, 16))\n",
    "for i in range(5):\n",
    "    plt.subplot(5,1,i+1)    \n",
    "    plt.scatter(df_train[\"day\"],df_train[\"dessert\"+str(i+1)])\n",
    "    plt.scatter(df_test4[\"day\"],(df_test4[\"dessert\"+str(i+1)+\"_0.01\"]+df_test[\"dessert\"+str(i+1)+\"_0.01\"])/2)\n",
    "    plt.scatter(df_test4[\"day\"],(df_test4[\"dessert\"+str(i+1)+\"_0.1\"]+df_test[\"dessert\"+str(i+1)+\"_0.1\"])/2)\n",
    "    plt.scatter(df_test4[\"day\"],(df_test4[\"dessert\"+str(i+1)+\"_0.5\"]+df_test[\"dessert\"+str(i+1)+\"_0.5\"])/2)\n",
    "    plt.scatter(df_test4[\"day\"],(df_test4[\"dessert\"+str(i+1)+\"_0.9\"]+df_test[\"dessert\"+str(i+1)+\"_0.9\"])/2)\n",
    "    plt.scatter(df_test4[\"day\"],(df_test4[\"dessert\"+str(i+1)+\"_0.99\"]+df_test[\"dessert\"+str(i+1)+\"_0.99\"])/2)\n",
    "    plt.xlabel(\"day\")\n",
    "    plt.ylabel(\"dessert\"+str(i+1))"
   ]
  },
  {
   "cell_type": "code",
   "execution_count": null,
   "id": "6e9b4eec",
   "metadata": {},
   "outputs": [],
   "source": [
    "for i in range(5):\n",
    "    df_test4[\"dessert\"+str(i+1)+\"_0.01\"] = (df_test4[\"dessert\"+str(i+1)+\"_0.01\"]+df_test[\"dessert\"+str(i+1)+\"_0.01\"])/2\n",
    "    df_test4[\"dessert\"+str(i+1)+\"_0.1\"] = (df_test4[\"dessert\"+str(i+1)+\"_0.1\"]+df_test[\"dessert\"+str(i+1)+\"_0.1\"])/2\n",
    "    df_test4[\"dessert\"+str(i+1)+\"_0.5\"] = (df_test4[\"dessert\"+str(i+1)+\"_0.5\"]+df_test[\"dessert\"+str(i+1)+\"_0.5\"])/2\n",
    "    df_test4[\"dessert\"+str(i+1)+\"_0.9\"] = (df_test4[\"dessert\"+str(i+1)+\"_0.9\"]+df_test[\"dessert\"+str(i+1)+\"_0.9\"])/2\n",
    "    df_test4[\"dessert\"+str(i+1)+\"_0.99\"] = (df_test4[\"dessert\"+str(i+1)+\"_0.99\"]+df_test[\"dessert\"+str(i+1)+\"_0.99\"])/2"
   ]
  },
  {
   "cell_type": "code",
   "execution_count": null,
   "id": "b9bb4047",
   "metadata": {},
   "outputs": [],
   "source": [
    "#snack1\n",
    "df_x = df_train[[\"highest\", \"lowest\", \"rain\", \"month\", \"day\", \"week\", \"week_number\", \"rain_yesterday\", \"rain_tomorrow\", \"pred_snack1\"]]\n",
    "df_y = df_train[[\"snack1\"]]\n",
    "df_test4[\"pred_snack1\"] = df_test[\"snack1_0.5\"]\n",
    "df_x_test = df_test4[[\"highest\", \"lowest\", \"rain\", \"month\", \"day\", \"week\", \"week_number\", \"rain_yesterday\", \"rain_tomorrow\", \"pred_snack1\"]]\n",
    "x_train, x_valid, y_train, y_valid= train_test_split(df_x, df_y, test_size=0.3, random_state=0)\n",
    "rfr(\"snack1\")"
   ]
  },
  {
   "cell_type": "code",
   "execution_count": null,
   "id": "ea072737",
   "metadata": {},
   "outputs": [],
   "source": [
    "#snack2\n",
    "df_x = df_train[[\"highest\", \"lowest\", \"rain\", \"month\", \"day\", \"week\", \"week_number\", \"rain_yesterday\", \"rain_tomorrow\", \"pred_snack2\"]]\n",
    "df_y = df_train[[\"snack2\"]]\n",
    "df_test4[\"pred_snack2\"] = df_test[\"snack2_0.5\"]\n",
    "df_x_test = df_test4[[\"highest\", \"lowest\", \"rain\", \"month\", \"day\", \"week\", \"week_number\", \"rain_yesterday\", \"rain_tomorrow\", \"pred_snack2\"]]\n",
    "x_train, x_valid, y_train, y_valid= train_test_split(df_x, df_y, test_size=0.3, random_state=0)\n",
    "rfr(\"snack2\")"
   ]
  },
  {
   "cell_type": "code",
   "execution_count": null,
   "id": "7116e85d",
   "metadata": {},
   "outputs": [],
   "source": [
    "#snack3\n",
    "df_x = df_train[[\"highest\", \"lowest\", \"rain\", \"month\", \"day\", \"week\", \"week_number\", \"rain_yesterday\", \"rain_tomorrow\", \"pred_snack3\"]]\n",
    "df_y = df_train[[\"snack3\"]]\n",
    "df_test4[\"pred_snack3\"] = df_test[\"snack3_0.5\"]\n",
    "df_x_test = df_test4[[\"highest\", \"lowest\", \"rain\", \"month\", \"day\", \"week\", \"week_number\", \"rain_yesterday\", \"rain_tomorrow\", \"pred_snack3\"]]\n",
    "x_train, x_valid, y_train, y_valid= train_test_split(df_x, df_y, test_size=0.3, random_state=0)\n",
    "rfr(\"snack3\")"
   ]
  },
  {
   "cell_type": "code",
   "execution_count": null,
   "id": "a69543ea",
   "metadata": {},
   "outputs": [],
   "source": [
    "#bento1\n",
    "df_x = df_train[[\"highest\", \"lowest\", \"rain\", \"month\", \"day\", \"week\", \"week_number\", \"rain_yesterday\", \"rain_tomorrow\", \"pred_bento1\"]]\n",
    "df_y = df_train[[\"bento1\"]]\n",
    "df_test4[\"pred_bento1\"] = df_test[\"bento1_0.5\"]\n",
    "df_x_test = df_test4[[\"highest\", \"lowest\", \"rain\", \"month\", \"day\", \"week\", \"week_number\", \"rain_yesterday\", \"rain_tomorrow\", \"pred_bento1\"]]\n",
    "x_train, x_valid, y_train, y_valid= train_test_split(df_x, df_y, test_size=0.3, random_state=0)\n",
    "rfr(\"bento1\")"
   ]
  },
  {
   "cell_type": "code",
   "execution_count": null,
   "id": "276eed4f",
   "metadata": {},
   "outputs": [],
   "source": [
    "#bento2\n",
    "df_x = df_train[[\"highest\", \"lowest\", \"rain\", \"month\", \"day\", \"week\", \"week_number\", \"rain_yesterday\", \"rain_tomorrow\", \"pred_bento2\"]]\n",
    "df_y = df_train[[\"bento2\"]]\n",
    "df_test4[\"pred_bento2\"] = df_test[\"bento2_0.5\"]\n",
    "df_x_test = df_test4[[\"highest\", \"lowest\", \"rain\", \"month\", \"day\", \"week\", \"week_number\", \"rain_yesterday\", \"rain_tomorrow\", \"pred_bento2\"]]\n",
    "x_train, x_valid, y_train, y_valid= train_test_split(df_x, df_y, test_size=0.3, random_state=0)\n",
    "rfr(\"bento2\")"
   ]
  },
  {
   "cell_type": "code",
   "execution_count": null,
   "id": "ce8c1145",
   "metadata": {},
   "outputs": [],
   "source": [
    "#bento3\n",
    "df_x = df_train[[\"highest\", \"lowest\", \"rain\", \"month\", \"day\", \"week\", \"week_number\", \"rain_yesterday\", \"rain_tomorrow\", \"pred_bento3\"]]\n",
    "df_y = df_train[[\"bento3\"]]\n",
    "df_test4[\"pred_bento3\"] = df_test[\"bento3_0.5\"]\n",
    "df_x_test = df_test4[[\"highest\", \"lowest\", \"rain\", \"month\", \"day\", \"week\", \"week_number\", \"rain_yesterday\", \"rain_tomorrow\", \"pred_bento3\"]]\n",
    "x_train, x_valid, y_train, y_valid= train_test_split(df_x, df_y, test_size=0.3, random_state=0)\n",
    "rfr(\"bento3\")"
   ]
  },
  {
   "cell_type": "code",
   "execution_count": null,
   "id": "10f12712",
   "metadata": {},
   "outputs": [],
   "source": [
    "#bento4\n",
    "df_x = df_train[[\"highest\", \"lowest\", \"rain\", \"month\", \"day\", \"week\", \"week_number\", \"rain_yesterday\", \"rain_tomorrow\", \"pred_bento4\"]]\n",
    "df_y = df_train[[\"bento4\"]]\n",
    "df_test4[\"pred_bento4\"] = df_test[\"bento4_0.5\"]\n",
    "df_x_test = df_test4[[\"highest\", \"lowest\", \"rain\", \"month\", \"day\", \"week\", \"week_number\", \"rain_yesterday\", \"rain_tomorrow\", \"pred_bento4\"]]\n",
    "x_train, x_valid, y_train, y_valid= train_test_split(df_x, df_y, test_size=0.3, random_state=0)\n",
    "rfr(\"bento4\")"
   ]
  },
  {
   "cell_type": "code",
   "execution_count": null,
   "id": "60e5a09c",
   "metadata": {},
   "outputs": [],
   "source": [
    "#tild1\n",
    "df_x = df_train[[\"highest\", \"lowest\", \"rain\", \"month\", \"day\", \"week\", \"week_number\", \"rain_yesterday\", \"rain_tomorrow\", \"tild1_pred\"]]\n",
    "df_y = df_train[[\"tild1\"]]\n",
    "df_test4[\"tild1_pred\"] = df_test[\"tild1_0.5\"]\n",
    "df_x_test = df_test4[[\"highest\", \"lowest\", \"rain\", \"month\", \"day\", \"week\", \"week_number\", \"rain_yesterday\", \"rain_tomorrow\", \"tild1_pred\"]]\n",
    "x_train, x_valid, y_train, y_valid= train_test_split(df_x, df_y, test_size=0.3, random_state=0)\n",
    "rfr(\"tild1\")"
   ]
  },
  {
   "cell_type": "code",
   "execution_count": null,
   "id": "e943f90b",
   "metadata": {},
   "outputs": [],
   "source": [
    "#tild2\n",
    "df_x = df_train[[\"highest\", \"lowest\", \"rain\", \"month\", \"day\", \"week\", \"week_number\", \"rain_yesterday\", \"rain_tomorrow\", \"tild2_pred\"]]\n",
    "df_y = df_train[[\"tild2\"]]\n",
    "df_test4[\"tild2_pred\"] = df_test[\"tild2_0.5\"]\n",
    "df_x_test = df_test4[[\"highest\", \"lowest\", \"rain\", \"month\", \"day\", \"week\", \"week_number\", \"rain_yesterday\", \"rain_tomorrow\", \"tild2_pred\"]]\n",
    "x_train, x_valid, y_train, y_valid= train_test_split(df_x, df_y, test_size=0.3, random_state=0)\n",
    "rfr(\"tild2\")"
   ]
  },
  {
   "cell_type": "code",
   "execution_count": null,
   "id": "65e19fe7",
   "metadata": {},
   "outputs": [],
   "source": [
    "#men1\n",
    "df_x = df_train[[\"highest\", \"lowest\", \"rain\", \"month\", \"day\", \"week\", \"week_number\", \"rain_yesterday\", \"rain_tomorrow\", \"men1_pred\"]]\n",
    "df_y = df_train[[\"men1\"]]\n",
    "df_test4[\"men1_pred\"] = df_test[\"men1_0.5\"]\n",
    "df_x_test = df_test4[[\"highest\", \"lowest\", \"rain\", \"month\", \"day\", \"week\", \"week_number\", \"rain_yesterday\", \"rain_tomorrow\", \"men1_pred\"]]\n",
    "x_train, x_valid, y_train, y_valid= train_test_split(df_x, df_y, test_size=0.3, random_state=0)\n",
    "rfr(\"men1\")"
   ]
  },
  {
   "cell_type": "code",
   "execution_count": null,
   "id": "075da46f",
   "metadata": {},
   "outputs": [],
   "source": [
    "#men2\n",
    "df_x = df_train[[\"highest\", \"lowest\", \"rain\", \"month\", \"day\", \"week\", \"week_number\", \"rain_yesterday\", \"rain_tomorrow\", \"men2_pred\"]]\n",
    "df_y = df_train[[\"men2\"]]\n",
    "df_test4[\"men2_pred\"] = df_test[\"men2_0.5\"]\n",
    "df_x_test = df_test4[[\"highest\", \"lowest\", \"rain\", \"month\", \"day\", \"week\", \"week_number\", \"rain_yesterday\", \"rain_tomorrow\", \"men2_pred\"]]\n",
    "x_train, x_valid, y_train, y_valid= train_test_split(df_x, df_y, test_size=0.3, random_state=0)\n",
    "rfr(\"men2\")"
   ]
  },
  {
   "cell_type": "code",
   "execution_count": null,
   "id": "86b19196",
   "metadata": {},
   "outputs": [],
   "source": [
    "#men3\n",
    "df_x = df_train[[\"highest\", \"lowest\", \"rain\", \"month\", \"day\", \"week\", \"week_number\", \"rain_yesterday\", \"rain_tomorrow\", \"men3_pred\"]]\n",
    "df_y = df_train[[\"men3\"]]\n",
    "df_test4[\"men3_pred\"] = df_test[\"men3_0.5\"]\n",
    "df_x_test = df_test4[[\"highest\", \"lowest\", \"rain\", \"month\", \"day\", \"week\", \"week_number\", \"rain_yesterday\", \"rain_tomorrow\", \"men3_pred\"]]\n",
    "x_train, x_valid, y_train, y_valid= train_test_split(df_x, df_y, test_size=0.3, random_state=0)\n",
    "rfr(\"men3\")"
   ]
  },
  {
   "cell_type": "code",
   "execution_count": null,
   "id": "4a2d7b4a",
   "metadata": {},
   "outputs": [],
   "source": [
    "#men4\n",
    "df_x = df_train[[\"highest\", \"lowest\", \"rain\", \"month\", \"day\", \"week\", \"week_number\", \"rain_yesterday\", \"rain_tomorrow\", \"men4_pred\"]]\n",
    "df_y = df_train[[\"men4\"]]\n",
    "df_test4[\"men4_pred\"] = df_test[\"men4_0.5\"]\n",
    "df_x_test = df_test4[[\"highest\", \"lowest\", \"rain\", \"month\", \"day\", \"week\", \"week_number\", \"rain_yesterday\", \"rain_tomorrow\", \"men4_pred\"]]\n",
    "x_train, x_valid, y_train, y_valid= train_test_split(df_x, df_y, test_size=0.3, random_state=0)\n",
    "rfr(\"men4\")"
   ]
  },
  {
   "cell_type": "code",
   "execution_count": null,
   "id": "2e2579d6",
   "metadata": {},
   "outputs": [],
   "source": [
    "#men5\n",
    "df_x = df_train[[\"highest\", \"lowest\", \"rain\", \"month\", \"day\", \"week\", \"week_number\", \"rain_yesterday\", \"rain_tomorrow\", \"men5_pred\"]]\n",
    "df_y = df_train[[\"men5\"]]\n",
    "df_test4[\"men5_pred\"] = df_test[\"men5_0.5\"]\n",
    "df_x_test = df_test4[[\"highest\", \"lowest\", \"rain\", \"month\", \"day\", \"week\", \"week_number\", \"rain_yesterday\", \"rain_tomorrow\", \"men5_pred\"]]\n",
    "x_train, x_valid, y_train, y_valid= train_test_split(df_x, df_y, test_size=0.3, random_state=0)\n",
    "rfr(\"men5\")"
   ]
  },
  {
   "cell_type": "code",
   "execution_count": null,
   "id": "33bc5706",
   "metadata": {
    "scrolled": false
   },
   "outputs": [],
   "source": [
    "#men6\n",
    "df_x = df_train[[\"highest\", \"lowest\", \"rain\", \"month\", \"day\", \"week\", \"week_number\", \"rain_yesterday\", \"rain_tomorrow\", \"men6_pred\"]]\n",
    "df_y = df_train[[\"men6\"]]\n",
    "df_test4[\"men6_pred\"] = df_test[\"men6_0.5\"]\n",
    "df_x_test = df_test4[[\"highest\", \"lowest\", \"rain\", \"month\", \"day\", \"week\", \"week_number\", \"rain_yesterday\", \"rain_tomorrow\", \"men6_pred\"]]\n",
    "x_train, x_valid, y_train, y_valid= train_test_split(df_x, df_y, test_size=0.3, random_state=0)\n",
    "rfr(\"men6\")"
   ]
  },
  {
   "cell_type": "code",
   "execution_count": null,
   "id": "80a00147",
   "metadata": {},
   "outputs": [],
   "source": [
    "#df_submission = pd.read_csv(\"submission.csv\")\n",
    "#column = np.array(df_submission.columns)\n",
    "df_test4_sub = df_test4[column]\n",
    "df_test4_sub\n",
    "df_test4_seisu = df_test4_sub.round()\n",
    "#df_test4_seisu.to_csv(\"final_submission-rfr.csv\", index = False)"
   ]
  },
  {
   "cell_type": "markdown",
   "id": "445cb2f0",
   "metadata": {},
   "source": [
    "# RFRのスコア Public LB 0.887"
   ]
  },
  {
   "cell_type": "markdown",
   "id": "5e346ab5",
   "metadata": {},
   "source": [
    "# Averaging"
   ]
  },
  {
   "cell_type": "code",
   "execution_count": null,
   "id": "42eaeb3f",
   "metadata": {},
   "outputs": [],
   "source": [
    "df_sub_ave = (df_test2_sub+df_test3_sub+df_test4_sub)/3\n",
    "df_sub_ave"
   ]
  },
  {
   "cell_type": "code",
   "execution_count": null,
   "id": "e5a6c46a",
   "metadata": {},
   "outputs": [],
   "source": [
    "#df_submission = pd.read_csv(\"submission.csv\")\n",
    "#column = np.array(df_submission.columns)\n",
    "df_sub_ave_seisu = df_sub_ave.round()\n",
    "df_sub_ave_seisu.to_csv(\"final_submission-ave.csv\", index = False)"
   ]
  },
  {
   "cell_type": "markdown",
   "id": "6050322d",
   "metadata": {},
   "source": [
    "# 最終スコア Public LB 0.864"
   ]
  },
  {
   "cell_type": "code",
   "execution_count": null,
   "id": "cee1fa51",
   "metadata": {},
   "outputs": [],
   "source": []
  },
  {
   "cell_type": "code",
   "execution_count": null,
   "id": "2baffc5e",
   "metadata": {},
   "outputs": [],
   "source": []
  }
 ],
 "metadata": {
  "kernelspec": {
   "display_name": "Python 3 (ipykernel)",
   "language": "python",
   "name": "python3"
  },
  "language_info": {
   "codemirror_mode": {
    "name": "ipython",
    "version": 3
   },
   "file_extension": ".py",
   "mimetype": "text/x-python",
   "name": "python",
   "nbconvert_exporter": "python",
   "pygments_lexer": "ipython3",
   "version": "3.10.7"
  }
 },
 "nbformat": 4,
 "nbformat_minor": 5
}
